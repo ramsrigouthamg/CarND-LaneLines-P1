{
 "cells": [
  {
   "cell_type": "markdown",
   "metadata": {},
   "source": [
    "# **Finding Lane Lines on the Road** \n",
    "***\n",
    "In this project, you will use the tools you learned about in the lesson to identify lane lines on the road.  You can develop your pipeline on a series of individual images, and later apply the result to a video stream (really just a series of images). Check out the video clip \"raw-lines-example.mp4\" (also contained in this repository) to see what the output should look like after using the helper functions below. \n",
    "\n",
    "Once you have a result that looks roughly like \"raw-lines-example.mp4\", you'll need to get creative and try to average and/or extrapolate the line segments you've detected to map out the full extent of the lane lines.  You can see an example of the result you're going for in the video \"P1_example.mp4\".  Ultimately, you would like to draw just one line for the left side of the lane, and one for the right.\n",
    "\n",
    "---\n",
    "Let's have a look at our first image called 'test_images/solidWhiteRight.jpg'.  Run the 2 cells below (hit Shift-Enter or the \"play\" button above) to display the image.\n",
    "\n",
    "**Note** If, at any point, you encounter frozen display windows or other confounding issues, you can always start again with a clean slate by going to the \"Kernel\" menu above and selecting \"Restart & Clear Output\".\n",
    "\n",
    "---"
   ]
  },
  {
   "cell_type": "markdown",
   "metadata": {},
   "source": [
    "**The tools you have are color selection, region of interest selection, grayscaling, Gaussian smoothing, Canny Edge Detection and Hough Tranform line detection.  You  are also free to explore and try other techniques that were not presented in the lesson.  Your goal is piece together a pipeline to detect the line segments in the image, then average/extrapolate them and draw them onto the image for display (as below).  Once you have a working pipeline, try it out on the video stream below.**\n",
    "\n",
    "---\n",
    "\n",
    "<figure>\n",
    " <img src=\"line-segments-example.jpg\" width=\"380\" alt=\"Combined Image\" />\n",
    " <figcaption>\n",
    " <p></p> \n",
    " <p style=\"text-align: center;\"> Your output should look something like this (above) after detecting line segments using the helper functions below </p> \n",
    " </figcaption>\n",
    "</figure>\n",
    " <p></p> \n",
    "<figure>\n",
    " <img src=\"laneLines_thirdPass.jpg\" width=\"380\" alt=\"Combined Image\" />\n",
    " <figcaption>\n",
    " <p></p> \n",
    " <p style=\"text-align: center;\"> Your goal is to connect/average/extrapolate line segments to get output like this</p> \n",
    " </figcaption>\n",
    "</figure>"
   ]
  },
  {
   "cell_type": "code",
   "execution_count": 1,
   "metadata": {
    "collapsed": false
   },
   "outputs": [],
   "source": [
    "#importing some useful packages\n",
    "import matplotlib.pyplot as plt\n",
    "import matplotlib.image as mpimg\n",
    "import numpy as np\n",
    "import cv2\n",
    "import datetime\n",
    "%matplotlib inline"
   ]
  },
  {
   "cell_type": "code",
   "execution_count": null,
   "metadata": {
    "collapsed": false
   },
   "outputs": [],
   "source": [
    "\n"
   ]
  },
  {
   "cell_type": "markdown",
   "metadata": {},
   "source": [
    "**Some OpenCV functions (beyond those introduced in the lesson) that might be useful for this project are:**\n",
    "\n",
    "`cv2.inRange()` for color selection  \n",
    "`cv2.fillPoly()` for regions selection  \n",
    "`cv2.line()` to draw lines on an image given endpoints  \n",
    "`cv2.addWeighted()` to coadd / overlay two images\n",
    "`cv2.cvtColor()` to grayscale or change color\n",
    "`cv2.imwrite()` to output images to file  \n",
    "`cv2.bitwise_and()` to apply a mask to an image\n",
    "\n",
    "**Check out the OpenCV documentation to learn about these and discover even more awesome functionality!**"
   ]
  },
  {
   "cell_type": "markdown",
   "metadata": {},
   "source": [
    "If cvFitLine() returns normalized vector (vx,vy) and point (x0,y0), then the equation of the line is\n",
    "\n",
    "(x,y) = (x0,y0) + t*(vx,vy)\n",
    "\n",
    "where t runs from −∞ to +∞.\n",
    "\n",
    "Just draw a big line instead of solving for the boundaries. eg:\n",
    "\n",
    "cv.Line(img, (x0-m*vx[0], y0-m*vy[0]), (x0+m*vx[0], y0+m*vy[0]), (0,0,0))"
   ]
  },
  {
   "cell_type": "markdown",
   "metadata": {},
   "source": [
    "Below are some helper functions to help get you started. They should look familiar from the lesson!"
   ]
  },
  {
   "cell_type": "code",
   "execution_count": 2,
   "metadata": {
    "collapsed": false
   },
   "outputs": [],
   "source": [
    "import math\n",
    "\n",
    "def grayscale(img):\n",
    "    \"\"\"Applies the Grayscale transform\n",
    "    This will return an image with only one color channel\n",
    "    but NOTE: to see the returned image as grayscale\n",
    "    you should call plt.imshow(gray, cmap='gray')\"\"\"\n",
    "    #return cv2.cvtColor(img, cv2.COLOR_RGB2GRAY)\n",
    "    # Or use BGR2GRAY if you read an image with cv2.imread()\n",
    "    return cv2.cvtColor(img, cv2.COLOR_BGR2GRAY)\n",
    "    \n",
    "def canny(img, low_threshold, high_threshold):\n",
    "    \"\"\"Applies the Canny transform\"\"\"\n",
    "    return cv2.Canny(img, low_threshold, high_threshold)\n",
    "\n",
    "def gaussian_blur(img, kernel_size):\n",
    "    \"\"\"Applies a Gaussian Noise kernel\"\"\"\n",
    "    return cv2.GaussianBlur(img, (kernel_size, kernel_size), 0)\n",
    "\n",
    "def region_of_interest(img, vertices):\n",
    "    \"\"\"\n",
    "    Applies an image mask.\n",
    "    \n",
    "    Only keeps the region of the image defined by the polygon\n",
    "    formed from `vertices`. The rest of the image is set to black.\n",
    "    \"\"\"\n",
    "    #defining a blank mask to start with\n",
    "    mask = np.zeros_like(img)   \n",
    "    \n",
    "    #defining a 3 channel or 1 channel color to fill the mask with depending on the input image\n",
    "    if len(img.shape) > 2:\n",
    "        channel_count = img.shape[2]  # i.e. 3 or 4 depending on your image\n",
    "        ignore_mask_color = (255,) * channel_count\n",
    "    else:\n",
    "        ignore_mask_color = 255\n",
    "        \n",
    "    #filling pixels inside the polygon defined by \"vertices\" with the fill color    \n",
    "    cv2.fillPoly(mask, vertices, ignore_mask_color)\n",
    "    \n",
    "    #returning the image only where mask pixels are nonzero\n",
    "    masked_image = cv2.bitwise_and(img, mask)\n",
    "    return masked_image\n",
    "\n",
    "\n",
    "def draw_lines(img, lines, color=[0, 0, 255], thickness=2):\n",
    "    \"\"\"\n",
    "    NOTE: this is the function you might want to use as a starting point once you want to \n",
    "    average/extrapolate the line segments you detect to map out the full\n",
    "    extent of the lane (going from the result shown in raw-lines-example.mp4\n",
    "    to that shown in P1_example.mp4).  \n",
    "    \n",
    "    Think about things like separating line segments by their \n",
    "    slope ((y2-y1)/(x2-x1)) to decide which segments are part of the left\n",
    "    line vs. the right line.  Then, you can average the position of each of \n",
    "    the lines and extrapolate to the top and bottom of the lane.\n",
    "    \n",
    "    This function draws `lines` with `color` and `thickness`.    \n",
    "    Lines are drawn on the image inplace (mutates the image).\n",
    "    If you want to make the lines semi-transparent, think about combining\n",
    "    this function with the weighted_img() function below\n",
    "    \"\"\"\n",
    "    initial_hough = np.zeros((img.shape[0], img.shape[1], 3), dtype=np.uint8)\n",
    "    # Filter lines that have slope near horizontal or near vertical\n",
    "\n",
    "    \n",
    "    filtered_lines = []\n",
    "    Min_angle = math.tan(math.pi*25/180) # 25 degrees\n",
    "    Max_angle = math.tan(math.pi*70/180)  # 70 degrees\n",
    "    #print (\"Min_angle\",Min_angle)\n",
    "    #print (\"Max_angle\",Max_angle)\n",
    "    # Filter lines that have slope near horizontal or near vertical\n",
    "    for line in lines:\n",
    "        for x1,y1,x2,y2 in line:\n",
    "            if x1 !=x2:\n",
    "                slope= ((y2-y1)/(x2-x1))\n",
    "                if abs(slope) > Min_angle and abs(slope) < Max_angle:\n",
    "                    filtered_lines.append([x1,y1,x2,y2,slope])\n",
    "                    \n",
    "                \n",
    "    \n",
    "    \n",
    "    # Sort the lines by their slopes.\n",
    "    lines = sorted(filtered_lines,key=lambda coordinates: coordinates[4])\n",
    "    \n",
    "    Left_Lines=[]\n",
    "    Right_Lines=[]\n",
    "    All_left=[]\n",
    "    All_right=[]\n",
    "    \n",
    "    for line in lines:\n",
    "        #print (line)\n",
    "        x1,y1,x2,y2,slope = line\n",
    "        if slope <0 and x1<float(imshape[1]/2) and x2 <float(imshape[1]/2):\n",
    "            # Left Line\n",
    "            color=[0, 0, 255]\n",
    "            Left_Lines.append((x1,y1))\n",
    "            Left_Lines.append((x2,y2))\n",
    "            All_left.append([x1,y1,x2,y2])\n",
    "            \n",
    "        elif slope >0 and x1>float(imshape[1]/2) and x2 >float(imshape[1]/2):\n",
    "            # Right Line\n",
    "            color=[255, 0, 0]\n",
    "            Right_Lines.append((x1,y1))\n",
    "            Right_Lines.append((x2,y2))\n",
    "            All_right.append([x1,y1,x2,y2])\n",
    "#             print (\"\\n\")\n",
    "#         cv2.line(img, (x1, y1), (x2, y2), color, thickness)\n",
    "    print (\"LeftLanesLength\",len(Left_Lines))\n",
    "    print (\"RightLanesLength\",len(Right_Lines))\n",
    "    \n",
    "    \n",
    "    for line in All_left:\n",
    "        x1,y1,x2,y2 = line\n",
    "        cv2.line(initial_hough, (x1, y1), (x2, y2), (255,0,0), thickness)\n",
    "    for line in All_right:\n",
    "        x1,y1,x2,y2 = line\n",
    "        cv2.line(initial_hough, (x1, y1), (x2, y2), (0,0,255), thickness)\n",
    "    filenameTime = \"Hough_filtered\"+str(datetime.datetime.now())+\".jpg\"\n",
    "#     cv2.imwrite(os.path.join(\"VideoOutput\",filenameTime),initial_hough)\n",
    "    \n",
    "    \n",
    "    param = 0\n",
    "    reps = 0.01 \n",
    "    aeps = 0.01\n",
    "    distL12 = 4\n",
    "    vx_left, vy_left, cx_left, cy_left  = cv2.fitLine(np.array(Left_Lines), distL12, param, reps, aeps) \n",
    "    vx_right, vy_right, cx_right, cy_right  = cv2.fitLine(np.array(Right_Lines), distL12, param, reps, aeps)\n",
    "    #print (\"vx_left, vy_left, cx_left, cy_left \", vx_left, vy_left, cx_left, cy_left)\n",
    "    #print (\"vx_right , vy_right , cx_right , cy_right  \", vx_right , vy_right , cx_right , cy_right )\n",
    "    m_left = 100\n",
    "    m_right= 100\n",
    "    y_max = int(imshape[0])\n",
    "    #print (\"y_max \",y_max)\n",
    "    y_min = int((imshape[0]/2)+(imshape[0]/8))\n",
    "    m_left_bottom = float(y_max - cy_left)/float(vy_left)  \n",
    "    #print (\"m_left_bottom \",m_left_bottom)\n",
    "    m_left_up = float(y_min - cy_left)/float(vy_left)\n",
    "    \n",
    "    m_right_bottom = float(y_max - cy_right)/float(vy_right)  \n",
    "    #print (\"m_right_bottom \",m_right_bottom)\n",
    "    m_right_up = float(y_min - cy_right)/float(vy_right)\n",
    "    \n",
    "    point_x1_left = int(cx_left+m_left_bottom*vx_left)\n",
    "    point_y1_left = int(cy_left+m_left_bottom*vy_left)\n",
    "    point_x2_left = int(cx_left+m_left_up*vx_left)\n",
    "    point_y2_left = int(cy_left+m_left_up*vy_left)\n",
    "    \n",
    "    point_x1_right = int(cx_right+m_right_bottom*vx_right)\n",
    "    point_y1_right = int(cy_right+m_right_bottom*vy_right)\n",
    "    point_x2_right = int(cx_right+m_right_up*vx_right)\n",
    "    point_y2_right = int(cy_right+m_right_up*vy_right)\n",
    "    #print (\"point_x1_left, point_y1_left, point_x2_left, point_y2_left \", point_x1_left, point_y1_left, point_x2_left, point_y2_left)\n",
    "    #print (\"point_x1_right, point_y1_right, point_x2_right, point_y2_right \", point_x1_right, point_y1_right, point_x2_right, point_y2_right)\n",
    "    cv2.line(img, (point_x1_left, point_y1_left), (point_x2_left, point_y2_left), (255,0,0),3)\n",
    "    cv2.line(img, (point_x1_right, point_y1_right), (point_x2_right, point_y2_right), (0,0,255),3)\n",
    "    \n",
    "    cv2.line(initial_hough, (point_x1_left, point_y1_left), (point_x2_left, point_y2_left), (255,255,0),1)\n",
    "    cv2.line(initial_hough, (point_x1_right, point_y1_right), (point_x2_right, point_y2_right), (0,255,255),1)\n",
    "    cv2.imwrite(os.path.join(\"VideoOutput\",filenameTime),initial_hough)\n",
    "            \n",
    "#     print (\"Left Lines: \")\n",
    "#     print (Left_Lines)\n",
    "#     print (\"Right Lines: \")\n",
    "#     print (Right_Lines)\n",
    "\n",
    "def hough_lines(img, rho, theta, threshold, min_line_len, max_line_gap):\n",
    "    \"\"\"\n",
    "    `img` should be the output of a Canny transform.\n",
    "        \n",
    "    Returns an image with hough lines drawn.\n",
    "    \"\"\"\n",
    "    lines = cv2.HoughLinesP(img, rho, theta, threshold, np.array([]), minLineLength=min_line_len, maxLineGap=max_line_gap)\n",
    "    line_img = np.zeros((img.shape[0], img.shape[1], 3), dtype=np.uint8)\n",
    "    draw_lines(line_img, lines)\n",
    "    return line_img\n",
    "\n",
    "# Python 3 has support for cool math symbols.\n",
    "\n",
    "def weighted_img(img, initial_img, α=0.8, β=1., λ=0.):\n",
    "    \"\"\"\n",
    "    `img` is the output of the hough_lines(), An image with lines drawn on it.\n",
    "    Should be a blank image (all black) with lines drawn on it.\n",
    "    \n",
    "    `initial_img` should be the image before any processing.\n",
    "    \n",
    "    The result image is computed as follows:\n",
    "    \n",
    "    initial_img * α + img * β + λ\n",
    "    NOTE: initial_img and img must be the same shape!\n",
    "    \"\"\"\n",
    "    return cv2.addWeighted(initial_img, α, img, β, λ)"
   ]
  },
  {
   "cell_type": "markdown",
   "metadata": {},
   "source": [
    "## Test on Images\n",
    "\n",
    "Now you should build your pipeline to work on the images in the directory \"test_images\"  \n",
    "**You should make sure your pipeline works well on these images before you try the videos.**"
   ]
  },
  {
   "cell_type": "code",
   "execution_count": 3,
   "metadata": {
    "collapsed": false
   },
   "outputs": [
    {
     "data": {
      "text/plain": [
       "['solidWhiteRight.jpg',\n",
       " 'solidWhiteCurve.jpg',\n",
       " 'solidYellowCurve.jpg',\n",
       " 'solidYellowLeft.jpg',\n",
       " 'whiteCarLaneSwitch.jpg',\n",
       " 'solidYellowCurve2.jpg']"
      ]
     },
     "execution_count": 3,
     "metadata": {},
     "output_type": "execute_result"
    }
   ],
   "source": [
    "import os\n",
    "os.listdir(\"test_images/\")"
   ]
  },
  {
   "cell_type": "markdown",
   "metadata": {},
   "source": [
    "run your solution on all test_images and make copies into the test_images directory)."
   ]
  },
  {
   "cell_type": "code",
   "execution_count": 4,
   "metadata": {
    "collapsed": false
   },
   "outputs": [
    {
     "name": "stdout",
     "output_type": "stream",
     "text": [
      "This image is: test_images/solidWhiteRight.jpg with dimesions: (540, 960, 3)\n",
      "LeftLanesLength 14\n",
      "RightLanesLength 14\n",
      "This image is: test_images/solidWhiteCurve.jpg with dimesions: (540, 960, 3)\n",
      "LeftLanesLength 12\n",
      "RightLanesLength 12\n",
      "This image is: test_images/solidYellowCurve.jpg with dimesions: (540, 960, 3)\n",
      "LeftLanesLength 18\n",
      "RightLanesLength 12\n",
      "This image is: test_images/solidYellowLeft.jpg with dimesions: (540, 960, 3)\n",
      "LeftLanesLength 10\n",
      "RightLanesLength 14\n",
      "This image is: test_images/whiteCarLaneSwitch.jpg with dimesions: (540, 960, 3)\n",
      "LeftLanesLength 16\n",
      "RightLanesLength 20\n",
      "This image is: test_images/solidYellowCurve2.jpg with dimesions: (540, 960, 3)\n",
      "LeftLanesLength 22\n",
      "RightLanesLength 16\n"
     ]
    }
   ],
   "source": [
    "# TODO: Build your pipeline that will draw lane lines on the test_images\n",
    "# then save them to the test_images directory.\n",
    "\n",
    "for imageFile in os.listdir(\"test_images/\"):\n",
    "    #reading in an image\n",
    "    imageName = os.path.join(\"test_images\",imageFile)\n",
    "    image = cv2.imread(imageName)\n",
    "    #printing out some stats and plotting\n",
    "    print('This image is:', imageName, 'with dimesions:', image.shape)\n",
    "    # Convert image to grayscale\n",
    "    gray = grayscale(image)\n",
    "\n",
    "\n",
    "    # Define a kernel size and apply Gaussian smoothing\n",
    "    kernel_size = 5\n",
    "    blur_gray = gaussian_blur(gray,5)\n",
    "\n",
    "    # Define our parameters for Canny and apply\n",
    "    low_threshold = 50\n",
    "    high_threshold = 150\n",
    "    edges = canny(blur_gray, low_threshold, high_threshold)\n",
    "\n",
    "    # Define Region of Interest\n",
    "    imshape = edges.shape\n",
    "    offset_x = imshape[1]/10\n",
    "    offset_y = imshape[0]/8\n",
    "    vertices = np.array([[(0,imshape[0]),(imshape[1]/2-offset_x, imshape[0]/2+offset_y), (imshape[1]/2+offset_x, imshape[0]/2+offset_y), (imshape[1],imshape[0])]], dtype=np.int32)\n",
    "    ROI = region_of_interest(edges,vertices)\n",
    "    # cv2.imwrite(\"output_ROI.jpg\",ROI) \n",
    "\n",
    "    # Define the Hough transform parameters\n",
    "    # Make a blank the same size as our image to draw on\n",
    "    rho = 2 # distance resolution in pixels of the Hough grid\n",
    "    theta = np.pi/180 # angular resolution in radians of the Hough grid\n",
    "    threshold = 15     # minimum number of votes (intersections in Hough grid cell)\n",
    "    min_line_len = 40 #minimum number of pixels making up a line\n",
    "    max_line_gap = 20    # maximum gap in pixels between connectable line segments\n",
    "\n",
    "    # Run Hough on edge detected image\n",
    "    # Output \"lines\" is an array containing endpoints of detected line segments\n",
    "    line_image = hough_lines(ROI, rho, theta, threshold, min_line_len, max_line_gap)\n",
    "\n",
    "    final_image =  weighted_img(line_image,image,α=0.4,β=6.0)\n",
    "\n",
    "    #lanesFilename = os.path.join('output',imageFile.split('.')[0]+'_outputLanes.jpg')\n",
    "    finalFilename = os.path.join('output',imageFile.split('.')[0]+'_outputFinal.jpg')\n",
    "    #cv2.imwrite(lanesFilename,line_image)\n",
    "    cv2.imwrite(finalFilename,final_image)"
   ]
  },
  {
   "cell_type": "markdown",
   "metadata": {},
   "source": [
    "## Test on Videos\n",
    "\n",
    "You know what's cooler than drawing lanes over images? Drawing lanes over video!\n",
    "\n",
    "We can test our solution on two provided videos:\n",
    "\n",
    "`solidWhiteRight.mp4`\n",
    "\n",
    "`solidYellowLeft.mp4`"
   ]
  },
  {
   "cell_type": "code",
   "execution_count": 5,
   "metadata": {
    "collapsed": false
   },
   "outputs": [],
   "source": [
    "# Import everything needed to edit/save/watch video clips\n",
    "from moviepy.editor import VideoFileClip\n",
    "from IPython.display import HTML"
   ]
  },
  {
   "cell_type": "code",
   "execution_count": 6,
   "metadata": {
    "collapsed": true
   },
   "outputs": [],
   "source": [
    "def process_image(image):\n",
    "    # NOTE: The output you return should be a color image (3 channel) for processing video below\n",
    "    # TODO: put your pipeline here,\n",
    "    # you should return the final output (image with lines are drawn on lanes)\n",
    "    # Convert image to grayscale\n",
    "    cv2.imwrite(os.path.join(\"VideoOutput\",\"Image.jpg\"),image) \n",
    "    gray = grayscale(image)\n",
    "\n",
    "\n",
    "    # Define a kernel size and apply Gaussian smoothing\n",
    "    kernel_size = 5\n",
    "    blur_gray = gaussian_blur(gray,5)\n",
    "\n",
    "    # Define our parameters for Canny and apply\n",
    "    low_threshold = 50\n",
    "    high_threshold = 150\n",
    "    edges = canny(blur_gray, low_threshold, high_threshold)\n",
    "    cv2.imwrite(os.path.join(\"VideoOutput\",\"Edges.jpg\"),edges) \n",
    "\n",
    "    # Define Region of Interest\n",
    "    imshape = edges.shape\n",
    "    offset_x = imshape[1]/10\n",
    "    offset_y = imshape[0]/8\n",
    "    vertices = np.array([[(imshape[1]/8,imshape[0]),(imshape[1]/2-offset_x, imshape[0]/2+offset_y), (imshape[1]/2+offset_x, imshape[0]/2+offset_y), (imshape[1]-(imshape[1]/8),imshape[0])]], dtype=np.int32)\n",
    "    ROI = region_of_interest(edges,vertices)\n",
    "    # cv2.imwrite(\"output_ROI.jpg\",ROI)\n",
    "    cv2.imwrite(os.path.join(\"VideoOutput\",\"ROI.jpg\"),ROI)\n",
    "\n",
    "    # Define the Hough transform parameters\n",
    "    # Make a blank the same size as our image to draw on\n",
    "    rho = 2 # distance resolution in pixels of the Hough grid\n",
    "    theta = np.pi/180 # angular resolution in radians of the Hough grid\n",
    "    threshold = 10     # minimum number of votes (intersections in Hough grid cell)\n",
    "    min_line_len = 20 #minimum number of pixels making up a line\n",
    "    max_line_gap = 40    # maximum gap in pixels between connectable line segments\n",
    "\n",
    "    # Run Hough on edge detected image\n",
    "    # Output \"lines\" is an array containing endpoints of detected line segments\n",
    "    line_image = hough_lines(ROI, rho, theta, threshold, min_line_len, max_line_gap)\n",
    "\n",
    "    final_image =  weighted_img(line_image,image,α=0.4,β=6.0)\n",
    "    \n",
    "#     cv2.line(final_image, (int(imshape[1]/8),imshape[0]), (int(imshape[1]/2)-int(offset_x), int(imshape[0]/2)+int(offset_y)), (0,255,255),2)\n",
    "#     cv2.line(final_image, (int(imshape[1]/2)+int(offset_x), int(imshape[0]/2)+int(offset_y)), (imshape[1]-int(imshape[1]/8),imshape[0]), (0,255,255),2)\n",
    "\n",
    "    #lanesFilename = os.path.join('output',imageFile.split('.')[0]+'_outputLanes.jpg')\n",
    "    #finalFilename = os.path.join('output',imageFile.split('.')[0]+'_outputFinal.jpg')\n",
    "    #cv2.imwrite(lanesFilename,line_image)\n",
    "    #cv2.imwrite(finalFilename,final_image)\n",
    "\n",
    "    return final_image"
   ]
  },
  {
   "cell_type": "markdown",
   "metadata": {},
   "source": [
    "Let's try the one with the solid white lane on the right first ..."
   ]
  },
  {
   "cell_type": "code",
   "execution_count": 7,
   "metadata": {
    "collapsed": false
   },
   "outputs": [
    {
     "name": "stdout",
     "output_type": "stream",
     "text": [
      "LeftLanesLength 18\n",
      "RightLanesLength 28\n",
      "[MoviePy] >>>> Building video white.mp4\n",
      "[MoviePy] Writing video white.mp4\n"
     ]
    },
    {
     "name": "stderr",
     "output_type": "stream",
     "text": [
      "\r",
      "  0%|          | 0/222 [00:00<?, ?it/s]"
     ]
    },
    {
     "name": "stdout",
     "output_type": "stream",
     "text": [
      "LeftLanesLength 18\n",
      "RightLanesLength 28\n"
     ]
    },
    {
     "name": "stderr",
     "output_type": "stream",
     "text": [
      "\r",
      "  1%|          | 2/222 [00:00<00:24,  9.15it/s]"
     ]
    },
    {
     "name": "stdout",
     "output_type": "stream",
     "text": [
      "LeftLanesLength 24\n",
      "RightLanesLength 20\n"
     ]
    },
    {
     "name": "stderr",
     "output_type": "stream",
     "text": [
      "\r",
      "  1%|▏         | 3/222 [00:00<00:23,  9.32it/s]"
     ]
    },
    {
     "name": "stdout",
     "output_type": "stream",
     "text": [
      "LeftLanesLength 24\n",
      "RightLanesLength 16\n"
     ]
    },
    {
     "name": "stderr",
     "output_type": "stream",
     "text": [
      "\r",
      "  2%|▏         | 4/222 [00:00<00:24,  9.02it/s]"
     ]
    },
    {
     "name": "stdout",
     "output_type": "stream",
     "text": [
      "LeftLanesLength 22\n",
      "RightLanesLength 20\n",
      "LeftLanesLength 16\n",
      "RightLanesLength 18\n"
     ]
    },
    {
     "name": "stderr",
     "output_type": "stream",
     "text": [
      "\r",
      "  3%|▎         | 6/222 [00:00<00:21, 10.20it/s]"
     ]
    },
    {
     "name": "stdout",
     "output_type": "stream",
     "text": [
      "LeftLanesLength 16\n",
      "RightLanesLength 26\n"
     ]
    },
    {
     "name": "stderr",
     "output_type": "stream",
     "text": [
      "\r",
      "  4%|▎         | 8/222 [00:00<00:18, 11.52it/s]"
     ]
    },
    {
     "name": "stdout",
     "output_type": "stream",
     "text": [
      "LeftLanesLength 10\n",
      "RightLanesLength 18\n",
      "LeftLanesLength 12\n",
      "RightLanesLength 20\n",
      "LeftLanesLength 14\n",
      "RightLanesLength 18\n",
      "LeftLanesLength 22\n",
      "RightLanesLength 16\n"
     ]
    },
    {
     "name": "stderr",
     "output_type": "stream",
     "text": [
      "  5%|▌         | 12/222 [00:00<00:16, 12.94it/s]"
     ]
    },
    {
     "name": "stdout",
     "output_type": "stream",
     "text": [
      "LeftLanesLength 16\n",
      "RightLanesLength 34\n",
      "LeftLanesLength 20\n",
      "RightLanesLength 28\n",
      "LeftLanesLength 32\n",
      "RightLanesLength 24\n"
     ]
    },
    {
     "name": "stderr",
     "output_type": "stream",
     "text": [
      "\r",
      "  6%|▋         | 14/222 [00:01<00:16, 12.29it/s]"
     ]
    },
    {
     "name": "stdout",
     "output_type": "stream",
     "text": [
      "LeftLanesLength 26\n",
      "RightLanesLength 20\n",
      "LeftLanesLength 36\n",
      "RightLanesLength 38\n"
     ]
    },
    {
     "name": "stderr",
     "output_type": "stream",
     "text": [
      "\r",
      "  7%|▋         | 16/222 [00:01<00:15, 13.21it/s]"
     ]
    },
    {
     "name": "stdout",
     "output_type": "stream",
     "text": [
      "LeftLanesLength 28\n",
      "RightLanesLength 28\n"
     ]
    },
    {
     "name": "stderr",
     "output_type": "stream",
     "text": [
      "\r",
      "  8%|▊         | 18/222 [00:01<00:15, 13.59it/s]"
     ]
    },
    {
     "name": "stdout",
     "output_type": "stream",
     "text": [
      "LeftLanesLength 16\n",
      "RightLanesLength 24\n",
      "LeftLanesLength 14\n",
      "RightLanesLength 20\n",
      "LeftLanesLength 10\n",
      "RightLanesLength 36\n",
      "LeftLanesLength 12\n",
      "RightLanesLength 14\n"
     ]
    },
    {
     "name": "stderr",
     "output_type": "stream",
     "text": [
      "\r",
      "  9%|▉         | 20/222 [00:01<00:14, 13.64it/s]"
     ]
    },
    {
     "name": "stdout",
     "output_type": "stream",
     "text": [
      "LeftLanesLength 18\n",
      "RightLanesLength 18\n"
     ]
    },
    {
     "name": "stderr",
     "output_type": "stream",
     "text": [
      "\r",
      " 10%|▉         | 22/222 [00:01<00:14, 13.79it/s]"
     ]
    },
    {
     "name": "stdout",
     "output_type": "stream",
     "text": [
      "LeftLanesLength 12\n",
      "RightLanesLength 24\n",
      "LeftLanesLength 18\n",
      "RightLanesLength 10\n",
      "LeftLanesLength 28\n",
      "RightLanesLength 18\n"
     ]
    },
    {
     "name": "stderr",
     "output_type": "stream",
     "text": [
      " 12%|█▏        | 26/222 [00:01<00:13, 14.18it/s]"
     ]
    },
    {
     "name": "stdout",
     "output_type": "stream",
     "text": [
      "LeftLanesLength 26\n",
      "RightLanesLength 20\n",
      "LeftLanesLength 26\n",
      "RightLanesLength 16\n",
      "LeftLanesLength 24\n",
      "RightLanesLength 14\n"
     ]
    },
    {
     "name": "stderr",
     "output_type": "stream",
     "text": [
      " 14%|█▎        | 30/222 [00:02<00:14, 12.84it/s]"
     ]
    },
    {
     "name": "stdout",
     "output_type": "stream",
     "text": [
      "LeftLanesLength 22\n",
      "RightLanesLength 28\n",
      "LeftLanesLength 14\n",
      "RightLanesLength 16\n",
      "LeftLanesLength 10\n",
      "RightLanesLength 36\n"
     ]
    },
    {
     "name": "stderr",
     "output_type": "stream",
     "text": [
      "\r",
      " 14%|█▍        | 32/222 [00:02<00:13, 13.65it/s]"
     ]
    },
    {
     "name": "stdout",
     "output_type": "stream",
     "text": [
      "LeftLanesLength 18\n",
      "RightLanesLength 18\n",
      "LeftLanesLength 12\n",
      "RightLanesLength 18\n",
      "LeftLanesLength 14\n",
      "RightLanesLength 18\n"
     ]
    },
    {
     "name": "stderr",
     "output_type": "stream",
     "text": [
      "\r",
      " 15%|█▌        | 34/222 [00:02<00:15, 11.88it/s]"
     ]
    },
    {
     "name": "stdout",
     "output_type": "stream",
     "text": [
      "LeftLanesLength 16\n",
      "RightLanesLength 14\n",
      "LeftLanesLength 22\n",
      "RightLanesLength 20\n"
     ]
    },
    {
     "name": "stderr",
     "output_type": "stream",
     "text": [
      " 17%|█▋        | 38/222 [00:02<00:15, 12.14it/s]"
     ]
    },
    {
     "name": "stdout",
     "output_type": "stream",
     "text": [
      "LeftLanesLength 22\n",
      "RightLanesLength 26\n",
      "LeftLanesLength 26\n",
      "RightLanesLength 10\n",
      "LeftLanesLength 24\n",
      "RightLanesLength 32\n",
      "LeftLanesLength 28\n",
      "RightLanesLength 18\n"
     ]
    },
    {
     "name": "stderr",
     "output_type": "stream",
     "text": [
      " 19%|█▉        | 42/222 [00:03<00:13, 13.17it/s]"
     ]
    },
    {
     "name": "stdout",
     "output_type": "stream",
     "text": [
      "LeftLanesLength 24\n",
      "RightLanesLength 18\n",
      "LeftLanesLength 20\n",
      "RightLanesLength 26\n",
      "LeftLanesLength 16\n",
      "RightLanesLength 22\n"
     ]
    },
    {
     "name": "stderr",
     "output_type": "stream",
     "text": [
      "\r",
      " 20%|█▉        | 44/222 [00:03<00:16, 10.58it/s]"
     ]
    },
    {
     "name": "stdout",
     "output_type": "stream",
     "text": [
      "LeftLanesLength 10\n",
      "RightLanesLength 26\n",
      "LeftLanesLength 10\n",
      "RightLanesLength 24\n"
     ]
    },
    {
     "name": "stderr",
     "output_type": "stream",
     "text": [
      "\r",
      " 21%|██        | 46/222 [00:03<00:17, 10.14it/s]"
     ]
    },
    {
     "name": "stdout",
     "output_type": "stream",
     "text": [
      "LeftLanesLength 12\n",
      "RightLanesLength 18\n",
      "LeftLanesLength 20\n",
      "RightLanesLength 24\n"
     ]
    },
    {
     "name": "stderr",
     "output_type": "stream",
     "text": [
      "\r",
      " 22%|██▏       | 48/222 [00:03<00:18,  9.63it/s]"
     ]
    },
    {
     "name": "stdout",
     "output_type": "stream",
     "text": [
      "LeftLanesLength 16\n",
      "RightLanesLength 32\n",
      "LeftLanesLength 22\n",
      "RightLanesLength 36\n"
     ]
    },
    {
     "name": "stderr",
     "output_type": "stream",
     "text": [
      "\r",
      " 23%|██▎       | 50/222 [00:04<00:17,  9.72it/s]"
     ]
    },
    {
     "name": "stdout",
     "output_type": "stream",
     "text": [
      "LeftLanesLength 22\n",
      "RightLanesLength 32\n",
      "LeftLanesLength 24\n",
      "RightLanesLength 12\n",
      "LeftLanesLength 22\n",
      "RightLanesLength 18\n",
      "LeftLanesLength 18\n",
      "RightLanesLength 16\n"
     ]
    },
    {
     "name": "stderr",
     "output_type": "stream",
     "text": [
      " 24%|██▍       | 54/222 [00:04<00:18,  9.23it/s]"
     ]
    },
    {
     "name": "stdout",
     "output_type": "stream",
     "text": [
      "LeftLanesLength 28\n",
      "RightLanesLength 12\n",
      "LeftLanesLength 14\n",
      "RightLanesLength 12\n",
      "LeftLanesLength 16\n",
      "RightLanesLength 10\n"
     ]
    },
    {
     "name": "stderr",
     "output_type": "stream",
     "text": [
      "\r",
      " 25%|██▌       | 56/222 [00:04<00:16, 10.08it/s]"
     ]
    },
    {
     "name": "stdout",
     "output_type": "stream",
     "text": [
      "LeftLanesLength 12\n",
      "RightLanesLength 24\n",
      "LeftLanesLength 16\n",
      "RightLanesLength 38\n",
      "LeftLanesLength 18\n",
      "RightLanesLength 32\n"
     ]
    },
    {
     "name": "stderr",
     "output_type": "stream",
     "text": [
      " 27%|██▋       | 60/222 [00:05<00:14, 10.85it/s]"
     ]
    },
    {
     "name": "stdout",
     "output_type": "stream",
     "text": [
      "LeftLanesLength 12\n",
      "RightLanesLength 24\n",
      "LeftLanesLength 22\n",
      "RightLanesLength 18\n",
      "LeftLanesLength 28\n",
      "RightLanesLength 22\n"
     ]
    },
    {
     "name": "stderr",
     "output_type": "stream",
     "text": [
      " 29%|██▉       | 64/222 [00:05<00:13, 11.46it/s]"
     ]
    },
    {
     "name": "stdout",
     "output_type": "stream",
     "text": [
      "LeftLanesLength 26\n",
      "RightLanesLength 22\n",
      "LeftLanesLength 26\n",
      "RightLanesLength 24\n",
      "LeftLanesLength 28\n",
      "RightLanesLength 18\n"
     ]
    },
    {
     "name": "stderr",
     "output_type": "stream",
     "text": [
      "\r",
      " 30%|██▉       | 66/222 [00:05<00:13, 11.80it/s]"
     ]
    },
    {
     "name": "stdout",
     "output_type": "stream",
     "text": [
      "LeftLanesLength 14\n",
      "RightLanesLength 42\n",
      "LeftLanesLength 12\n",
      "RightLanesLength 46\n",
      "LeftLanesLength 16\n",
      "RightLanesLength 22\n"
     ]
    },
    {
     "name": "stderr",
     "output_type": "stream",
     "text": [
      " 32%|███▏      | 70/222 [00:06<00:12, 12.09it/s]"
     ]
    },
    {
     "name": "stdout",
     "output_type": "stream",
     "text": [
      "LeftLanesLength 16\n",
      "RightLanesLength 34\n",
      "LeftLanesLength 14\n",
      "RightLanesLength 24\n",
      "LeftLanesLength 16\n",
      "RightLanesLength 16\n"
     ]
    },
    {
     "name": "stderr",
     "output_type": "stream",
     "text": [
      "\r",
      " 32%|███▏      | 72/222 [00:06<00:12, 12.40it/s]"
     ]
    },
    {
     "name": "stdout",
     "output_type": "stream",
     "text": [
      "LeftLanesLength 20\n",
      "RightLanesLength 12\n",
      "LeftLanesLength 26\n",
      "RightLanesLength 32\n",
      "LeftLanesLength 26\n",
      "RightLanesLength 12\n"
     ]
    },
    {
     "name": "stderr",
     "output_type": "stream",
     "text": [
      "\r",
      " 33%|███▎      | 74/222 [00:06<00:13, 11.30it/s]"
     ]
    },
    {
     "name": "stdout",
     "output_type": "stream",
     "text": [
      "LeftLanesLength 28\n",
      "RightLanesLength 16\n",
      "LeftLanesLength 28\n",
      "RightLanesLength 32\n"
     ]
    },
    {
     "name": "stderr",
     "output_type": "stream",
     "text": [
      " 35%|███▌      | 78/222 [00:06<00:13, 10.83it/s]"
     ]
    },
    {
     "name": "stdout",
     "output_type": "stream",
     "text": [
      "LeftLanesLength 22\n",
      "RightLanesLength 14\n",
      "LeftLanesLength 26\n",
      "RightLanesLength 36\n",
      "LeftLanesLength 10\n",
      "RightLanesLength 24\n"
     ]
    },
    {
     "name": "stderr",
     "output_type": "stream",
     "text": [
      "\r",
      " 36%|███▌      | 80/222 [00:06<00:12, 11.16it/s]"
     ]
    },
    {
     "name": "stdout",
     "output_type": "stream",
     "text": [
      "LeftLanesLength 12\n",
      "RightLanesLength 34\n",
      "LeftLanesLength 14\n",
      "RightLanesLength 22\n",
      "LeftLanesLength 16\n",
      "RightLanesLength 14\n"
     ]
    },
    {
     "name": "stderr",
     "output_type": "stream",
     "text": [
      " 38%|███▊      | 84/222 [00:07<00:11, 11.70it/s]"
     ]
    },
    {
     "name": "stdout",
     "output_type": "stream",
     "text": [
      "LeftLanesLength 16\n",
      "RightLanesLength 22\n",
      "LeftLanesLength 24\n",
      "RightLanesLength 32\n",
      "LeftLanesLength 30\n",
      "RightLanesLength 16\n"
     ]
    },
    {
     "name": "stderr",
     "output_type": "stream",
     "text": [
      "\r",
      " 39%|███▊      | 86/222 [00:07<00:12, 11.26it/s]"
     ]
    },
    {
     "name": "stdout",
     "output_type": "stream",
     "text": [
      "LeftLanesLength 20\n",
      "RightLanesLength 22\n",
      "LeftLanesLength 30\n",
      "RightLanesLength 30\n",
      "LeftLanesLength 22\n",
      "RightLanesLength 20\n"
     ]
    },
    {
     "name": "stderr",
     "output_type": "stream",
     "text": [
      "\r",
      " 40%|███▉      | 88/222 [00:07<00:11, 11.58it/s]"
     ]
    },
    {
     "name": "stdout",
     "output_type": "stream",
     "text": [
      "LeftLanesLength 26\n",
      "RightLanesLength 24\n",
      "LeftLanesLength 22\n",
      "RightLanesLength 18\n"
     ]
    },
    {
     "name": "stderr",
     "output_type": "stream",
     "text": [
      " 41%|████▏     | 92/222 [00:08<00:11, 11.02it/s]"
     ]
    },
    {
     "name": "stdout",
     "output_type": "stream",
     "text": [
      "LeftLanesLength 10\n",
      "RightLanesLength 22\n",
      "LeftLanesLength 14\n",
      "RightLanesLength 30\n",
      "LeftLanesLength 10\n",
      "RightLanesLength 32\n"
     ]
    },
    {
     "name": "stderr",
     "output_type": "stream",
     "text": [
      "\r",
      " 42%|████▏     | 94/222 [00:08<00:11, 11.40it/s]"
     ]
    },
    {
     "name": "stdout",
     "output_type": "stream",
     "text": [
      "LeftLanesLength 14\n",
      "RightLanesLength 34\n",
      "LeftLanesLength 12\n",
      "RightLanesLength 32\n",
      "LeftLanesLength 22\n",
      "RightLanesLength 22\n",
      "LeftLanesLength 26\n",
      "RightLanesLength 24\n"
     ]
    },
    {
     "name": "stderr",
     "output_type": "stream",
     "text": [
      " 44%|████▍     | 98/222 [00:08<00:10, 11.79it/s]"
     ]
    },
    {
     "name": "stdout",
     "output_type": "stream",
     "text": [
      "LeftLanesLength 24\n",
      "RightLanesLength 34\n",
      "LeftLanesLength 32\n",
      "RightLanesLength 26\n",
      "LeftLanesLength 32\n",
      "RightLanesLength 26\n"
     ]
    },
    {
     "name": "stderr",
     "output_type": "stream",
     "text": [
      " 45%|████▌     | 101/222 [00:08<00:13,  8.90it/s]"
     ]
    },
    {
     "name": "stdout",
     "output_type": "stream",
     "text": [
      "LeftLanesLength 20\n",
      "RightLanesLength 18\n",
      "LeftLanesLength 16\n",
      "RightLanesLength 18\n",
      "LeftLanesLength 16\n",
      "RightLanesLength 28\n"
     ]
    },
    {
     "name": "stderr",
     "output_type": "stream",
     "text": [
      "\r",
      " 46%|████▋     | 103/222 [00:09<00:12,  9.84it/s]"
     ]
    },
    {
     "name": "stdout",
     "output_type": "stream",
     "text": [
      "LeftLanesLength 16\n",
      "RightLanesLength 22\n",
      "LeftLanesLength 14\n",
      "RightLanesLength 18\n"
     ]
    },
    {
     "name": "stderr",
     "output_type": "stream",
     "text": [
      "\r",
      " 47%|████▋     | 105/222 [00:09<00:12,  9.48it/s]"
     ]
    },
    {
     "name": "stdout",
     "output_type": "stream",
     "text": [
      "LeftLanesLength 14\n",
      "RightLanesLength 22\n",
      "LeftLanesLength 12\n",
      "RightLanesLength 28\n"
     ]
    },
    {
     "name": "stderr",
     "output_type": "stream",
     "text": [
      " 49%|████▊     | 108/222 [00:09<00:12,  9.22it/s]"
     ]
    },
    {
     "name": "stdout",
     "output_type": "stream",
     "text": [
      "LeftLanesLength 18\n",
      "RightLanesLength 24\n",
      "LeftLanesLength 24\n",
      "RightLanesLength 22\n"
     ]
    },
    {
     "name": "stderr",
     "output_type": "stream",
     "text": [
      "\r",
      " 49%|████▉     | 109/222 [00:09<00:12,  9.34it/s]"
     ]
    },
    {
     "name": "stdout",
     "output_type": "stream",
     "text": [
      "LeftLanesLength 28\n",
      "RightLanesLength 16\n",
      "LeftLanesLength 26\n",
      "RightLanesLength 12\n"
     ]
    },
    {
     "name": "stderr",
     "output_type": "stream",
     "text": [
      " 51%|█████     | 113/222 [00:10<00:10,  9.97it/s]"
     ]
    },
    {
     "name": "stdout",
     "output_type": "stream",
     "text": [
      "LeftLanesLength 22\n",
      "RightLanesLength 16\n",
      "LeftLanesLength 26\n",
      "RightLanesLength 24\n",
      "LeftLanesLength 18\n",
      "RightLanesLength 30\n"
     ]
    },
    {
     "name": "stderr",
     "output_type": "stream",
     "text": [
      "\r",
      " 52%|█████▏    | 115/222 [00:10<00:11,  9.48it/s]"
     ]
    },
    {
     "name": "stdout",
     "output_type": "stream",
     "text": [
      "LeftLanesLength 12\n",
      "RightLanesLength 24\n",
      "LeftLanesLength 20\n",
      "RightLanesLength 26\n"
     ]
    },
    {
     "name": "stderr",
     "output_type": "stream",
     "text": [
      "\r",
      " 52%|█████▏    | 116/222 [00:10<00:11,  8.99it/s]"
     ]
    },
    {
     "name": "stdout",
     "output_type": "stream",
     "text": [
      "LeftLanesLength 18\n",
      "RightLanesLength 30\n",
      "LeftLanesLength 16\n",
      "RightLanesLength 28\n"
     ]
    },
    {
     "name": "stderr",
     "output_type": "stream",
     "text": [
      " 54%|█████▎    | 119/222 [00:10<00:11,  8.97it/s]"
     ]
    },
    {
     "name": "stdout",
     "output_type": "stream",
     "text": [
      "LeftLanesLength 16\n",
      "RightLanesLength 18\n",
      "LeftLanesLength 16\n",
      "RightLanesLength 28\n"
     ]
    },
    {
     "name": "stderr",
     "output_type": "stream",
     "text": [
      " 55%|█████▍    | 121/222 [00:11<00:12,  7.95it/s]"
     ]
    },
    {
     "name": "stdout",
     "output_type": "stream",
     "text": [
      "LeftLanesLength 24\n",
      "RightLanesLength 24\n",
      "LeftLanesLength 24\n",
      "RightLanesLength 18\n"
     ]
    },
    {
     "name": "stderr",
     "output_type": "stream",
     "text": [
      "\r",
      " 55%|█████▌    | 123/222 [00:11<00:11,  8.93it/s]"
     ]
    },
    {
     "name": "stdout",
     "output_type": "stream",
     "text": [
      "LeftLanesLength 32\n",
      "RightLanesLength 26\n",
      "LeftLanesLength 24\n",
      "RightLanesLength 24\n",
      "LeftLanesLength 20\n",
      "RightLanesLength 18\n"
     ]
    },
    {
     "name": "stderr",
     "output_type": "stream",
     "text": [
      " 57%|█████▋    | 127/222 [00:11<00:09, 10.11it/s]"
     ]
    },
    {
     "name": "stdout",
     "output_type": "stream",
     "text": [
      "LeftLanesLength 20\n",
      "RightLanesLength 12\n",
      "LeftLanesLength 14\n",
      "RightLanesLength 34\n",
      "LeftLanesLength 14\n",
      "RightLanesLength 28\n"
     ]
    },
    {
     "name": "stderr",
     "output_type": "stream",
     "text": [
      "\r",
      " 58%|█████▊    | 129/222 [00:11<00:08, 10.74it/s]"
     ]
    },
    {
     "name": "stdout",
     "output_type": "stream",
     "text": [
      "LeftLanesLength 14\n",
      "RightLanesLength 30\n",
      "LeftLanesLength 20\n",
      "RightLanesLength 12\n",
      "LeftLanesLength 16\n",
      "RightLanesLength 20\n"
     ]
    },
    {
     "name": "stderr",
     "output_type": "stream",
     "text": [
      "\r",
      " 59%|█████▉    | 131/222 [00:12<00:09,  9.61it/s]"
     ]
    },
    {
     "name": "stdout",
     "output_type": "stream",
     "text": [
      "LeftLanesLength 22\n",
      "RightLanesLength 22\n",
      "LeftLanesLength 26\n",
      "RightLanesLength 10\n"
     ]
    },
    {
     "name": "stderr",
     "output_type": "stream",
     "text": [
      " 61%|██████    | 135/222 [00:12<00:08, 10.87it/s]"
     ]
    },
    {
     "name": "stdout",
     "output_type": "stream",
     "text": [
      "LeftLanesLength 34\n",
      "RightLanesLength 18\n",
      "LeftLanesLength 22\n",
      "RightLanesLength 14\n",
      "LeftLanesLength 30\n",
      "RightLanesLength 20\n"
     ]
    },
    {
     "name": "stderr",
     "output_type": "stream",
     "text": [
      "\r",
      " 62%|██████▏   | 137/222 [00:12<00:07, 11.30it/s]"
     ]
    },
    {
     "name": "stdout",
     "output_type": "stream",
     "text": [
      "LeftLanesLength 28\n",
      "RightLanesLength 20\n",
      "LeftLanesLength 20\n",
      "RightLanesLength 22\n",
      "LeftLanesLength 16\n",
      "RightLanesLength 14\n"
     ]
    },
    {
     "name": "stderr",
     "output_type": "stream",
     "text": [
      " 64%|██████▎   | 141/222 [00:12<00:06, 11.61it/s]"
     ]
    },
    {
     "name": "stdout",
     "output_type": "stream",
     "text": [
      "LeftLanesLength 10\n",
      "RightLanesLength 8\n",
      "LeftLanesLength 14\n",
      "RightLanesLength 12\n",
      "LeftLanesLength 18\n",
      "RightLanesLength 10\n"
     ]
    },
    {
     "name": "stderr",
     "output_type": "stream",
     "text": [
      "\r",
      " 64%|██████▍   | 143/222 [00:13<00:06, 11.91it/s]"
     ]
    },
    {
     "name": "stdout",
     "output_type": "stream",
     "text": [
      "LeftLanesLength 14\n",
      "RightLanesLength 24\n",
      "LeftLanesLength 14\n",
      "RightLanesLength 30\n",
      "LeftLanesLength 18\n",
      "RightLanesLength 12\n"
     ]
    },
    {
     "name": "stderr",
     "output_type": "stream",
     "text": [
      "\r",
      " 65%|██████▌   | 145/222 [00:13<00:06, 11.37it/s]"
     ]
    },
    {
     "name": "stdout",
     "output_type": "stream",
     "text": [
      "LeftLanesLength 16\n",
      "RightLanesLength 14\n",
      "LeftLanesLength 32\n",
      "RightLanesLength 8\n",
      "LeftLanesLength 24\n",
      "RightLanesLength 12\n"
     ]
    },
    {
     "name": "stderr",
     "output_type": "stream",
     "text": [
      " 67%|██████▋   | 149/222 [00:13<00:06, 11.26it/s]"
     ]
    },
    {
     "name": "stdout",
     "output_type": "stream",
     "text": [
      "LeftLanesLength 18\n",
      "RightLanesLength 8\n",
      "LeftLanesLength 20\n",
      "RightLanesLength 20\n",
      "LeftLanesLength 16\n",
      "RightLanesLength 18\n"
     ]
    },
    {
     "name": "stderr",
     "output_type": "stream",
     "text": [
      "\r",
      " 68%|██████▊   | 151/222 [00:13<00:06, 11.79it/s]"
     ]
    },
    {
     "name": "stdout",
     "output_type": "stream",
     "text": [
      "LeftLanesLength 22\n",
      "RightLanesLength 18\n",
      "LeftLanesLength 18\n",
      "RightLanesLength 12\n"
     ]
    },
    {
     "name": "stderr",
     "output_type": "stream",
     "text": [
      "\r",
      " 69%|██████▉   | 153/222 [00:14<00:06, 10.57it/s]"
     ]
    },
    {
     "name": "stdout",
     "output_type": "stream",
     "text": [
      "LeftLanesLength 18\n",
      "RightLanesLength 8\n",
      "LeftLanesLength 20\n",
      "RightLanesLength 10\n"
     ]
    },
    {
     "name": "stderr",
     "output_type": "stream",
     "text": [
      "\r",
      " 70%|██████▉   | 155/222 [00:14<00:06, 10.00it/s]"
     ]
    },
    {
     "name": "stdout",
     "output_type": "stream",
     "text": [
      "LeftLanesLength 18\n",
      "RightLanesLength 16\n",
      "LeftLanesLength 16\n",
      "RightLanesLength 16\n"
     ]
    },
    {
     "name": "stderr",
     "output_type": "stream",
     "text": [
      " 72%|███████▏  | 159/222 [00:14<00:05, 11.06it/s]"
     ]
    },
    {
     "name": "stdout",
     "output_type": "stream",
     "text": [
      "LeftLanesLength 28\n",
      "RightLanesLength 24\n",
      "LeftLanesLength 22\n",
      "RightLanesLength 20\n",
      "LeftLanesLength 20\n",
      "RightLanesLength 20\n"
     ]
    },
    {
     "name": "stderr",
     "output_type": "stream",
     "text": [
      "\r",
      " 73%|███████▎  | 161/222 [00:14<00:05, 10.65it/s]"
     ]
    },
    {
     "name": "stdout",
     "output_type": "stream",
     "text": [
      "LeftLanesLength 22\n",
      "RightLanesLength 20\n",
      "LeftLanesLength 20\n",
      "RightLanesLength 20\n"
     ]
    },
    {
     "name": "stderr",
     "output_type": "stream",
     "text": [
      "\r",
      " 73%|███████▎  | 163/222 [00:14<00:05, 10.51it/s]"
     ]
    },
    {
     "name": "stdout",
     "output_type": "stream",
     "text": [
      "LeftLanesLength 14\n",
      "RightLanesLength 16\n",
      "LeftLanesLength 12\n",
      "RightLanesLength 16\n",
      "LeftLanesLength 12\n",
      "RightLanesLength 18\n"
     ]
    },
    {
     "name": "stderr",
     "output_type": "stream",
     "text": [
      "\r",
      " 74%|███████▍  | 165/222 [00:15<00:05, 10.69it/s]"
     ]
    },
    {
     "name": "stdout",
     "output_type": "stream",
     "text": [
      "LeftLanesLength 14\n",
      "RightLanesLength 12\n",
      "LeftLanesLength 14\n",
      "RightLanesLength 8\n"
     ]
    },
    {
     "name": "stderr",
     "output_type": "stream",
     "text": [
      "\r",
      " 75%|███████▌  | 167/222 [00:15<00:05, 10.09it/s]"
     ]
    },
    {
     "name": "stdout",
     "output_type": "stream",
     "text": [
      "LeftLanesLength 16\n",
      "RightLanesLength 12\n",
      "LeftLanesLength 18\n",
      "RightLanesLength 16\n",
      "LeftLanesLength 34\n",
      "RightLanesLength 16\n"
     ]
    },
    {
     "name": "stderr",
     "output_type": "stream",
     "text": [
      " 77%|███████▋  | 171/222 [00:15<00:04, 10.42it/s]"
     ]
    },
    {
     "name": "stdout",
     "output_type": "stream",
     "text": [
      "LeftLanesLength 30\n",
      "RightLanesLength 12\n",
      "LeftLanesLength 28\n",
      "RightLanesLength 10\n"
     ]
    },
    {
     "name": "stderr",
     "output_type": "stream",
     "text": [
      "\r",
      " 78%|███████▊  | 173/222 [00:16<00:05,  9.52it/s]"
     ]
    },
    {
     "name": "stdout",
     "output_type": "stream",
     "text": [
      "LeftLanesLength 22\n",
      "RightLanesLength 16\n",
      "LeftLanesLength 22\n",
      "RightLanesLength 18\n"
     ]
    },
    {
     "name": "stderr",
     "output_type": "stream",
     "text": [
      "\r",
      " 79%|███████▉  | 175/222 [00:16<00:04, 10.33it/s]"
     ]
    },
    {
     "name": "stdout",
     "output_type": "stream",
     "text": [
      "LeftLanesLength 14\n",
      "RightLanesLength 24\n",
      "LeftLanesLength 18\n",
      "RightLanesLength 16\n",
      "LeftLanesLength 18\n",
      "RightLanesLength 16\n"
     ]
    },
    {
     "name": "stderr",
     "output_type": "stream",
     "text": [
      "\r",
      " 80%|███████▉  | 177/222 [00:16<00:04, 10.42it/s]"
     ]
    },
    {
     "name": "stdout",
     "output_type": "stream",
     "text": [
      "LeftLanesLength 16\n",
      "RightLanesLength 20\n",
      "LeftLanesLength 18\n",
      "RightLanesLength 18\n",
      "LeftLanesLength 22\n",
      "RightLanesLength 16\n"
     ]
    },
    {
     "name": "stderr",
     "output_type": "stream",
     "text": [
      " 82%|████████▏ | 181/222 [00:16<00:04,  9.73it/s]"
     ]
    },
    {
     "name": "stdout",
     "output_type": "stream",
     "text": [
      "LeftLanesLength 18\n",
      "RightLanesLength 12\n",
      "LeftLanesLength 24\n",
      "RightLanesLength 18\n"
     ]
    },
    {
     "name": "stderr",
     "output_type": "stream",
     "text": [
      "\r",
      " 82%|████████▏ | 183/222 [00:17<00:04,  9.11it/s]"
     ]
    },
    {
     "name": "stdout",
     "output_type": "stream",
     "text": [
      "LeftLanesLength 26\n",
      "RightLanesLength 16\n",
      "LeftLanesLength 26\n",
      "RightLanesLength 10\n"
     ]
    },
    {
     "name": "stderr",
     "output_type": "stream",
     "text": [
      " 84%|████████▍ | 186/222 [00:17<00:03,  9.77it/s]"
     ]
    },
    {
     "name": "stdout",
     "output_type": "stream",
     "text": [
      "LeftLanesLength 28\n",
      "RightLanesLength 18\n",
      "LeftLanesLength 20\n",
      "RightLanesLength 20\n",
      "LeftLanesLength 20\n",
      "RightLanesLength 14\n"
     ]
    },
    {
     "name": "stderr",
     "output_type": "stream",
     "text": [
      "\r",
      " 85%|████████▍ | 188/222 [00:17<00:03,  9.74it/s]"
     ]
    },
    {
     "name": "stdout",
     "output_type": "stream",
     "text": [
      "LeftLanesLength 16\n",
      "RightLanesLength 16\n",
      "LeftLanesLength 14\n",
      "RightLanesLength 10\n"
     ]
    },
    {
     "name": "stderr",
     "output_type": "stream",
     "text": [
      "\r",
      " 86%|████████▌ | 190/222 [00:17<00:03,  9.56it/s]"
     ]
    },
    {
     "name": "stdout",
     "output_type": "stream",
     "text": [
      "LeftLanesLength 14\n",
      "RightLanesLength 18\n",
      "LeftLanesLength 20\n",
      "RightLanesLength 12\n",
      "LeftLanesLength 20\n",
      "RightLanesLength 14\n"
     ]
    },
    {
     "name": "stderr",
     "output_type": "stream",
     "text": [
      "\r",
      " 86%|████████▋ | 192/222 [00:17<00:03,  9.87it/s]"
     ]
    },
    {
     "name": "stdout",
     "output_type": "stream",
     "text": [
      "LeftLanesLength 16\n",
      "RightLanesLength 14\n",
      "LeftLanesLength 26\n",
      "RightLanesLength 8\n",
      "LeftLanesLength 20\n",
      "RightLanesLength 22\n"
     ]
    },
    {
     "name": "stderr",
     "output_type": "stream",
     "text": [
      " 88%|████████▊ | 196/222 [00:18<00:02, 10.30it/s]"
     ]
    },
    {
     "name": "stdout",
     "output_type": "stream",
     "text": [
      "LeftLanesLength 30\n",
      "RightLanesLength 30\n",
      "LeftLanesLength 26\n",
      "RightLanesLength 20\n",
      "LeftLanesLength 22\n",
      "RightLanesLength 8\n"
     ]
    },
    {
     "name": "stderr",
     "output_type": "stream",
     "text": [
      "\r",
      " 89%|████████▉ | 198/222 [00:18<00:02, 10.40it/s]"
     ]
    },
    {
     "name": "stdout",
     "output_type": "stream",
     "text": [
      "LeftLanesLength 14\n",
      "RightLanesLength 12\n",
      "LeftLanesLength 16\n",
      "RightLanesLength 20\n"
     ]
    },
    {
     "name": "stderr",
     "output_type": "stream",
     "text": [
      "\r",
      " 90%|█████████ | 200/222 [00:18<00:02,  9.94it/s]"
     ]
    },
    {
     "name": "stdout",
     "output_type": "stream",
     "text": [
      "LeftLanesLength 16\n",
      "RightLanesLength 12\n",
      "LeftLanesLength 20\n",
      "RightLanesLength 26\n"
     ]
    },
    {
     "name": "stderr",
     "output_type": "stream",
     "text": [
      " 91%|█████████▏| 203/222 [00:19<00:01,  9.60it/s]"
     ]
    },
    {
     "name": "stdout",
     "output_type": "stream",
     "text": [
      "LeftLanesLength 16\n",
      "RightLanesLength 20\n",
      "LeftLanesLength 16\n",
      "RightLanesLength 22\n",
      "LeftLanesLength 14\n",
      "RightLanesLength 18\n"
     ]
    },
    {
     "name": "stderr",
     "output_type": "stream",
     "text": [
      " 93%|█████████▎| 207/222 [00:19<00:01, 11.46it/s]"
     ]
    },
    {
     "name": "stdout",
     "output_type": "stream",
     "text": [
      "LeftLanesLength 24\n",
      "RightLanesLength 14\n",
      "LeftLanesLength 32\n",
      "RightLanesLength 10\n",
      "LeftLanesLength 24\n",
      "RightLanesLength 10\n"
     ]
    },
    {
     "name": "stderr",
     "output_type": "stream",
     "text": [
      "\r",
      " 94%|█████████▍| 209/222 [00:19<00:01, 11.53it/s]"
     ]
    },
    {
     "name": "stdout",
     "output_type": "stream",
     "text": [
      "LeftLanesLength 26\n",
      "RightLanesLength 8\n",
      "LeftLanesLength 26\n",
      "RightLanesLength 14\n",
      "LeftLanesLength 14\n",
      "RightLanesLength 12\n"
     ]
    },
    {
     "name": "stderr",
     "output_type": "stream",
     "text": [
      "\r",
      " 95%|█████████▌| 211/222 [00:19<00:00, 11.38it/s]"
     ]
    },
    {
     "name": "stdout",
     "output_type": "stream",
     "text": [
      "LeftLanesLength 14\n",
      "RightLanesLength 10\n",
      "LeftLanesLength 22\n",
      "RightLanesLength 8\n"
     ]
    },
    {
     "name": "stderr",
     "output_type": "stream",
     "text": [
      "\r",
      " 96%|█████████▌| 213/222 [00:19<00:00, 10.18it/s]"
     ]
    },
    {
     "name": "stdout",
     "output_type": "stream",
     "text": [
      "LeftLanesLength 14\n",
      "RightLanesLength 22\n",
      "LeftLanesLength 16\n",
      "RightLanesLength 18\n"
     ]
    },
    {
     "name": "stderr",
     "output_type": "stream",
     "text": [
      " 97%|█████████▋| 216/222 [00:20<00:00,  9.51it/s]"
     ]
    },
    {
     "name": "stdout",
     "output_type": "stream",
     "text": [
      "LeftLanesLength 18\n",
      "RightLanesLength 16\n",
      "LeftLanesLength 20\n",
      "RightLanesLength 10\n"
     ]
    },
    {
     "name": "stderr",
     "output_type": "stream",
     "text": [
      " 98%|█████████▊| 218/222 [00:20<00:00,  8.83it/s]"
     ]
    },
    {
     "name": "stdout",
     "output_type": "stream",
     "text": [
      "LeftLanesLength 24\n",
      "RightLanesLength 10\n",
      "LeftLanesLength 30\n",
      "RightLanesLength 6\n"
     ]
    },
    {
     "name": "stderr",
     "output_type": "stream",
     "text": [
      " 99%|█████████▉| 220/222 [00:20<00:00,  8.74it/s]"
     ]
    },
    {
     "name": "stdout",
     "output_type": "stream",
     "text": [
      "LeftLanesLength 32\n",
      "RightLanesLength 10\n",
      "LeftLanesLength 28\n",
      "RightLanesLength 12\n"
     ]
    },
    {
     "name": "stderr",
     "output_type": "stream",
     "text": [
      "100%|█████████▉| 221/222 [00:20<00:00,  8.90it/s]\n"
     ]
    },
    {
     "name": "stdout",
     "output_type": "stream",
     "text": [
      "LeftLanesLength 20\n",
      "RightLanesLength 14\n",
      "[MoviePy] Done.\n",
      "[MoviePy] >>>> Video ready: white.mp4 \n",
      "\n",
      "CPU times: user 1min 28s, sys: 4.6 s, total: 1min 32s\n",
      "Wall time: 21.5 s\n"
     ]
    }
   ],
   "source": [
    "white_output = 'white.mp4'\n",
    "clip1 = VideoFileClip(\"solidWhiteRight.mp4\")\n",
    "white_clip = clip1.fl_image(process_image) #NOTE: this function expects color images!!\n",
    "%time white_clip.write_videofile(white_output, audio=False)"
   ]
  },
  {
   "cell_type": "markdown",
   "metadata": {},
   "source": [
    "Play the video inline, or if you prefer find the video in your filesystem (should be in the same directory) and play it in your video player of choice."
   ]
  },
  {
   "cell_type": "code",
   "execution_count": 11,
   "metadata": {
    "collapsed": false
   },
   "outputs": [
    {
     "data": {
      "text/html": [
       "\n",
       "<video width=\"960\" height=\"540\" controls>\n",
       "  <source src=\"white.mp4\">\n",
       "</video>\n"
      ],
      "text/plain": [
       "<IPython.core.display.HTML object>"
      ]
     },
     "execution_count": 11,
     "metadata": {},
     "output_type": "execute_result"
    }
   ],
   "source": [
    "HTML(\"\"\"\n",
    "<video width=\"960\" height=\"540\" controls>\n",
    "  <source src=\"{0}\">\n",
    "</video>\n",
    "\"\"\".format(white_output))"
   ]
  },
  {
   "cell_type": "markdown",
   "metadata": {},
   "source": [
    "**At this point, if you were successful you probably have the Hough line segments drawn onto the road, but what about identifying the full extent of the lane and marking it clearly as in the example video (P1_example.mp4)?  Think about defining a line to run the full length of the visible lane based on the line segments you identified with the Hough Transform.  Modify your draw_lines function accordingly and try re-running your pipeline.**"
   ]
  },
  {
   "cell_type": "markdown",
   "metadata": {},
   "source": [
    "Now for the one with the solid yellow lane on the left. This one's more tricky!"
   ]
  },
  {
   "cell_type": "code",
   "execution_count": 9,
   "metadata": {
    "collapsed": false
   },
   "outputs": [
    {
     "name": "stdout",
     "output_type": "stream",
     "text": [
      "LeftLanesLength 14\n",
      "RightLanesLength 18\n",
      "[MoviePy] >>>> Building video yellow.mp4\n",
      "[MoviePy] Writing video yellow.mp4\n"
     ]
    },
    {
     "name": "stderr",
     "output_type": "stream",
     "text": [
      "  0%|          | 2/682 [00:00<02:01,  5.62it/s]"
     ]
    },
    {
     "name": "stdout",
     "output_type": "stream",
     "text": [
      "LeftLanesLength 14\n",
      "RightLanesLength 18\n",
      "LeftLanesLength 24\n",
      "RightLanesLength 26\n",
      "LeftLanesLength 30\n",
      "RightLanesLength 26\n"
     ]
    },
    {
     "name": "stderr",
     "output_type": "stream",
     "text": [
      "  1%|          | 5/682 [00:00<01:33,  7.24it/s]"
     ]
    },
    {
     "name": "stdout",
     "output_type": "stream",
     "text": [
      "LeftLanesLength 30\n",
      "RightLanesLength 18\n",
      "LeftLanesLength 12\n",
      "RightLanesLength 24\n",
      "LeftLanesLength 22\n",
      "RightLanesLength 14\n"
     ]
    },
    {
     "name": "stderr",
     "output_type": "stream",
     "text": [
      "  1%|▏         | 9/682 [00:00<01:07, 10.01it/s]"
     ]
    },
    {
     "name": "stdout",
     "output_type": "stream",
     "text": [
      "LeftLanesLength 22\n",
      "RightLanesLength 18\n",
      "LeftLanesLength 18\n",
      "RightLanesLength 12\n",
      "LeftLanesLength 26\n",
      "RightLanesLength 14\n",
      "LeftLanesLength 32\n",
      "RightLanesLength 20\n"
     ]
    },
    {
     "name": "stderr",
     "output_type": "stream",
     "text": [
      "  2%|▏         | 13/682 [00:01<01:01, 10.79it/s]"
     ]
    },
    {
     "name": "stdout",
     "output_type": "stream",
     "text": [
      "LeftLanesLength 36\n",
      "RightLanesLength 14\n",
      "LeftLanesLength 22\n",
      "RightLanesLength 22\n",
      "LeftLanesLength 16\n",
      "RightLanesLength 28\n"
     ]
    },
    {
     "name": "stderr",
     "output_type": "stream",
     "text": [
      "\r",
      "  2%|▏         | 15/682 [00:01<01:04, 10.40it/s]"
     ]
    },
    {
     "name": "stdout",
     "output_type": "stream",
     "text": [
      "LeftLanesLength 24\n",
      "RightLanesLength 24\n",
      "LeftLanesLength 24\n",
      "RightLanesLength 22\n"
     ]
    },
    {
     "name": "stderr",
     "output_type": "stream",
     "text": [
      "\r",
      "  2%|▏         | 17/682 [00:01<01:05, 10.12it/s]"
     ]
    },
    {
     "name": "stdout",
     "output_type": "stream",
     "text": [
      "LeftLanesLength 42\n",
      "RightLanesLength 20\n",
      "LeftLanesLength 22\n",
      "RightLanesLength 14\n",
      "LeftLanesLength 20\n",
      "RightLanesLength 12\n"
     ]
    },
    {
     "name": "stderr",
     "output_type": "stream",
     "text": [
      "  3%|▎         | 20/682 [00:02<01:12,  9.15it/s]"
     ]
    },
    {
     "name": "stdout",
     "output_type": "stream",
     "text": [
      "LeftLanesLength 14\n",
      "RightLanesLength 12\n",
      "LeftLanesLength 14\n",
      "RightLanesLength 12\n"
     ]
    },
    {
     "name": "stderr",
     "output_type": "stream",
     "text": [
      "  3%|▎         | 22/682 [00:02<01:27,  7.58it/s]"
     ]
    },
    {
     "name": "stdout",
     "output_type": "stream",
     "text": [
      "LeftLanesLength 18\n",
      "RightLanesLength 16\n",
      "LeftLanesLength 26\n",
      "RightLanesLength 16\n"
     ]
    },
    {
     "name": "stderr",
     "output_type": "stream",
     "text": [
      "  4%|▍         | 26/682 [00:02<01:03, 10.38it/s]"
     ]
    },
    {
     "name": "stdout",
     "output_type": "stream",
     "text": [
      "LeftLanesLength 36\n",
      "RightLanesLength 10\n",
      "LeftLanesLength 30\n",
      "RightLanesLength 20\n",
      "LeftLanesLength 22\n",
      "RightLanesLength 26\n",
      "LeftLanesLength 28\n",
      "RightLanesLength 26\n"
     ]
    },
    {
     "name": "stderr",
     "output_type": "stream",
     "text": [
      "\r",
      "  4%|▍         | 28/682 [00:02<00:55, 11.80it/s]"
     ]
    },
    {
     "name": "stdout",
     "output_type": "stream",
     "text": [
      "LeftLanesLength 32\n",
      "RightLanesLength 22\n",
      "LeftLanesLength 22\n",
      "RightLanesLength 20\n",
      "LeftLanesLength 32\n",
      "RightLanesLength 14\n"
     ]
    },
    {
     "name": "stderr",
     "output_type": "stream",
     "text": [
      "  5%|▍         | 32/682 [00:02<00:47, 13.59it/s]"
     ]
    },
    {
     "name": "stdout",
     "output_type": "stream",
     "text": [
      "LeftLanesLength 38\n",
      "RightLanesLength 14\n",
      "LeftLanesLength 30\n",
      "RightLanesLength 12\n",
      "LeftLanesLength 38\n",
      "RightLanesLength 12\n",
      "LeftLanesLength 34\n",
      "RightLanesLength 14\n"
     ]
    },
    {
     "name": "stderr",
     "output_type": "stream",
     "text": [
      "  5%|▌         | 36/682 [00:03<00:43, 14.91it/s]"
     ]
    },
    {
     "name": "stdout",
     "output_type": "stream",
     "text": [
      "LeftLanesLength 20\n",
      "RightLanesLength 16\n",
      "LeftLanesLength 34\n",
      "RightLanesLength 14\n",
      "LeftLanesLength 36\n",
      "RightLanesLength 18\n",
      "LeftLanesLength 24\n",
      "RightLanesLength 20\n"
     ]
    },
    {
     "name": "stderr",
     "output_type": "stream",
     "text": [
      "  6%|▌         | 40/682 [00:03<00:38, 16.64it/s]"
     ]
    },
    {
     "name": "stdout",
     "output_type": "stream",
     "text": [
      "LeftLanesLength 18\n",
      "RightLanesLength 18\n",
      "LeftLanesLength 46\n",
      "RightLanesLength 18\n",
      "LeftLanesLength 20\n",
      "RightLanesLength 12\n",
      "LeftLanesLength 30\n",
      "RightLanesLength 10\n"
     ]
    },
    {
     "name": "stderr",
     "output_type": "stream",
     "text": [
      "\r",
      "  6%|▌         | 42/682 [00:03<00:49, 13.05it/s]"
     ]
    },
    {
     "name": "stdout",
     "output_type": "stream",
     "text": [
      "LeftLanesLength 20\n",
      "RightLanesLength 12\n"
     ]
    },
    {
     "name": "stderr",
     "output_type": "stream",
     "text": [
      "\r",
      "  6%|▋         | 44/682 [00:03<00:54, 11.65it/s]"
     ]
    },
    {
     "name": "stdout",
     "output_type": "stream",
     "text": [
      "LeftLanesLength 20\n",
      "RightLanesLength 16\n",
      "LeftLanesLength 14\n",
      "RightLanesLength 12\n"
     ]
    },
    {
     "name": "stderr",
     "output_type": "stream",
     "text": [
      "\r",
      "  7%|▋         | 46/682 [00:04<00:54, 11.64it/s]"
     ]
    },
    {
     "name": "stdout",
     "output_type": "stream",
     "text": [
      "LeftLanesLength 28\n",
      "RightLanesLength 14\n",
      "LeftLanesLength 36\n",
      "RightLanesLength 18\n",
      "LeftLanesLength 28\n",
      "RightLanesLength 12\n"
     ]
    },
    {
     "name": "stderr",
     "output_type": "stream",
     "text": [
      "\r",
      "  7%|▋         | 48/682 [00:04<00:53, 11.87it/s]"
     ]
    },
    {
     "name": "stdout",
     "output_type": "stream",
     "text": [
      "LeftLanesLength 20\n",
      "RightLanesLength 16\n",
      "LeftLanesLength 28\n",
      "RightLanesLength 16\n"
     ]
    },
    {
     "name": "stderr",
     "output_type": "stream",
     "text": [
      "\r",
      "  7%|▋         | 50/682 [00:04<00:58, 10.82it/s]"
     ]
    },
    {
     "name": "stdout",
     "output_type": "stream",
     "text": [
      "LeftLanesLength 16\n",
      "RightLanesLength 18\n",
      "LeftLanesLength 18\n",
      "RightLanesLength 20\n"
     ]
    },
    {
     "name": "stderr",
     "output_type": "stream",
     "text": [
      "\r",
      "  8%|▊         | 52/682 [00:04<01:01, 10.17it/s]"
     ]
    },
    {
     "name": "stdout",
     "output_type": "stream",
     "text": [
      "LeftLanesLength 20\n",
      "RightLanesLength 14\n",
      "LeftLanesLength 14\n",
      "RightLanesLength 14\n"
     ]
    },
    {
     "name": "stderr",
     "output_type": "stream",
     "text": [
      "\r",
      "  8%|▊         | 54/682 [00:04<01:12,  8.68it/s]"
     ]
    },
    {
     "name": "stdout",
     "output_type": "stream",
     "text": [
      "LeftLanesLength 56\n",
      "RightLanesLength 12\n",
      "LeftLanesLength 28\n",
      "RightLanesLength 14\n"
     ]
    },
    {
     "name": "stderr",
     "output_type": "stream",
     "text": [
      "  8%|▊         | 57/682 [00:05<01:27,  7.11it/s]"
     ]
    },
    {
     "name": "stdout",
     "output_type": "stream",
     "text": [
      "LeftLanesLength 20\n",
      "RightLanesLength 14\n",
      "LeftLanesLength 22\n",
      "RightLanesLength 14\n"
     ]
    },
    {
     "name": "stderr",
     "output_type": "stream",
     "text": [
      "  9%|▉         | 60/682 [00:05<01:11,  8.70it/s]"
     ]
    },
    {
     "name": "stdout",
     "output_type": "stream",
     "text": [
      "LeftLanesLength 12\n",
      "RightLanesLength 14\n",
      "LeftLanesLength 22\n",
      "RightLanesLength 22\n",
      "LeftLanesLength 14\n",
      "RightLanesLength 12\n"
     ]
    },
    {
     "name": "stderr",
     "output_type": "stream",
     "text": [
      "\r",
      "  9%|▉         | 62/682 [00:05<01:04,  9.56it/s]"
     ]
    },
    {
     "name": "stdout",
     "output_type": "stream",
     "text": [
      "LeftLanesLength 12\n",
      "RightLanesLength 18\n",
      "LeftLanesLength 22\n",
      "RightLanesLength 22\n",
      "LeftLanesLength 14\n",
      "RightLanesLength 24\n"
     ]
    },
    {
     "name": "stderr",
     "output_type": "stream",
     "text": [
      " 10%|▉         | 65/682 [00:06<01:05,  9.39it/s]"
     ]
    },
    {
     "name": "stdout",
     "output_type": "stream",
     "text": [
      "LeftLanesLength 50\n",
      "RightLanesLength 26\n",
      "LeftLanesLength 20\n",
      "RightLanesLength 16\n"
     ]
    },
    {
     "name": "stderr",
     "output_type": "stream",
     "text": [
      "\r",
      " 10%|▉         | 67/682 [00:06<01:01, 10.06it/s]"
     ]
    },
    {
     "name": "stdout",
     "output_type": "stream",
     "text": [
      "LeftLanesLength 30\n",
      "RightLanesLength 16\n",
      "LeftLanesLength 16\n",
      "RightLanesLength 16\n",
      "LeftLanesLength 20\n",
      "RightLanesLength 12\n"
     ]
    },
    {
     "name": "stderr",
     "output_type": "stream",
     "text": [
      "\r",
      " 10%|█         | 69/682 [00:06<00:57, 10.73it/s]"
     ]
    },
    {
     "name": "stdout",
     "output_type": "stream",
     "text": [
      "LeftLanesLength 22\n",
      "RightLanesLength 14\n",
      "LeftLanesLength 22\n",
      "RightLanesLength 10\n"
     ]
    },
    {
     "name": "stderr",
     "output_type": "stream",
     "text": [
      "\r",
      " 10%|█         | 71/682 [00:06<01:00, 10.08it/s]"
     ]
    },
    {
     "name": "stdout",
     "output_type": "stream",
     "text": [
      "LeftLanesLength 16\n",
      "RightLanesLength 16\n",
      "LeftLanesLength 38\n",
      "RightLanesLength 14\n"
     ]
    },
    {
     "name": "stderr",
     "output_type": "stream",
     "text": [
      "\r",
      " 11%|█         | 73/682 [00:06<01:01,  9.93it/s]"
     ]
    },
    {
     "name": "stdout",
     "output_type": "stream",
     "text": [
      "LeftLanesLength 42\n",
      "RightLanesLength 8\n",
      "LeftLanesLength 22\n",
      "RightLanesLength 28\n"
     ]
    },
    {
     "name": "stderr",
     "output_type": "stream",
     "text": [
      "\r",
      " 11%|█         | 75/682 [00:07<01:08,  8.90it/s]"
     ]
    },
    {
     "name": "stdout",
     "output_type": "stream",
     "text": [
      "LeftLanesLength 30\n",
      "RightLanesLength 26\n"
     ]
    },
    {
     "name": "stderr",
     "output_type": "stream",
     "text": [
      "\r",
      " 11%|█         | 76/682 [00:07<01:27,  6.95it/s]"
     ]
    },
    {
     "name": "stdout",
     "output_type": "stream",
     "text": [
      "LeftLanesLength 24\n",
      "RightLanesLength 22\n",
      "LeftLanesLength 22\n",
      "RightLanesLength 20\n"
     ]
    },
    {
     "name": "stderr",
     "output_type": "stream",
     "text": [
      " 12%|█▏        | 79/682 [00:07<01:25,  7.02it/s]"
     ]
    },
    {
     "name": "stdout",
     "output_type": "stream",
     "text": [
      "LeftLanesLength 22\n",
      "RightLanesLength 28\n",
      "LeftLanesLength 24\n",
      "RightLanesLength 18\n"
     ]
    },
    {
     "name": "stderr",
     "output_type": "stream",
     "text": [
      " 12%|█▏        | 83/682 [00:08<01:00,  9.84it/s]"
     ]
    },
    {
     "name": "stdout",
     "output_type": "stream",
     "text": [
      "LeftLanesLength 14\n",
      "RightLanesLength 22\n",
      "LeftLanesLength 20\n",
      "RightLanesLength 10\n",
      "LeftLanesLength 22\n",
      "RightLanesLength 18\n",
      "LeftLanesLength 20\n",
      "RightLanesLength 16\n"
     ]
    },
    {
     "name": "stderr",
     "output_type": "stream",
     "text": [
      "\r",
      " 12%|█▏        | 85/682 [00:08<00:55, 10.73it/s]"
     ]
    },
    {
     "name": "stdout",
     "output_type": "stream",
     "text": [
      "LeftLanesLength 24\n",
      "RightLanesLength 12\n",
      "LeftLanesLength 20\n",
      "RightLanesLength 10\n",
      "LeftLanesLength 26\n",
      "RightLanesLength 14\n"
     ]
    },
    {
     "name": "stderr",
     "output_type": "stream",
     "text": [
      "\r",
      " 13%|█▎        | 87/682 [00:08<00:54, 10.84it/s]"
     ]
    },
    {
     "name": "stdout",
     "output_type": "stream",
     "text": [
      "LeftLanesLength 28\n",
      "RightLanesLength 18\n",
      "LeftLanesLength 20\n",
      "RightLanesLength 26\n"
     ]
    },
    {
     "name": "stderr",
     "output_type": "stream",
     "text": [
      "\r",
      " 13%|█▎        | 89/682 [00:08<00:57, 10.25it/s]"
     ]
    },
    {
     "name": "stdout",
     "output_type": "stream",
     "text": [
      "LeftLanesLength 28\n",
      "RightLanesLength 26\n",
      "LeftLanesLength 30\n",
      "RightLanesLength 32\n"
     ]
    },
    {
     "name": "stderr",
     "output_type": "stream",
     "text": [
      "\r",
      " 13%|█▎        | 91/682 [00:08<01:03,  9.38it/s]"
     ]
    },
    {
     "name": "stdout",
     "output_type": "stream",
     "text": [
      "LeftLanesLength 10\n",
      "RightLanesLength 24\n",
      "LeftLanesLength 14\n",
      "RightLanesLength 26\n"
     ]
    },
    {
     "name": "stderr",
     "output_type": "stream",
     "text": [
      " 14%|█▍        | 94/682 [00:09<01:12,  8.14it/s]"
     ]
    },
    {
     "name": "stdout",
     "output_type": "stream",
     "text": [
      "LeftLanesLength 10\n",
      "RightLanesLength 18\n",
      "LeftLanesLength 42\n",
      "RightLanesLength 12\n"
     ]
    },
    {
     "name": "stderr",
     "output_type": "stream",
     "text": [
      "\r",
      " 14%|█▍        | 96/682 [00:09<01:03,  9.16it/s]"
     ]
    },
    {
     "name": "stdout",
     "output_type": "stream",
     "text": [
      "LeftLanesLength 26\n",
      "RightLanesLength 12\n",
      "LeftLanesLength 16\n",
      "RightLanesLength 18\n",
      "LeftLanesLength 28\n",
      "RightLanesLength 24\n"
     ]
    },
    {
     "name": "stderr",
     "output_type": "stream",
     "text": [
      "\r",
      " 14%|█▍        | 98/682 [00:09<01:06,  8.78it/s]"
     ]
    },
    {
     "name": "stdout",
     "output_type": "stream",
     "text": [
      "LeftLanesLength 26\n",
      "RightLanesLength 14\n",
      "LeftLanesLength 20\n",
      "RightLanesLength 18\n",
      "LeftLanesLength 18\n",
      "RightLanesLength 22\n"
     ]
    },
    {
     "name": "stderr",
     "output_type": "stream",
     "text": [
      " 15%|█▍        | 102/682 [00:10<01:03,  9.17it/s]"
     ]
    },
    {
     "name": "stdout",
     "output_type": "stream",
     "text": [
      "LeftLanesLength 14\n",
      "RightLanesLength 22\n",
      "LeftLanesLength 30\n",
      "RightLanesLength 30\n",
      "LeftLanesLength 26\n",
      "RightLanesLength 24\n"
     ]
    },
    {
     "name": "stderr",
     "output_type": "stream",
     "text": [
      "\r",
      " 15%|█▌        | 104/682 [00:10<00:55, 10.45it/s]"
     ]
    },
    {
     "name": "stdout",
     "output_type": "stream",
     "text": [
      "LeftLanesLength 12\n",
      "RightLanesLength 22\n",
      "LeftLanesLength 30\n",
      "RightLanesLength 22\n",
      "LeftLanesLength 24\n",
      "RightLanesLength 16\n"
     ]
    },
    {
     "name": "stderr",
     "output_type": "stream",
     "text": [
      "\r",
      " 16%|█▌        | 106/682 [00:10<00:56, 10.14it/s]"
     ]
    },
    {
     "name": "stdout",
     "output_type": "stream",
     "text": [
      "LeftLanesLength 16\n",
      "RightLanesLength 12\n",
      "LeftLanesLength 12\n",
      "RightLanesLength 16\n"
     ]
    },
    {
     "name": "stderr",
     "output_type": "stream",
     "text": [
      " 16%|█▌        | 110/682 [00:10<01:02,  9.15it/s]"
     ]
    },
    {
     "name": "stdout",
     "output_type": "stream",
     "text": [
      "LeftLanesLength 28\n",
      "RightLanesLength 12\n",
      "LeftLanesLength 18\n",
      "RightLanesLength 20\n"
     ]
    },
    {
     "name": "stderr",
     "output_type": "stream",
     "text": [
      " 16%|█▋        | 112/682 [00:11<01:13,  7.79it/s]"
     ]
    },
    {
     "name": "stdout",
     "output_type": "stream",
     "text": [
      "LeftLanesLength 36\n",
      "RightLanesLength 10\n",
      "LeftLanesLength 28\n",
      "RightLanesLength 12\n"
     ]
    },
    {
     "name": "stderr",
     "output_type": "stream",
     "text": [
      "\r",
      " 17%|█▋        | 114/682 [00:11<01:06,  8.56it/s]"
     ]
    },
    {
     "name": "stdout",
     "output_type": "stream",
     "text": [
      "LeftLanesLength 42\n",
      "RightLanesLength 26\n",
      "LeftLanesLength 40\n",
      "RightLanesLength 22\n",
      "LeftLanesLength 34\n",
      "RightLanesLength 24\n"
     ]
    },
    {
     "name": "stderr",
     "output_type": "stream",
     "text": [
      "\r",
      " 17%|█▋        | 116/682 [00:11<01:01,  9.27it/s]"
     ]
    },
    {
     "name": "stdout",
     "output_type": "stream",
     "text": [
      "LeftLanesLength 28\n",
      "RightLanesLength 26\n",
      "LeftLanesLength 26\n",
      "RightLanesLength 22\n",
      "LeftLanesLength 28\n",
      "RightLanesLength 20\n"
     ]
    },
    {
     "name": "stderr",
     "output_type": "stream",
     "text": [
      " 18%|█▊        | 120/682 [00:11<00:57,  9.69it/s]"
     ]
    },
    {
     "name": "stdout",
     "output_type": "stream",
     "text": [
      "LeftLanesLength 26\n",
      "RightLanesLength 16\n",
      "LeftLanesLength 30\n",
      "RightLanesLength 12\n"
     ]
    },
    {
     "name": "stderr",
     "output_type": "stream",
     "text": [
      "\r",
      " 18%|█▊        | 122/682 [00:12<00:56,  9.84it/s]"
     ]
    },
    {
     "name": "stdout",
     "output_type": "stream",
     "text": [
      "LeftLanesLength 34\n",
      "RightLanesLength 14\n",
      "LeftLanesLength 32\n",
      "RightLanesLength 10\n",
      "LeftLanesLength 18\n",
      "RightLanesLength 18\n"
     ]
    },
    {
     "name": "stderr",
     "output_type": "stream",
     "text": [
      " 18%|█▊        | 125/682 [00:12<00:56,  9.78it/s]"
     ]
    },
    {
     "name": "stdout",
     "output_type": "stream",
     "text": [
      "LeftLanesLength 30\n",
      "RightLanesLength 14\n",
      "LeftLanesLength 16\n",
      "RightLanesLength 36\n"
     ]
    },
    {
     "name": "stderr",
     "output_type": "stream",
     "text": [
      " 19%|█▊        | 127/682 [00:12<00:56,  9.85it/s]"
     ]
    },
    {
     "name": "stdout",
     "output_type": "stream",
     "text": [
      "LeftLanesLength 18\n",
      "RightLanesLength 24\n",
      "LeftLanesLength 30\n",
      "RightLanesLength 18\n",
      "LeftLanesLength 20\n",
      "RightLanesLength 22\n"
     ]
    },
    {
     "name": "stderr",
     "output_type": "stream",
     "text": [
      " 19%|█▉        | 129/682 [00:12<00:56,  9.72it/s]"
     ]
    },
    {
     "name": "stdout",
     "output_type": "stream",
     "text": [
      "LeftLanesLength 30\n",
      "RightLanesLength 20\n",
      "LeftLanesLength 22\n",
      "RightLanesLength 20\n",
      "LeftLanesLength 22\n",
      "RightLanesLength 16\n"
     ]
    },
    {
     "name": "stderr",
     "output_type": "stream",
     "text": [
      " 20%|█▉        | 133/682 [00:13<00:53, 10.23it/s]"
     ]
    },
    {
     "name": "stdout",
     "output_type": "stream",
     "text": [
      "LeftLanesLength 22\n",
      "RightLanesLength 12\n",
      "LeftLanesLength 24\n",
      "RightLanesLength 22\n"
     ]
    },
    {
     "name": "stderr",
     "output_type": "stream",
     "text": [
      "\r",
      " 20%|█▉        | 135/682 [00:13<00:58,  9.42it/s]"
     ]
    },
    {
     "name": "stdout",
     "output_type": "stream",
     "text": [
      "LeftLanesLength 16\n",
      "RightLanesLength 12\n",
      "LeftLanesLength 30\n",
      "RightLanesLength 14\n"
     ]
    },
    {
     "name": "stderr",
     "output_type": "stream",
     "text": [
      " 20%|██        | 137/682 [00:13<01:04,  8.45it/s]"
     ]
    },
    {
     "name": "stdout",
     "output_type": "stream",
     "text": [
      "LeftLanesLength 10\n",
      "RightLanesLength 16\n",
      "LeftLanesLength 14\n",
      "RightLanesLength 20\n"
     ]
    },
    {
     "name": "stderr",
     "output_type": "stream",
     "text": [
      " 20%|██        | 139/682 [00:14<01:06,  8.15it/s]"
     ]
    },
    {
     "name": "stdout",
     "output_type": "stream",
     "text": [
      "LeftLanesLength 12\n",
      "RightLanesLength 24\n",
      "LeftLanesLength 38\n",
      "RightLanesLength 22\n"
     ]
    },
    {
     "name": "stderr",
     "output_type": "stream",
     "text": [
      " 21%|██        | 141/682 [00:14<01:06,  8.12it/s]"
     ]
    },
    {
     "name": "stdout",
     "output_type": "stream",
     "text": [
      "LeftLanesLength 22\n",
      "RightLanesLength 26\n",
      "LeftLanesLength 28\n",
      "RightLanesLength 22\n"
     ]
    },
    {
     "name": "stderr",
     "output_type": "stream",
     "text": [
      " 21%|██        | 143/682 [00:14<01:02,  8.57it/s]"
     ]
    },
    {
     "name": "stdout",
     "output_type": "stream",
     "text": [
      "LeftLanesLength 16\n",
      "RightLanesLength 24\n",
      "LeftLanesLength 18\n",
      "RightLanesLength 18\n"
     ]
    },
    {
     "name": "stderr",
     "output_type": "stream",
     "text": [
      " 21%|██▏       | 145/682 [00:14<01:01,  8.75it/s]"
     ]
    },
    {
     "name": "stdout",
     "output_type": "stream",
     "text": [
      "LeftLanesLength 28\n",
      "RightLanesLength 12\n",
      "LeftLanesLength 28\n",
      "RightLanesLength 12\n"
     ]
    },
    {
     "name": "stderr",
     "output_type": "stream",
     "text": [
      " 22%|██▏       | 147/682 [00:14<01:00,  8.81it/s]"
     ]
    },
    {
     "name": "stdout",
     "output_type": "stream",
     "text": [
      "LeftLanesLength 34\n",
      "RightLanesLength 18\n",
      "LeftLanesLength 34\n",
      "RightLanesLength 16\n"
     ]
    },
    {
     "name": "stderr",
     "output_type": "stream",
     "text": [
      " 22%|██▏       | 149/682 [00:15<00:59,  8.89it/s]"
     ]
    },
    {
     "name": "stdout",
     "output_type": "stream",
     "text": [
      "LeftLanesLength 24\n",
      "RightLanesLength 16\n",
      "LeftLanesLength 30\n",
      "RightLanesLength 26\n"
     ]
    },
    {
     "name": "stderr",
     "output_type": "stream",
     "text": [
      " 22%|██▏       | 151/682 [00:15<01:02,  8.47it/s]"
     ]
    },
    {
     "name": "stdout",
     "output_type": "stream",
     "text": [
      "LeftLanesLength 26\n",
      "RightLanesLength 20\n",
      "LeftLanesLength 18\n",
      "RightLanesLength 26\n"
     ]
    },
    {
     "name": "stderr",
     "output_type": "stream",
     "text": [
      " 22%|██▏       | 153/682 [00:15<01:04,  8.25it/s]"
     ]
    },
    {
     "name": "stdout",
     "output_type": "stream",
     "text": [
      "LeftLanesLength 16\n",
      "RightLanesLength 24\n",
      "LeftLanesLength 36\n",
      "RightLanesLength 26\n"
     ]
    },
    {
     "name": "stderr",
     "output_type": "stream",
     "text": [
      " 23%|██▎       | 155/682 [00:15<01:05,  8.03it/s]"
     ]
    },
    {
     "name": "stdout",
     "output_type": "stream",
     "text": [
      "LeftLanesLength 28\n",
      "RightLanesLength 24\n",
      "LeftLanesLength 32\n",
      "RightLanesLength 18\n"
     ]
    },
    {
     "name": "stderr",
     "output_type": "stream",
     "text": [
      " 23%|██▎       | 158/682 [00:16<00:56,  9.30it/s]"
     ]
    },
    {
     "name": "stdout",
     "output_type": "stream",
     "text": [
      "LeftLanesLength 38\n",
      "RightLanesLength 14\n",
      "LeftLanesLength 34\n",
      "RightLanesLength 8\n",
      "LeftLanesLength 18\n",
      "RightLanesLength 12\n"
     ]
    },
    {
     "name": "stderr",
     "output_type": "stream",
     "text": [
      "\r",
      " 23%|██▎       | 160/682 [00:16<00:56,  9.29it/s]"
     ]
    },
    {
     "name": "stdout",
     "output_type": "stream",
     "text": [
      "LeftLanesLength 20\n",
      "RightLanesLength 14\n",
      "LeftLanesLength 16\n",
      "RightLanesLength 16\n"
     ]
    },
    {
     "name": "stderr",
     "output_type": "stream",
     "text": [
      "\r",
      " 24%|██▍       | 162/682 [00:16<00:50, 10.21it/s]"
     ]
    },
    {
     "name": "stdout",
     "output_type": "stream",
     "text": [
      "LeftLanesLength 32\n",
      "RightLanesLength 18\n",
      "LeftLanesLength 28\n",
      "RightLanesLength 30\n",
      "LeftLanesLength 32\n",
      "RightLanesLength 20\n"
     ]
    },
    {
     "name": "stderr",
     "output_type": "stream",
     "text": [
      "\r",
      " 24%|██▍       | 164/682 [00:16<00:50, 10.35it/s]"
     ]
    },
    {
     "name": "stdout",
     "output_type": "stream",
     "text": [
      "LeftLanesLength 16\n",
      "RightLanesLength 22\n",
      "LeftLanesLength 18\n",
      "RightLanesLength 26\n"
     ]
    },
    {
     "name": "stderr",
     "output_type": "stream",
     "text": [
      "\r",
      " 24%|██▍       | 166/682 [00:16<00:50, 10.21it/s]"
     ]
    },
    {
     "name": "stdout",
     "output_type": "stream",
     "text": [
      "LeftLanesLength 22\n",
      "RightLanesLength 16\n",
      "LeftLanesLength 34\n",
      "RightLanesLength 12\n",
      "LeftLanesLength 34\n",
      "RightLanesLength 12\n"
     ]
    },
    {
     "name": "stderr",
     "output_type": "stream",
     "text": [
      " 25%|██▍       | 170/682 [00:17<00:54,  9.36it/s]"
     ]
    },
    {
     "name": "stdout",
     "output_type": "stream",
     "text": [
      "LeftLanesLength 24\n",
      "RightLanesLength 14\n",
      "LeftLanesLength 24\n",
      "RightLanesLength 14\n"
     ]
    },
    {
     "name": "stderr",
     "output_type": "stream",
     "text": [
      "\r",
      " 25%|██▌       | 172/682 [00:17<00:53,  9.53it/s]"
     ]
    },
    {
     "name": "stdout",
     "output_type": "stream",
     "text": [
      "LeftLanesLength 38\n",
      "RightLanesLength 14\n",
      "LeftLanesLength 30\n",
      "RightLanesLength 14\n"
     ]
    },
    {
     "name": "stderr",
     "output_type": "stream",
     "text": [
      " 26%|██▌       | 175/682 [00:17<00:49, 10.17it/s]"
     ]
    },
    {
     "name": "stdout",
     "output_type": "stream",
     "text": [
      "LeftLanesLength 18\n",
      "RightLanesLength 18\n",
      "LeftLanesLength 22\n",
      "RightLanesLength 14\n",
      "LeftLanesLength 22\n",
      "RightLanesLength 18\n"
     ]
    },
    {
     "name": "stderr",
     "output_type": "stream",
     "text": [
      "\r",
      " 26%|██▌       | 177/682 [00:18<00:49, 10.16it/s]"
     ]
    },
    {
     "name": "stdout",
     "output_type": "stream",
     "text": [
      "LeftLanesLength 26\n",
      "RightLanesLength 14\n",
      "LeftLanesLength 32\n",
      "RightLanesLength 16\n",
      "LeftLanesLength 16\n",
      "RightLanesLength 10\n"
     ]
    },
    {
     "name": "stderr",
     "output_type": "stream",
     "text": [
      " 27%|██▋       | 181/682 [00:18<00:44, 11.31it/s]"
     ]
    },
    {
     "name": "stdout",
     "output_type": "stream",
     "text": [
      "LeftLanesLength 18\n",
      "RightLanesLength 10\n",
      "LeftLanesLength 10\n",
      "RightLanesLength 12\n",
      "LeftLanesLength 18\n",
      "RightLanesLength 10\n"
     ]
    },
    {
     "name": "stderr",
     "output_type": "stream",
     "text": [
      "\r",
      " 27%|██▋       | 183/682 [00:18<00:44, 11.25it/s]"
     ]
    },
    {
     "name": "stdout",
     "output_type": "stream",
     "text": [
      "LeftLanesLength 16\n",
      "RightLanesLength 12\n",
      "LeftLanesLength 40\n",
      "RightLanesLength 14\n"
     ]
    },
    {
     "name": "stderr",
     "output_type": "stream",
     "text": [
      "\r",
      " 27%|██▋       | 185/682 [00:18<00:44, 11.20it/s]"
     ]
    },
    {
     "name": "stdout",
     "output_type": "stream",
     "text": [
      "LeftLanesLength 14\n",
      "RightLanesLength 16\n",
      "LeftLanesLength 26\n",
      "RightLanesLength 12\n"
     ]
    },
    {
     "name": "stderr",
     "output_type": "stream",
     "text": [
      "\r",
      " 27%|██▋       | 187/682 [00:19<00:52,  9.42it/s]"
     ]
    },
    {
     "name": "stdout",
     "output_type": "stream",
     "text": [
      "LeftLanesLength 18\n",
      "RightLanesLength 14\n",
      "LeftLanesLength 24\n",
      "RightLanesLength 16\n"
     ]
    },
    {
     "name": "stderr",
     "output_type": "stream",
     "text": [
      "\r",
      " 28%|██▊       | 189/682 [00:19<00:48, 10.10it/s]"
     ]
    },
    {
     "name": "stdout",
     "output_type": "stream",
     "text": [
      "LeftLanesLength 32\n",
      "RightLanesLength 18\n",
      "LeftLanesLength 28\n",
      "RightLanesLength 18\n",
      "LeftLanesLength 24\n",
      "RightLanesLength 14\n"
     ]
    },
    {
     "name": "stderr",
     "output_type": "stream",
     "text": [
      " 28%|██▊       | 193/682 [00:19<00:44, 11.10it/s]"
     ]
    },
    {
     "name": "stdout",
     "output_type": "stream",
     "text": [
      "LeftLanesLength 26\n",
      "RightLanesLength 12\n",
      "LeftLanesLength 38\n",
      "RightLanesLength 12\n",
      "LeftLanesLength 20\n",
      "RightLanesLength 10\n"
     ]
    },
    {
     "name": "stderr",
     "output_type": "stream",
     "text": [
      "\r",
      " 29%|██▊       | 195/682 [00:19<00:43, 11.23it/s]"
     ]
    },
    {
     "name": "stdout",
     "output_type": "stream",
     "text": [
      "LeftLanesLength 40\n",
      "RightLanesLength 8\n",
      "LeftLanesLength 40\n",
      "RightLanesLength 14\n",
      "LeftLanesLength 24\n",
      "RightLanesLength 14\n"
     ]
    },
    {
     "name": "stderr",
     "output_type": "stream",
     "text": [
      "\r",
      " 29%|██▉       | 197/682 [00:19<00:45, 10.61it/s]"
     ]
    },
    {
     "name": "stdout",
     "output_type": "stream",
     "text": [
      "LeftLanesLength 16\n",
      "RightLanesLength 14\n",
      "LeftLanesLength 22\n",
      "RightLanesLength 12\n"
     ]
    },
    {
     "name": "stderr",
     "output_type": "stream",
     "text": [
      " 29%|██▉       | 201/682 [00:20<00:45, 10.61it/s]"
     ]
    },
    {
     "name": "stdout",
     "output_type": "stream",
     "text": [
      "LeftLanesLength 20\n",
      "RightLanesLength 16\n",
      "LeftLanesLength 38\n",
      "RightLanesLength 20\n",
      "LeftLanesLength 24\n",
      "RightLanesLength 22\n"
     ]
    },
    {
     "name": "stderr",
     "output_type": "stream",
     "text": [
      "\r",
      " 30%|██▉       | 203/682 [00:20<00:42, 11.26it/s]"
     ]
    },
    {
     "name": "stdout",
     "output_type": "stream",
     "text": [
      "LeftLanesLength 28\n",
      "RightLanesLength 22\n",
      "LeftLanesLength 26\n",
      "RightLanesLength 12\n",
      "LeftLanesLength 20\n",
      "RightLanesLength 16\n"
     ]
    },
    {
     "name": "stderr",
     "output_type": "stream",
     "text": [
      "\r",
      " 30%|███       | 205/682 [00:20<00:41, 11.53it/s]"
     ]
    },
    {
     "name": "stdout",
     "output_type": "stream",
     "text": [
      "LeftLanesLength 26\n",
      "RightLanesLength 10\n",
      "LeftLanesLength 34\n",
      "RightLanesLength 8\n"
     ]
    },
    {
     "name": "stderr",
     "output_type": "stream",
     "text": [
      " 31%|███       | 209/682 [00:20<00:40, 11.68it/s]"
     ]
    },
    {
     "name": "stdout",
     "output_type": "stream",
     "text": [
      "LeftLanesLength 20\n",
      "RightLanesLength 10\n",
      "LeftLanesLength 16\n",
      "RightLanesLength 16\n",
      "LeftLanesLength 24\n",
      "RightLanesLength 16\n",
      "LeftLanesLength 20\n",
      "RightLanesLength 18\n"
     ]
    },
    {
     "name": "stderr",
     "output_type": "stream",
     "text": [
      " 31%|███       | 213/682 [00:21<00:36, 12.99it/s]"
     ]
    },
    {
     "name": "stdout",
     "output_type": "stream",
     "text": [
      "LeftLanesLength 18\n",
      "RightLanesLength 14\n",
      "LeftLanesLength 14\n",
      "RightLanesLength 18\n",
      "LeftLanesLength 30\n",
      "RightLanesLength 28\n"
     ]
    },
    {
     "name": "stderr",
     "output_type": "stream",
     "text": [
      "\r",
      " 32%|███▏      | 215/682 [00:21<00:37, 12.62it/s]"
     ]
    },
    {
     "name": "stdout",
     "output_type": "stream",
     "text": [
      "LeftLanesLength 20\n",
      "RightLanesLength 16\n",
      "LeftLanesLength 28\n",
      "RightLanesLength 26\n",
      "LeftLanesLength 18\n",
      "RightLanesLength 22\n"
     ]
    },
    {
     "name": "stderr",
     "output_type": "stream",
     "text": [
      " 32%|███▏      | 219/682 [00:21<00:37, 12.40it/s]"
     ]
    },
    {
     "name": "stdout",
     "output_type": "stream",
     "text": [
      "LeftLanesLength 18\n",
      "RightLanesLength 20\n",
      "LeftLanesLength 16\n",
      "RightLanesLength 12\n",
      "LeftLanesLength 42\n",
      "RightLanesLength 16\n",
      "LeftLanesLength 22\n",
      "RightLanesLength 10\n"
     ]
    },
    {
     "name": "stderr",
     "output_type": "stream",
     "text": [
      " 33%|███▎      | 223/682 [00:22<00:35, 12.90it/s]"
     ]
    },
    {
     "name": "stdout",
     "output_type": "stream",
     "text": [
      "LeftLanesLength 12\n",
      "RightLanesLength 12\n",
      "LeftLanesLength 16\n",
      "RightLanesLength 22\n",
      "LeftLanesLength 34\n",
      "RightLanesLength 18\n"
     ]
    },
    {
     "name": "stderr",
     "output_type": "stream",
     "text": [
      "\r",
      " 33%|███▎      | 225/682 [00:22<00:38, 11.98it/s]"
     ]
    },
    {
     "name": "stdout",
     "output_type": "stream",
     "text": [
      "LeftLanesLength 22\n",
      "RightLanesLength 28\n",
      "LeftLanesLength 12\n",
      "RightLanesLength 20\n",
      "LeftLanesLength 48\n",
      "RightLanesLength 20\n"
     ]
    },
    {
     "name": "stderr",
     "output_type": "stream",
     "text": [
      "\r",
      " 33%|███▎      | 227/682 [00:22<00:37, 12.13it/s]"
     ]
    },
    {
     "name": "stdout",
     "output_type": "stream",
     "text": [
      "LeftLanesLength 20\n",
      "RightLanesLength 24\n",
      "LeftLanesLength 20\n",
      "RightLanesLength 20\n",
      "LeftLanesLength 18\n",
      "RightLanesLength 14\n"
     ]
    },
    {
     "name": "stderr",
     "output_type": "stream",
     "text": [
      " 34%|███▍      | 231/682 [00:22<00:38, 11.83it/s]"
     ]
    },
    {
     "name": "stdout",
     "output_type": "stream",
     "text": [
      "LeftLanesLength 30\n",
      "RightLanesLength 14\n",
      "LeftLanesLength 16\n",
      "RightLanesLength 14\n",
      "LeftLanesLength 16\n",
      "RightLanesLength 16\n"
     ]
    },
    {
     "name": "stderr",
     "output_type": "stream",
     "text": [
      " 34%|███▍      | 235/682 [00:23<00:37, 11.93it/s]"
     ]
    },
    {
     "name": "stdout",
     "output_type": "stream",
     "text": [
      "LeftLanesLength 18\n",
      "RightLanesLength 18\n",
      "LeftLanesLength 18\n",
      "RightLanesLength 20\n",
      "LeftLanesLength 16\n",
      "RightLanesLength 16\n"
     ]
    },
    {
     "name": "stderr",
     "output_type": "stream",
     "text": [
      "\r",
      " 35%|███▍      | 237/682 [00:23<00:38, 11.43it/s]"
     ]
    },
    {
     "name": "stdout",
     "output_type": "stream",
     "text": [
      "LeftLanesLength 16\n",
      "RightLanesLength 14\n",
      "LeftLanesLength 26\n",
      "RightLanesLength 18\n",
      "LeftLanesLength 18\n",
      "RightLanesLength 20\n"
     ]
    },
    {
     "name": "stderr",
     "output_type": "stream",
     "text": [
      "\r",
      " 35%|███▌      | 239/682 [00:23<00:37, 11.68it/s]"
     ]
    },
    {
     "name": "stdout",
     "output_type": "stream",
     "text": [
      "LeftLanesLength 16\n",
      "RightLanesLength 22\n",
      "LeftLanesLength 30\n",
      "RightLanesLength 18\n"
     ]
    },
    {
     "name": "stderr",
     "output_type": "stream",
     "text": [
      "\r",
      " 35%|███▌      | 241/682 [00:23<00:41, 10.51it/s]"
     ]
    },
    {
     "name": "stdout",
     "output_type": "stream",
     "text": [
      "LeftLanesLength 22\n",
      "RightLanesLength 14\n",
      "LeftLanesLength 22\n",
      "RightLanesLength 16\n"
     ]
    },
    {
     "name": "stderr",
     "output_type": "stream",
     "text": [
      "\r",
      " 36%|███▌      | 243/682 [00:23<00:43, 10.02it/s]"
     ]
    },
    {
     "name": "stdout",
     "output_type": "stream",
     "text": [
      "LeftLanesLength 22\n",
      "RightLanesLength 8\n",
      "LeftLanesLength 20\n",
      "RightLanesLength 12\n"
     ]
    },
    {
     "name": "stderr",
     "output_type": "stream",
     "text": [
      " 36%|███▌      | 246/682 [00:24<00:49,  8.78it/s]"
     ]
    },
    {
     "name": "stdout",
     "output_type": "stream",
     "text": [
      "LeftLanesLength 20\n",
      "RightLanesLength 12\n",
      "LeftLanesLength 14\n",
      "RightLanesLength 16\n"
     ]
    },
    {
     "name": "stderr",
     "output_type": "stream",
     "text": [
      "\r",
      " 36%|███▌      | 247/682 [00:24<00:49,  8.81it/s]"
     ]
    },
    {
     "name": "stdout",
     "output_type": "stream",
     "text": [
      "LeftLanesLength 26\n",
      "RightLanesLength 16\n",
      "LeftLanesLength 20\n",
      "RightLanesLength 18\n",
      "LeftLanesLength 50\n",
      "RightLanesLength 22\n"
     ]
    },
    {
     "name": "stderr",
     "output_type": "stream",
     "text": [
      " 37%|███▋      | 251/682 [00:24<00:47,  9.17it/s]"
     ]
    },
    {
     "name": "stdout",
     "output_type": "stream",
     "text": [
      "LeftLanesLength 32\n",
      "RightLanesLength 14\n",
      "LeftLanesLength 28\n",
      "RightLanesLength 26\n"
     ]
    },
    {
     "name": "stderr",
     "output_type": "stream",
     "text": [
      "\r",
      " 37%|███▋      | 253/682 [00:24<00:42, 10.01it/s]"
     ]
    },
    {
     "name": "stdout",
     "output_type": "stream",
     "text": [
      "LeftLanesLength 20\n",
      "RightLanesLength 18\n",
      "LeftLanesLength 30\n",
      "RightLanesLength 26\n",
      "LeftLanesLength 46\n",
      "RightLanesLength 24\n"
     ]
    },
    {
     "name": "stderr",
     "output_type": "stream",
     "text": [
      " 38%|███▊      | 256/682 [00:25<00:45,  9.39it/s]"
     ]
    },
    {
     "name": "stdout",
     "output_type": "stream",
     "text": [
      "LeftLanesLength 40\n",
      "RightLanesLength 16\n",
      "LeftLanesLength 28\n",
      "RightLanesLength 18\n"
     ]
    },
    {
     "name": "stderr",
     "output_type": "stream",
     "text": [
      " 38%|███▊      | 258/682 [00:25<00:46,  9.03it/s]"
     ]
    },
    {
     "name": "stdout",
     "output_type": "stream",
     "text": [
      "LeftLanesLength 14\n",
      "RightLanesLength 16\n",
      "LeftLanesLength 8\n",
      "RightLanesLength 12\n"
     ]
    },
    {
     "name": "stderr",
     "output_type": "stream",
     "text": [
      "\r",
      " 38%|███▊      | 259/682 [00:25<00:47,  8.96it/s]"
     ]
    },
    {
     "name": "stdout",
     "output_type": "stream",
     "text": [
      "LeftLanesLength 12\n",
      "RightLanesLength 14\n",
      "LeftLanesLength 10\n",
      "RightLanesLength 14\n",
      "LeftLanesLength 40\n",
      "RightLanesLength 16\n"
     ]
    },
    {
     "name": "stderr",
     "output_type": "stream",
     "text": [
      " 39%|███▊      | 263/682 [00:25<00:40, 10.36it/s]"
     ]
    },
    {
     "name": "stdout",
     "output_type": "stream",
     "text": [
      "LeftLanesLength 22\n",
      "RightLanesLength 12\n",
      "LeftLanesLength 18\n",
      "RightLanesLength 16\n",
      "LeftLanesLength 16\n",
      "RightLanesLength 20\n"
     ]
    },
    {
     "name": "stderr",
     "output_type": "stream",
     "text": [
      "\r",
      " 39%|███▉      | 265/682 [00:26<00:40, 10.29it/s]"
     ]
    },
    {
     "name": "stdout",
     "output_type": "stream",
     "text": [
      "LeftLanesLength 18\n",
      "RightLanesLength 20\n",
      "LeftLanesLength 36\n",
      "RightLanesLength 18\n"
     ]
    },
    {
     "name": "stderr",
     "output_type": "stream",
     "text": [
      "\r",
      " 39%|███▉      | 267/682 [00:26<00:42,  9.81it/s]"
     ]
    },
    {
     "name": "stdout",
     "output_type": "stream",
     "text": [
      "LeftLanesLength 26\n",
      "RightLanesLength 22\n",
      "LeftLanesLength 38\n",
      "RightLanesLength 16\n"
     ]
    },
    {
     "name": "stderr",
     "output_type": "stream",
     "text": [
      " 40%|███▉      | 270/682 [00:26<00:46,  8.95it/s]"
     ]
    },
    {
     "name": "stdout",
     "output_type": "stream",
     "text": [
      "LeftLanesLength 18\n",
      "RightLanesLength 10\n",
      "LeftLanesLength 26\n",
      "RightLanesLength 10\n"
     ]
    },
    {
     "name": "stderr",
     "output_type": "stream",
     "text": [
      " 40%|████      | 273/682 [00:27<00:43,  9.39it/s]"
     ]
    },
    {
     "name": "stdout",
     "output_type": "stream",
     "text": [
      "LeftLanesLength 22\n",
      "RightLanesLength 14\n",
      "LeftLanesLength 24\n",
      "RightLanesLength 16\n",
      "LeftLanesLength 16\n",
      "RightLanesLength 14\n"
     ]
    },
    {
     "name": "stderr",
     "output_type": "stream",
     "text": [
      "\r",
      " 40%|████      | 275/682 [00:27<00:39, 10.33it/s]"
     ]
    },
    {
     "name": "stdout",
     "output_type": "stream",
     "text": [
      "LeftLanesLength 18\n",
      "RightLanesLength 10\n",
      "LeftLanesLength 20\n",
      "RightLanesLength 14\n",
      "LeftLanesLength 24\n",
      "RightLanesLength 20\n"
     ]
    },
    {
     "name": "stderr",
     "output_type": "stream",
     "text": [
      "\r",
      " 41%|████      | 277/682 [00:27<00:37, 10.80it/s]"
     ]
    },
    {
     "name": "stdout",
     "output_type": "stream",
     "text": [
      "LeftLanesLength 24\n",
      "RightLanesLength 18\n",
      "LeftLanesLength 28\n",
      "RightLanesLength 24\n"
     ]
    },
    {
     "name": "stderr",
     "output_type": "stream",
     "text": [
      "\r",
      " 41%|████      | 279/682 [00:27<00:41,  9.68it/s]"
     ]
    },
    {
     "name": "stdout",
     "output_type": "stream",
     "text": [
      "LeftLanesLength 16\n",
      "RightLanesLength 22\n",
      "LeftLanesLength 52\n",
      "RightLanesLength 16\n",
      "LeftLanesLength 24\n",
      "RightLanesLength 16\n"
     ]
    },
    {
     "name": "stderr",
     "output_type": "stream",
     "text": [
      " 41%|████▏     | 283/682 [00:27<00:36, 10.89it/s]"
     ]
    },
    {
     "name": "stdout",
     "output_type": "stream",
     "text": [
      "LeftLanesLength 26\n",
      "RightLanesLength 10\n",
      "LeftLanesLength 20\n",
      "RightLanesLength 14\n",
      "LeftLanesLength 28\n",
      "RightLanesLength 18\n"
     ]
    },
    {
     "name": "stderr",
     "output_type": "stream",
     "text": [
      "\r",
      " 42%|████▏     | 285/682 [00:28<00:35, 11.10it/s]"
     ]
    },
    {
     "name": "stdout",
     "output_type": "stream",
     "text": [
      "LeftLanesLength 20\n",
      "RightLanesLength 18\n",
      "LeftLanesLength 20\n",
      "RightLanesLength 12\n",
      "LeftLanesLength 20\n",
      "RightLanesLength 16\n"
     ]
    },
    {
     "name": "stderr",
     "output_type": "stream",
     "text": [
      " 42%|████▏     | 289/682 [00:28<00:35, 11.17it/s]"
     ]
    },
    {
     "name": "stdout",
     "output_type": "stream",
     "text": [
      "LeftLanesLength 32\n",
      "RightLanesLength 16\n",
      "LeftLanesLength 36\n",
      "RightLanesLength 24\n",
      "LeftLanesLength 34\n",
      "RightLanesLength 24\n"
     ]
    },
    {
     "name": "stderr",
     "output_type": "stream",
     "text": [
      " 43%|████▎     | 293/682 [00:28<00:36, 10.55it/s]"
     ]
    },
    {
     "name": "stdout",
     "output_type": "stream",
     "text": [
      "LeftLanesLength 42\n",
      "RightLanesLength 20\n",
      "LeftLanesLength 38\n",
      "RightLanesLength 20\n",
      "LeftLanesLength 22\n",
      "RightLanesLength 18\n"
     ]
    },
    {
     "name": "stderr",
     "output_type": "stream",
     "text": [
      "\r",
      " 43%|████▎     | 295/682 [00:29<00:37, 10.21it/s]"
     ]
    },
    {
     "name": "stdout",
     "output_type": "stream",
     "text": [
      "LeftLanesLength 34\n",
      "RightLanesLength 16\n",
      "LeftLanesLength 22\n",
      "RightLanesLength 14\n"
     ]
    },
    {
     "name": "stderr",
     "output_type": "stream",
     "text": [
      "\r",
      " 44%|████▎     | 297/682 [00:29<00:44,  8.68it/s]"
     ]
    },
    {
     "name": "stdout",
     "output_type": "stream",
     "text": [
      "LeftLanesLength 24\n",
      "RightLanesLength 16\n",
      "LeftLanesLength 20\n",
      "RightLanesLength 12\n"
     ]
    },
    {
     "name": "stderr",
     "output_type": "stream",
     "text": [
      "\r",
      " 44%|████▍     | 299/682 [00:29<00:40,  9.54it/s]"
     ]
    },
    {
     "name": "stdout",
     "output_type": "stream",
     "text": [
      "LeftLanesLength 30\n",
      "RightLanesLength 18\n",
      "LeftLanesLength 40\n",
      "RightLanesLength 14\n",
      "LeftLanesLength 18\n",
      "RightLanesLength 12\n"
     ]
    },
    {
     "name": "stderr",
     "output_type": "stream",
     "text": [
      " 44%|████▍     | 303/682 [00:29<00:35, 10.66it/s]"
     ]
    },
    {
     "name": "stdout",
     "output_type": "stream",
     "text": [
      "LeftLanesLength 24\n",
      "RightLanesLength 20\n",
      "LeftLanesLength 22\n",
      "RightLanesLength 22\n",
      "LeftLanesLength 26\n",
      "RightLanesLength 24\n"
     ]
    },
    {
     "name": "stderr",
     "output_type": "stream",
     "text": [
      "\r",
      " 45%|████▍     | 305/682 [00:30<00:36, 10.30it/s]"
     ]
    },
    {
     "name": "stdout",
     "output_type": "stream",
     "text": [
      "LeftLanesLength 36\n",
      "RightLanesLength 26\n",
      "LeftLanesLength 22\n",
      "RightLanesLength 28\n"
     ]
    },
    {
     "name": "stderr",
     "output_type": "stream",
     "text": [
      "\r",
      " 45%|████▌     | 307/682 [00:30<00:38,  9.85it/s]"
     ]
    },
    {
     "name": "stdout",
     "output_type": "stream",
     "text": [
      "LeftLanesLength 20\n",
      "RightLanesLength 16\n",
      "LeftLanesLength 26\n",
      "RightLanesLength 12\n"
     ]
    },
    {
     "name": "stderr",
     "output_type": "stream",
     "text": [
      "\r",
      " 45%|████▌     | 309/682 [00:30<00:39,  9.44it/s]"
     ]
    },
    {
     "name": "stdout",
     "output_type": "stream",
     "text": [
      "LeftLanesLength 26\n",
      "RightLanesLength 16\n",
      "LeftLanesLength 30\n",
      "RightLanesLength 10\n"
     ]
    },
    {
     "name": "stderr",
     "output_type": "stream",
     "text": [
      " 46%|████▌     | 311/682 [00:30<00:47,  7.87it/s]"
     ]
    },
    {
     "name": "stdout",
     "output_type": "stream",
     "text": [
      "LeftLanesLength 28\n",
      "RightLanesLength 14\n",
      "LeftLanesLength 28\n",
      "RightLanesLength 16\n"
     ]
    },
    {
     "name": "stderr",
     "output_type": "stream",
     "text": [
      " 46%|████▌     | 313/682 [00:31<00:45,  8.03it/s]"
     ]
    },
    {
     "name": "stdout",
     "output_type": "stream",
     "text": [
      "LeftLanesLength 34\n",
      "RightLanesLength 18\n",
      "LeftLanesLength 36\n",
      "RightLanesLength 20\n"
     ]
    },
    {
     "name": "stderr",
     "output_type": "stream",
     "text": [
      "\r",
      " 46%|████▌     | 315/682 [00:31<00:42,  8.58it/s]"
     ]
    },
    {
     "name": "stdout",
     "output_type": "stream",
     "text": [
      "LeftLanesLength 20\n",
      "RightLanesLength 20\n",
      "LeftLanesLength 24\n",
      "RightLanesLength 24\n"
     ]
    },
    {
     "name": "stderr",
     "output_type": "stream",
     "text": [
      " 46%|████▋     | 317/682 [00:31<00:47,  7.69it/s]"
     ]
    },
    {
     "name": "stdout",
     "output_type": "stream",
     "text": [
      "LeftLanesLength 28\n",
      "RightLanesLength 24\n",
      "LeftLanesLength 26\n",
      "RightLanesLength 20\n"
     ]
    },
    {
     "name": "stderr",
     "output_type": "stream",
     "text": [
      "\r",
      " 47%|████▋     | 319/682 [00:31<00:43,  8.29it/s]"
     ]
    },
    {
     "name": "stdout",
     "output_type": "stream",
     "text": [
      "LeftLanesLength 28\n",
      "RightLanesLength 16\n",
      "LeftLanesLength 32\n",
      "RightLanesLength 12\n",
      "LeftLanesLength 22\n",
      "RightLanesLength 12\n"
     ]
    },
    {
     "name": "stderr",
     "output_type": "stream",
     "text": [
      " 47%|████▋     | 323/682 [00:32<00:35,  9.99it/s]"
     ]
    },
    {
     "name": "stdout",
     "output_type": "stream",
     "text": [
      "LeftLanesLength 30\n",
      "RightLanesLength 14\n",
      "LeftLanesLength 22\n",
      "RightLanesLength 16\n",
      "LeftLanesLength 26\n",
      "RightLanesLength 16\n"
     ]
    },
    {
     "name": "stderr",
     "output_type": "stream",
     "text": [
      "\r",
      " 48%|████▊     | 325/682 [00:32<00:33, 10.65it/s]"
     ]
    },
    {
     "name": "stdout",
     "output_type": "stream",
     "text": [
      "LeftLanesLength 18\n",
      "RightLanesLength 20\n",
      "LeftLanesLength 34\n",
      "RightLanesLength 26\n",
      "LeftLanesLength 24\n",
      "RightLanesLength 28\n"
     ]
    },
    {
     "name": "stderr",
     "output_type": "stream",
     "text": [
      "\r",
      " 48%|████▊     | 327/682 [00:32<00:32, 11.03it/s]"
     ]
    },
    {
     "name": "stdout",
     "output_type": "stream",
     "text": [
      "LeftLanesLength 18\n",
      "RightLanesLength 24\n",
      "LeftLanesLength 40\n",
      "RightLanesLength 30\n"
     ]
    },
    {
     "name": "stderr",
     "output_type": "stream",
     "text": [
      " 49%|████▊     | 331/682 [00:32<00:32, 10.68it/s]"
     ]
    },
    {
     "name": "stdout",
     "output_type": "stream",
     "text": [
      "LeftLanesLength 16\n",
      "RightLanesLength 26\n",
      "LeftLanesLength 20\n",
      "RightLanesLength 16\n",
      "LeftLanesLength 26\n",
      "RightLanesLength 18\n"
     ]
    },
    {
     "name": "stderr",
     "output_type": "stream",
     "text": [
      "\r",
      " 49%|████▉     | 333/682 [00:33<00:35,  9.83it/s]"
     ]
    },
    {
     "name": "stdout",
     "output_type": "stream",
     "text": [
      "LeftLanesLength 38\n",
      "RightLanesLength 14\n",
      "LeftLanesLength 22\n",
      "RightLanesLength 14\n"
     ]
    },
    {
     "name": "stderr",
     "output_type": "stream",
     "text": [
      "\r",
      " 49%|████▉     | 335/682 [00:33<00:38,  9.07it/s]"
     ]
    },
    {
     "name": "stdout",
     "output_type": "stream",
     "text": [
      "LeftLanesLength 22\n",
      "RightLanesLength 20\n",
      "LeftLanesLength 10\n",
      "RightLanesLength 14\n"
     ]
    },
    {
     "name": "stderr",
     "output_type": "stream",
     "text": [
      " 49%|████▉     | 337/682 [00:33<00:41,  8.27it/s]"
     ]
    },
    {
     "name": "stdout",
     "output_type": "stream",
     "text": [
      "LeftLanesLength 12\n",
      "RightLanesLength 18\n",
      "LeftLanesLength 20\n",
      "RightLanesLength 20\n"
     ]
    },
    {
     "name": "stderr",
     "output_type": "stream",
     "text": [
      " 50%|████▉     | 339/682 [00:33<00:40,  8.37it/s]"
     ]
    },
    {
     "name": "stdout",
     "output_type": "stream",
     "text": [
      "LeftLanesLength 30\n",
      "RightLanesLength 24\n",
      "LeftLanesLength 20\n",
      "RightLanesLength 30\n"
     ]
    },
    {
     "name": "stderr",
     "output_type": "stream",
     "text": [
      "\r",
      " 50%|█████     | 341/682 [00:33<00:36,  9.23it/s]"
     ]
    },
    {
     "name": "stdout",
     "output_type": "stream",
     "text": [
      "LeftLanesLength 18\n",
      "RightLanesLength 28\n",
      "LeftLanesLength 18\n",
      "RightLanesLength 24\n",
      "LeftLanesLength 22\n",
      "RightLanesLength 18\n"
     ]
    },
    {
     "name": "stderr",
     "output_type": "stream",
     "text": [
      " 51%|█████     | 345/682 [00:34<00:31, 10.73it/s]"
     ]
    },
    {
     "name": "stdout",
     "output_type": "stream",
     "text": [
      "LeftLanesLength 26\n",
      "RightLanesLength 18\n",
      "LeftLanesLength 16\n",
      "RightLanesLength 12\n",
      "LeftLanesLength 42\n",
      "RightLanesLength 14\n"
     ]
    },
    {
     "name": "stderr",
     "output_type": "stream",
     "text": [
      "\r",
      " 51%|█████     | 347/682 [00:34<00:33, 10.01it/s]"
     ]
    },
    {
     "name": "stdout",
     "output_type": "stream",
     "text": [
      "LeftLanesLength 22\n",
      "RightLanesLength 12\n",
      "LeftLanesLength 24\n",
      "RightLanesLength 14\n"
     ]
    },
    {
     "name": "stderr",
     "output_type": "stream",
     "text": [
      "\r",
      " 51%|█████     | 349/682 [00:34<00:34,  9.71it/s]"
     ]
    },
    {
     "name": "stdout",
     "output_type": "stream",
     "text": [
      "LeftLanesLength 10\n",
      "RightLanesLength 14\n",
      "LeftLanesLength 16\n",
      "RightLanesLength 16\n",
      "LeftLanesLength 14\n",
      "RightLanesLength 26\n"
     ]
    },
    {
     "name": "stderr",
     "output_type": "stream",
     "text": [
      "\r",
      " 51%|█████▏    | 351/682 [00:34<00:31, 10.47it/s]"
     ]
    },
    {
     "name": "stdout",
     "output_type": "stream",
     "text": [
      "LeftLanesLength 28\n",
      "RightLanesLength 32\n",
      "LeftLanesLength 22\n",
      "RightLanesLength 24\n"
     ]
    },
    {
     "name": "stderr",
     "output_type": "stream",
     "text": [
      " 52%|█████▏    | 354/682 [00:35<00:35,  9.25it/s]"
     ]
    },
    {
     "name": "stdout",
     "output_type": "stream",
     "text": [
      "LeftLanesLength 26\n",
      "RightLanesLength 26\n",
      "LeftLanesLength 18\n",
      "RightLanesLength 16\n"
     ]
    },
    {
     "name": "stderr",
     "output_type": "stream",
     "text": [
      " 52%|█████▏    | 356/682 [00:35<00:36,  8.98it/s]"
     ]
    },
    {
     "name": "stdout",
     "output_type": "stream",
     "text": [
      "LeftLanesLength 18\n",
      "RightLanesLength 20\n",
      "LeftLanesLength 24\n",
      "RightLanesLength 14\n"
     ]
    },
    {
     "name": "stderr",
     "output_type": "stream",
     "text": [
      " 52%|█████▏    | 358/682 [00:35<00:36,  8.98it/s]"
     ]
    },
    {
     "name": "stdout",
     "output_type": "stream",
     "text": [
      "LeftLanesLength 28\n",
      "RightLanesLength 12\n",
      "LeftLanesLength 18\n",
      "RightLanesLength 14\n"
     ]
    },
    {
     "name": "stderr",
     "output_type": "stream",
     "text": [
      " 53%|█████▎    | 360/682 [00:35<00:35,  9.00it/s]"
     ]
    },
    {
     "name": "stdout",
     "output_type": "stream",
     "text": [
      "LeftLanesLength 26\n",
      "RightLanesLength 14\n",
      "LeftLanesLength 18\n",
      "RightLanesLength 18\n"
     ]
    },
    {
     "name": "stderr",
     "output_type": "stream",
     "text": [
      " 53%|█████▎    | 362/682 [00:36<00:36,  8.76it/s]"
     ]
    },
    {
     "name": "stdout",
     "output_type": "stream",
     "text": [
      "LeftLanesLength 22\n",
      "RightLanesLength 20\n",
      "LeftLanesLength 26\n",
      "RightLanesLength 22\n"
     ]
    },
    {
     "name": "stderr",
     "output_type": "stream",
     "text": [
      " 53%|█████▎    | 364/682 [00:36<00:35,  8.99it/s]"
     ]
    },
    {
     "name": "stdout",
     "output_type": "stream",
     "text": [
      "LeftLanesLength 28\n",
      "RightLanesLength 24\n",
      "LeftLanesLength 34\n",
      "RightLanesLength 24\n"
     ]
    },
    {
     "name": "stderr",
     "output_type": "stream",
     "text": [
      " 54%|█████▎    | 366/682 [00:36<00:34,  9.09it/s]"
     ]
    },
    {
     "name": "stdout",
     "output_type": "stream",
     "text": [
      "LeftLanesLength 22\n",
      "RightLanesLength 20\n",
      "LeftLanesLength 40\n",
      "RightLanesLength 20\n"
     ]
    },
    {
     "name": "stderr",
     "output_type": "stream",
     "text": [
      " 54%|█████▍    | 368/682 [00:36<00:34,  9.16it/s]"
     ]
    },
    {
     "name": "stdout",
     "output_type": "stream",
     "text": [
      "LeftLanesLength 38\n",
      "RightLanesLength 18\n",
      "LeftLanesLength 22\n",
      "RightLanesLength 12\n"
     ]
    },
    {
     "name": "stderr",
     "output_type": "stream",
     "text": [
      " 54%|█████▍    | 371/682 [00:37<00:31, 10.03it/s]"
     ]
    },
    {
     "name": "stdout",
     "output_type": "stream",
     "text": [
      "LeftLanesLength 30\n",
      "RightLanesLength 16\n",
      "LeftLanesLength 28\n",
      "RightLanesLength 10\n",
      "LeftLanesLength 38\n",
      "RightLanesLength 20\n"
     ]
    },
    {
     "name": "stderr",
     "output_type": "stream",
     "text": [
      "\r",
      " 55%|█████▍    | 373/682 [00:37<00:31,  9.77it/s]"
     ]
    },
    {
     "name": "stdout",
     "output_type": "stream",
     "text": [
      "LeftLanesLength 36\n",
      "RightLanesLength 16\n",
      "LeftLanesLength 30\n",
      "RightLanesLength 16\n"
     ]
    },
    {
     "name": "stderr",
     "output_type": "stream",
     "text": [
      "\r",
      " 55%|█████▍    | 375/682 [00:37<00:34,  8.82it/s]"
     ]
    },
    {
     "name": "stdout",
     "output_type": "stream",
     "text": [
      "LeftLanesLength 32\n",
      "RightLanesLength 20\n",
      "LeftLanesLength 30\n",
      "RightLanesLength 24\n"
     ]
    },
    {
     "name": "stderr",
     "output_type": "stream",
     "text": [
      " 55%|█████▌    | 377/682 [00:37<00:32,  9.29it/s]"
     ]
    },
    {
     "name": "stdout",
     "output_type": "stream",
     "text": [
      "LeftLanesLength 18\n",
      "RightLanesLength 28\n",
      "LeftLanesLength 20\n",
      "RightLanesLength 32\n"
     ]
    },
    {
     "name": "stderr",
     "output_type": "stream",
     "text": [
      "\r",
      " 56%|█████▌    | 379/682 [00:37<00:30, 10.05it/s]"
     ]
    },
    {
     "name": "stdout",
     "output_type": "stream",
     "text": [
      "LeftLanesLength 18\n",
      "RightLanesLength 20\n",
      "LeftLanesLength 14\n",
      "RightLanesLength 22\n",
      "LeftLanesLength 12\n",
      "RightLanesLength 14\n"
     ]
    },
    {
     "name": "stderr",
     "output_type": "stream",
     "text": [
      "\r",
      " 56%|█████▌    | 381/682 [00:38<00:30, 10.03it/s]"
     ]
    },
    {
     "name": "stdout",
     "output_type": "stream",
     "text": [
      "LeftLanesLength 22\n",
      "RightLanesLength 16\n",
      "LeftLanesLength 18\n",
      "RightLanesLength 18\n",
      "LeftLanesLength 12\n",
      "RightLanesLength 16\n"
     ]
    },
    {
     "name": "stderr",
     "output_type": "stream",
     "text": [
      " 56%|█████▋    | 385/682 [00:38<00:26, 11.20it/s]"
     ]
    },
    {
     "name": "stdout",
     "output_type": "stream",
     "text": [
      "LeftLanesLength 26\n",
      "RightLanesLength 12\n",
      "LeftLanesLength 18\n",
      "RightLanesLength 18\n",
      "LeftLanesLength 14\n",
      "RightLanesLength 26\n"
     ]
    },
    {
     "name": "stderr",
     "output_type": "stream",
     "text": [
      " 57%|█████▋    | 389/682 [00:38<00:24, 12.02it/s]"
     ]
    },
    {
     "name": "stdout",
     "output_type": "stream",
     "text": [
      "LeftLanesLength 28\n",
      "RightLanesLength 20\n",
      "LeftLanesLength 32\n",
      "RightLanesLength 24\n",
      "LeftLanesLength 22\n",
      "RightLanesLength 36\n"
     ]
    },
    {
     "name": "stderr",
     "output_type": "stream",
     "text": [
      "\r",
      " 57%|█████▋    | 391/682 [00:38<00:23, 12.29it/s]"
     ]
    },
    {
     "name": "stdout",
     "output_type": "stream",
     "text": [
      "LeftLanesLength 38\n",
      "RightLanesLength 26\n",
      "LeftLanesLength 40\n",
      "RightLanesLength 18\n",
      "LeftLanesLength 14\n",
      "RightLanesLength 12\n"
     ]
    },
    {
     "name": "stderr",
     "output_type": "stream",
     "text": [
      " 58%|█████▊    | 395/682 [00:39<00:23, 12.44it/s]"
     ]
    },
    {
     "name": "stdout",
     "output_type": "stream",
     "text": [
      "LeftLanesLength 36\n",
      "RightLanesLength 10\n",
      "LeftLanesLength 26\n",
      "RightLanesLength 14\n",
      "LeftLanesLength 20\n",
      "RightLanesLength 20\n"
     ]
    },
    {
     "name": "stderr",
     "output_type": "stream",
     "text": [
      "\r",
      " 58%|█████▊    | 397/682 [00:39<00:22, 12.71it/s]"
     ]
    },
    {
     "name": "stdout",
     "output_type": "stream",
     "text": [
      "LeftLanesLength 16\n",
      "RightLanesLength 12\n",
      "LeftLanesLength 14\n",
      "RightLanesLength 22\n",
      "LeftLanesLength 20\n",
      "RightLanesLength 20\n"
     ]
    },
    {
     "name": "stderr",
     "output_type": "stream",
     "text": [
      "\r",
      " 59%|█████▊    | 399/682 [00:39<00:21, 12.99it/s]"
     ]
    },
    {
     "name": "stdout",
     "output_type": "stream",
     "text": [
      "LeftLanesLength 16\n",
      "RightLanesLength 24\n",
      "LeftLanesLength 24\n",
      "RightLanesLength 36\n"
     ]
    },
    {
     "name": "stderr",
     "output_type": "stream",
     "text": [
      "\r",
      " 59%|█████▉    | 401/682 [00:39<00:25, 11.06it/s]"
     ]
    },
    {
     "name": "stdout",
     "output_type": "stream",
     "text": [
      "LeftLanesLength 24\n",
      "RightLanesLength 30\n",
      "LeftLanesLength 20\n",
      "RightLanesLength 20\n"
     ]
    },
    {
     "name": "stderr",
     "output_type": "stream",
     "text": [
      "\r",
      " 59%|█████▉    | 403/682 [00:40<00:26, 10.35it/s]"
     ]
    },
    {
     "name": "stdout",
     "output_type": "stream",
     "text": [
      "LeftLanesLength 16\n",
      "RightLanesLength 24\n",
      "LeftLanesLength 32\n",
      "RightLanesLength 20\n"
     ]
    },
    {
     "name": "stderr",
     "output_type": "stream",
     "text": [
      "\r",
      " 59%|█████▉    | 405/682 [00:40<00:28,  9.84it/s]"
     ]
    },
    {
     "name": "stdout",
     "output_type": "stream",
     "text": [
      "LeftLanesLength 42\n",
      "RightLanesLength 16\n",
      "LeftLanesLength 22\n",
      "RightLanesLength 14\n",
      "LeftLanesLength 34\n",
      "RightLanesLength 14\n"
     ]
    },
    {
     "name": "stderr",
     "output_type": "stream",
     "text": [
      " 60%|█████▉    | 409/682 [00:40<00:27,  9.93it/s]"
     ]
    },
    {
     "name": "stdout",
     "output_type": "stream",
     "text": [
      "LeftLanesLength 26\n",
      "RightLanesLength 16\n",
      "LeftLanesLength 28\n",
      "RightLanesLength 20\n",
      "LeftLanesLength 20\n",
      "RightLanesLength 26\n"
     ]
    },
    {
     "name": "stderr",
     "output_type": "stream",
     "text": [
      " 61%|██████    | 413/682 [00:40<00:23, 11.62it/s]"
     ]
    },
    {
     "name": "stdout",
     "output_type": "stream",
     "text": [
      "LeftLanesLength 18\n",
      "RightLanesLength 24\n",
      "LeftLanesLength 24\n",
      "RightLanesLength 22\n",
      "LeftLanesLength 10\n",
      "RightLanesLength 30\n",
      "LeftLanesLength 14\n",
      "RightLanesLength 22\n"
     ]
    },
    {
     "name": "stderr",
     "output_type": "stream",
     "text": [
      " 61%|██████    | 417/682 [00:41<00:20, 13.23it/s]"
     ]
    },
    {
     "name": "stdout",
     "output_type": "stream",
     "text": [
      "LeftLanesLength 18\n",
      "RightLanesLength 22\n",
      "LeftLanesLength 18\n",
      "RightLanesLength 18\n",
      "LeftLanesLength 14\n",
      "RightLanesLength 16\n",
      "LeftLanesLength 18\n",
      "RightLanesLength 14\n"
     ]
    },
    {
     "name": "stderr",
     "output_type": "stream",
     "text": [
      "\r",
      " 61%|██████▏   | 419/682 [00:41<00:20, 13.13it/s]"
     ]
    },
    {
     "name": "stdout",
     "output_type": "stream",
     "text": [
      "LeftLanesLength 16\n",
      "RightLanesLength 14\n",
      "LeftLanesLength 18\n",
      "RightLanesLength 20\n"
     ]
    },
    {
     "name": "stderr",
     "output_type": "stream",
     "text": [
      " 62%|██████▏   | 423/682 [00:41<00:21, 12.20it/s]"
     ]
    },
    {
     "name": "stdout",
     "output_type": "stream",
     "text": [
      "LeftLanesLength 14\n",
      "RightLanesLength 18\n",
      "LeftLanesLength 18\n",
      "RightLanesLength 16\n",
      "LeftLanesLength 14\n",
      "RightLanesLength 24\n"
     ]
    },
    {
     "name": "stderr",
     "output_type": "stream",
     "text": [
      "\r",
      " 62%|██████▏   | 425/682 [00:41<00:21, 12.23it/s]"
     ]
    },
    {
     "name": "stdout",
     "output_type": "stream",
     "text": [
      "LeftLanesLength 40\n",
      "RightLanesLength 30\n",
      "LeftLanesLength 24\n",
      "RightLanesLength 24\n",
      "LeftLanesLength 24\n",
      "RightLanesLength 24\n"
     ]
    },
    {
     "name": "stderr",
     "output_type": "stream",
     "text": [
      "\r",
      " 63%|██████▎   | 427/682 [00:42<00:21, 11.95it/s]"
     ]
    },
    {
     "name": "stdout",
     "output_type": "stream",
     "text": [
      "LeftLanesLength 12\n",
      "RightLanesLength 30\n",
      "LeftLanesLength 16\n",
      "RightLanesLength 22\n",
      "LeftLanesLength 12\n",
      "RightLanesLength 14\n"
     ]
    },
    {
     "name": "stderr",
     "output_type": "stream",
     "text": [
      " 63%|██████▎   | 431/682 [00:42<00:20, 12.26it/s]"
     ]
    },
    {
     "name": "stdout",
     "output_type": "stream",
     "text": [
      "LeftLanesLength 16\n",
      "RightLanesLength 12\n",
      "LeftLanesLength 14\n",
      "RightLanesLength 16\n",
      "LeftLanesLength 14\n",
      "RightLanesLength 14\n"
     ]
    },
    {
     "name": "stderr",
     "output_type": "stream",
     "text": [
      "\r",
      " 63%|██████▎   | 433/682 [00:42<00:23, 10.79it/s]"
     ]
    },
    {
     "name": "stdout",
     "output_type": "stream",
     "text": [
      "LeftLanesLength 20\n",
      "RightLanesLength 22\n",
      "LeftLanesLength 50\n",
      "RightLanesLength 12\n"
     ]
    },
    {
     "name": "stderr",
     "output_type": "stream",
     "text": [
      "\r",
      " 64%|██████▍   | 435/682 [00:42<00:23, 10.63it/s]"
     ]
    },
    {
     "name": "stdout",
     "output_type": "stream",
     "text": [
      "LeftLanesLength 44\n",
      "RightLanesLength 22\n",
      "LeftLanesLength 20\n",
      "RightLanesLength 24\n",
      "LeftLanesLength 34\n",
      "RightLanesLength 28\n"
     ]
    },
    {
     "name": "stderr",
     "output_type": "stream",
     "text": [
      " 64%|██████▍   | 439/682 [00:43<00:21, 11.31it/s]"
     ]
    },
    {
     "name": "stdout",
     "output_type": "stream",
     "text": [
      "LeftLanesLength 16\n",
      "RightLanesLength 22\n",
      "LeftLanesLength 36\n",
      "RightLanesLength 28\n",
      "LeftLanesLength 44\n",
      "RightLanesLength 28\n",
      "LeftLanesLength 12\n",
      "RightLanesLength 14\n"
     ]
    },
    {
     "name": "stderr",
     "output_type": "stream",
     "text": [
      " 65%|██████▍   | 443/682 [00:43<00:22, 10.49it/s]"
     ]
    },
    {
     "name": "stdout",
     "output_type": "stream",
     "text": [
      "LeftLanesLength 20\n",
      "RightLanesLength 12\n",
      "LeftLanesLength 20\n",
      "RightLanesLength 10\n"
     ]
    },
    {
     "name": "stderr",
     "output_type": "stream",
     "text": [
      "\r",
      " 65%|██████▌   | 445/682 [00:43<00:25,  9.31it/s]"
     ]
    },
    {
     "name": "stdout",
     "output_type": "stream",
     "text": [
      "LeftLanesLength 24\n",
      "RightLanesLength 14\n",
      "LeftLanesLength 20\n",
      "RightLanesLength 16\n"
     ]
    },
    {
     "name": "stderr",
     "output_type": "stream",
     "text": [
      "\r",
      " 66%|██████▌   | 447/682 [00:44<00:23, 10.20it/s]"
     ]
    },
    {
     "name": "stdout",
     "output_type": "stream",
     "text": [
      "LeftLanesLength 20\n",
      "RightLanesLength 20\n",
      "LeftLanesLength 26\n",
      "RightLanesLength 16\n",
      "LeftLanesLength 36\n",
      "RightLanesLength 20\n"
     ]
    },
    {
     "name": "stderr",
     "output_type": "stream",
     "text": [
      "\r",
      " 66%|██████▌   | 449/682 [00:44<00:21, 10.80it/s]"
     ]
    },
    {
     "name": "stdout",
     "output_type": "stream",
     "text": [
      "LeftLanesLength 24\n",
      "RightLanesLength 30\n",
      "LeftLanesLength 16\n",
      "RightLanesLength 28\n",
      "LeftLanesLength 14\n",
      "RightLanesLength 32\n"
     ]
    },
    {
     "name": "stderr",
     "output_type": "stream",
     "text": [
      " 66%|██████▋   | 453/682 [00:44<00:20, 11.37it/s]"
     ]
    },
    {
     "name": "stdout",
     "output_type": "stream",
     "text": [
      "LeftLanesLength 14\n",
      "RightLanesLength 28\n",
      "LeftLanesLength 12\n",
      "RightLanesLength 20\n",
      "LeftLanesLength 12\n",
      "RightLanesLength 16\n"
     ]
    },
    {
     "name": "stderr",
     "output_type": "stream",
     "text": [
      " 67%|██████▋   | 457/682 [00:44<00:18, 12.01it/s]"
     ]
    },
    {
     "name": "stdout",
     "output_type": "stream",
     "text": [
      "LeftLanesLength 36\n",
      "RightLanesLength 14\n",
      "LeftLanesLength 20\n",
      "RightLanesLength 12\n",
      "LeftLanesLength 40\n",
      "RightLanesLength 16\n"
     ]
    },
    {
     "name": "stderr",
     "output_type": "stream",
     "text": [
      "\r",
      " 67%|██████▋   | 459/682 [00:45<00:19, 11.52it/s]"
     ]
    },
    {
     "name": "stdout",
     "output_type": "stream",
     "text": [
      "LeftLanesLength 20\n",
      "RightLanesLength 22\n",
      "LeftLanesLength 30\n",
      "RightLanesLength 16\n",
      "LeftLanesLength 24\n",
      "RightLanesLength 20\n"
     ]
    },
    {
     "name": "stderr",
     "output_type": "stream",
     "text": [
      " 68%|██████▊   | 463/682 [00:45<00:19, 11.19it/s]"
     ]
    },
    {
     "name": "stdout",
     "output_type": "stream",
     "text": [
      "LeftLanesLength 20\n",
      "RightLanesLength 24\n",
      "LeftLanesLength 28\n",
      "RightLanesLength 22\n",
      "LeftLanesLength 44\n",
      "RightLanesLength 28\n"
     ]
    },
    {
     "name": "stderr",
     "output_type": "stream",
     "text": [
      "\r",
      " 68%|██████▊   | 465/682 [00:45<00:19, 11.39it/s]"
     ]
    },
    {
     "name": "stdout",
     "output_type": "stream",
     "text": [
      "LeftLanesLength 28\n",
      "RightLanesLength 24\n",
      "LeftLanesLength 26\n",
      "RightLanesLength 22\n",
      "LeftLanesLength 22\n",
      "RightLanesLength 16\n"
     ]
    },
    {
     "name": "stderr",
     "output_type": "stream",
     "text": [
      " 69%|██████▉   | 469/682 [00:45<00:16, 13.11it/s]"
     ]
    },
    {
     "name": "stdout",
     "output_type": "stream",
     "text": [
      "LeftLanesLength 20\n",
      "RightLanesLength 14\n",
      "LeftLanesLength 22\n",
      "RightLanesLength 12\n",
      "LeftLanesLength 42\n",
      "RightLanesLength 14\n"
     ]
    },
    {
     "name": "stderr",
     "output_type": "stream",
     "text": [
      "\r",
      " 69%|██████▉   | 471/682 [00:45<00:15, 13.23it/s]"
     ]
    },
    {
     "name": "stdout",
     "output_type": "stream",
     "text": [
      "LeftLanesLength 26\n",
      "RightLanesLength 16\n",
      "LeftLanesLength 26\n",
      "RightLanesLength 16\n",
      "LeftLanesLength 30\n",
      "RightLanesLength 18\n"
     ]
    },
    {
     "name": "stderr",
     "output_type": "stream",
     "text": [
      "\r",
      " 69%|██████▉   | 473/682 [00:46<00:16, 12.90it/s]"
     ]
    },
    {
     "name": "stdout",
     "output_type": "stream",
     "text": [
      "LeftLanesLength 22\n",
      "RightLanesLength 24\n",
      "LeftLanesLength 28\n",
      "RightLanesLength 26\n"
     ]
    },
    {
     "name": "stderr",
     "output_type": "stream",
     "text": [
      "\r",
      " 70%|██████▉   | 475/682 [00:46<00:18, 11.25it/s]"
     ]
    },
    {
     "name": "stdout",
     "output_type": "stream",
     "text": [
      "LeftLanesLength 26\n",
      "RightLanesLength 24\n",
      "LeftLanesLength 22\n",
      "RightLanesLength 28\n",
      "LeftLanesLength 16\n",
      "RightLanesLength 24\n"
     ]
    },
    {
     "name": "stderr",
     "output_type": "stream",
     "text": [
      " 70%|███████   | 479/682 [00:46<00:17, 11.33it/s]"
     ]
    },
    {
     "name": "stdout",
     "output_type": "stream",
     "text": [
      "LeftLanesLength 36\n",
      "RightLanesLength 18\n",
      "LeftLanesLength 32\n",
      "RightLanesLength 14\n",
      "LeftLanesLength 28\n",
      "RightLanesLength 12\n"
     ]
    },
    {
     "name": "stderr",
     "output_type": "stream",
     "text": [
      "\r",
      " 71%|███████   | 481/682 [00:46<00:19, 10.29it/s]"
     ]
    },
    {
     "name": "stdout",
     "output_type": "stream",
     "text": [
      "LeftLanesLength 32\n",
      "RightLanesLength 16\n",
      "LeftLanesLength 22\n",
      "RightLanesLength 20\n"
     ]
    },
    {
     "name": "stderr",
     "output_type": "stream",
     "text": [
      " 71%|███████   | 484/682 [00:47<00:20,  9.45it/s]"
     ]
    },
    {
     "name": "stdout",
     "output_type": "stream",
     "text": [
      "LeftLanesLength 24\n",
      "RightLanesLength 14\n",
      "LeftLanesLength 24\n",
      "RightLanesLength 14\n",
      "LeftLanesLength 22\n",
      "RightLanesLength 22\n"
     ]
    },
    {
     "name": "stderr",
     "output_type": "stream",
     "text": [
      " 72%|███████▏  | 488/682 [00:47<00:17, 11.34it/s]"
     ]
    },
    {
     "name": "stdout",
     "output_type": "stream",
     "text": [
      "LeftLanesLength 26\n",
      "RightLanesLength 26\n",
      "LeftLanesLength 26\n",
      "RightLanesLength 28\n",
      "LeftLanesLength 30\n",
      "RightLanesLength 24\n"
     ]
    },
    {
     "name": "stderr",
     "output_type": "stream",
     "text": [
      "\r",
      " 72%|███████▏  | 490/682 [00:47<00:16, 12.00it/s]"
     ]
    },
    {
     "name": "stdout",
     "output_type": "stream",
     "text": [
      "LeftLanesLength 22\n",
      "RightLanesLength 22\n",
      "LeftLanesLength 32\n",
      "RightLanesLength 16\n",
      "LeftLanesLength 40\n",
      "RightLanesLength 12\n"
     ]
    },
    {
     "name": "stderr",
     "output_type": "stream",
     "text": [
      " 72%|███████▏  | 494/682 [00:48<00:15, 12.44it/s]"
     ]
    },
    {
     "name": "stdout",
     "output_type": "stream",
     "text": [
      "LeftLanesLength 30\n",
      "RightLanesLength 14\n",
      "LeftLanesLength 28\n",
      "RightLanesLength 12\n",
      "LeftLanesLength 20\n",
      "RightLanesLength 12\n",
      "LeftLanesLength 20\n",
      "RightLanesLength 18\n",
      "LeftLanesLength 30\n",
      "RightLanesLength 18\n"
     ]
    },
    {
     "name": "stderr",
     "output_type": "stream",
     "text": [
      "\r",
      " 73%|███████▎  | 496/682 [00:48<00:17, 10.49it/s]"
     ]
    },
    {
     "name": "stdout",
     "output_type": "stream",
     "text": [
      "LeftLanesLength 36\n",
      "RightLanesLength 18\n",
      "LeftLanesLength 18\n",
      "RightLanesLength 22\n"
     ]
    },
    {
     "name": "stderr",
     "output_type": "stream",
     "text": [
      " 73%|███████▎  | 500/682 [00:48<00:17, 10.16it/s]"
     ]
    },
    {
     "name": "stdout",
     "output_type": "stream",
     "text": [
      "LeftLanesLength 32\n",
      "RightLanesLength 24\n",
      "LeftLanesLength 38\n",
      "RightLanesLength 28\n",
      "LeftLanesLength 14\n",
      "RightLanesLength 24\n"
     ]
    },
    {
     "name": "stderr",
     "output_type": "stream",
     "text": [
      "\r",
      " 74%|███████▎  | 502/682 [00:48<00:17, 10.45it/s]"
     ]
    },
    {
     "name": "stdout",
     "output_type": "stream",
     "text": [
      "LeftLanesLength 26\n",
      "RightLanesLength 22\n",
      "LeftLanesLength 10\n",
      "RightLanesLength 18\n",
      "LeftLanesLength 10\n",
      "RightLanesLength 8\n"
     ]
    },
    {
     "name": "stderr",
     "output_type": "stream",
     "text": [
      " 74%|███████▍  | 506/682 [00:49<00:16, 10.36it/s]"
     ]
    },
    {
     "name": "stdout",
     "output_type": "stream",
     "text": [
      "LeftLanesLength 14\n",
      "RightLanesLength 14\n",
      "LeftLanesLength 20\n",
      "RightLanesLength 16\n"
     ]
    },
    {
     "name": "stderr",
     "output_type": "stream",
     "text": [
      "\r",
      " 74%|███████▍  | 508/682 [00:49<00:17, 10.06it/s]"
     ]
    },
    {
     "name": "stdout",
     "output_type": "stream",
     "text": [
      "LeftLanesLength 14\n",
      "RightLanesLength 14\n",
      "LeftLanesLength 18\n",
      "RightLanesLength 14\n",
      "LeftLanesLength 40\n",
      "RightLanesLength 18\n"
     ]
    },
    {
     "name": "stderr",
     "output_type": "stream",
     "text": [
      "\r",
      " 75%|███████▍  | 510/682 [00:49<00:16, 10.55it/s]"
     ]
    },
    {
     "name": "stdout",
     "output_type": "stream",
     "text": [
      "LeftLanesLength 30\n",
      "RightLanesLength 22\n",
      "LeftLanesLength 22\n",
      "RightLanesLength 26\n",
      "LeftLanesLength 18\n",
      "RightLanesLength 24\n"
     ]
    },
    {
     "name": "stderr",
     "output_type": "stream",
     "text": [
      " 75%|███████▌  | 514/682 [00:50<00:16, 10.40it/s]"
     ]
    },
    {
     "name": "stdout",
     "output_type": "stream",
     "text": [
      "LeftLanesLength 22\n",
      "RightLanesLength 24\n",
      "LeftLanesLength 18\n",
      "RightLanesLength 18\n",
      "LeftLanesLength 18\n",
      "RightLanesLength 18\n"
     ]
    },
    {
     "name": "stderr",
     "output_type": "stream",
     "text": [
      "\r",
      " 76%|███████▌  | 516/682 [00:50<00:16, 10.07it/s]"
     ]
    },
    {
     "name": "stdout",
     "output_type": "stream",
     "text": [
      "LeftLanesLength 18\n",
      "RightLanesLength 16\n",
      "LeftLanesLength 26\n",
      "RightLanesLength 12\n"
     ]
    },
    {
     "name": "stderr",
     "output_type": "stream",
     "text": [
      " 76%|███████▌  | 520/682 [00:50<00:15, 10.39it/s]"
     ]
    },
    {
     "name": "stdout",
     "output_type": "stream",
     "text": [
      "LeftLanesLength 18\n",
      "RightLanesLength 10\n",
      "LeftLanesLength 38\n",
      "RightLanesLength 18\n",
      "LeftLanesLength 24\n",
      "RightLanesLength 16\n"
     ]
    },
    {
     "name": "stderr",
     "output_type": "stream",
     "text": [
      "\r",
      " 77%|███████▋  | 522/682 [00:50<00:15, 10.33it/s]"
     ]
    },
    {
     "name": "stdout",
     "output_type": "stream",
     "text": [
      "LeftLanesLength 24\n",
      "RightLanesLength 20\n",
      "LeftLanesLength 22\n",
      "RightLanesLength 20\n",
      "LeftLanesLength 42\n",
      "RightLanesLength 32\n"
     ]
    },
    {
     "name": "stderr",
     "output_type": "stream",
     "text": [
      "\r",
      " 77%|███████▋  | 524/682 [00:51<00:15, 10.34it/s]"
     ]
    },
    {
     "name": "stdout",
     "output_type": "stream",
     "text": [
      "LeftLanesLength 30\n",
      "RightLanesLength 24\n",
      "LeftLanesLength 34\n",
      "RightLanesLength 22\n"
     ]
    },
    {
     "name": "stderr",
     "output_type": "stream",
     "text": [
      " 77%|███████▋  | 527/682 [00:51<00:17,  8.93it/s]"
     ]
    },
    {
     "name": "stdout",
     "output_type": "stream",
     "text": [
      "LeftLanesLength 30\n",
      "RightLanesLength 24\n",
      "LeftLanesLength 20\n",
      "RightLanesLength 24\n"
     ]
    },
    {
     "name": "stderr",
     "output_type": "stream",
     "text": [
      " 78%|███████▊  | 529/682 [00:51<00:18,  8.29it/s]"
     ]
    },
    {
     "name": "stdout",
     "output_type": "stream",
     "text": [
      "LeftLanesLength 44\n",
      "RightLanesLength 10\n",
      "LeftLanesLength 26\n",
      "RightLanesLength 20\n"
     ]
    },
    {
     "name": "stderr",
     "output_type": "stream",
     "text": [
      "\r",
      " 78%|███████▊  | 530/682 [00:51<00:18,  8.07it/s]"
     ]
    },
    {
     "name": "stdout",
     "output_type": "stream",
     "text": [
      "LeftLanesLength 24\n",
      "RightLanesLength 16\n",
      "LeftLanesLength 24\n",
      "RightLanesLength 18\n",
      "LeftLanesLength 26\n",
      "RightLanesLength 14\n"
     ]
    },
    {
     "name": "stderr",
     "output_type": "stream",
     "text": [
      " 78%|███████▊  | 534/682 [00:52<00:14, 10.12it/s]"
     ]
    },
    {
     "name": "stdout",
     "output_type": "stream",
     "text": [
      "LeftLanesLength 26\n",
      "RightLanesLength 14\n",
      "LeftLanesLength 32\n",
      "RightLanesLength 24\n",
      "LeftLanesLength 38\n",
      "RightLanesLength 14\n"
     ]
    },
    {
     "name": "stderr",
     "output_type": "stream",
     "text": [
      " 79%|███████▉  | 538/682 [00:52<00:12, 11.41it/s]"
     ]
    },
    {
     "name": "stdout",
     "output_type": "stream",
     "text": [
      "LeftLanesLength 32\n",
      "RightLanesLength 24\n",
      "LeftLanesLength 22\n",
      "RightLanesLength 22\n",
      "LeftLanesLength 16\n",
      "RightLanesLength 22\n"
     ]
    },
    {
     "name": "stderr",
     "output_type": "stream",
     "text": [
      "\r",
      " 79%|███████▉  | 540/682 [00:52<00:12, 11.55it/s]"
     ]
    },
    {
     "name": "stdout",
     "output_type": "stream",
     "text": [
      "LeftLanesLength 16\n",
      "RightLanesLength 20\n",
      "LeftLanesLength 12\n",
      "RightLanesLength 14\n",
      "LeftLanesLength 12\n",
      "RightLanesLength 16\n"
     ]
    },
    {
     "name": "stderr",
     "output_type": "stream",
     "text": [
      " 80%|███████▉  | 544/682 [00:52<00:11, 11.73it/s]"
     ]
    },
    {
     "name": "stdout",
     "output_type": "stream",
     "text": [
      "LeftLanesLength 22\n",
      "RightLanesLength 14\n",
      "LeftLanesLength 28\n",
      "RightLanesLength 14\n",
      "LeftLanesLength 16\n",
      "RightLanesLength 20\n"
     ]
    },
    {
     "name": "stderr",
     "output_type": "stream",
     "text": [
      "\r",
      " 80%|████████  | 546/682 [00:53<00:11, 11.70it/s]"
     ]
    },
    {
     "name": "stdout",
     "output_type": "stream",
     "text": [
      "LeftLanesLength 38\n",
      "RightLanesLength 14\n",
      "LeftLanesLength 20\n",
      "RightLanesLength 14\n",
      "LeftLanesLength 46\n",
      "RightLanesLength 20\n"
     ]
    },
    {
     "name": "stderr",
     "output_type": "stream",
     "text": [
      " 81%|████████  | 550/682 [00:53<00:10, 12.36it/s]"
     ]
    },
    {
     "name": "stdout",
     "output_type": "stream",
     "text": [
      "LeftLanesLength 46\n",
      "RightLanesLength 28\n",
      "LeftLanesLength 38\n",
      "RightLanesLength 26\n",
      "LeftLanesLength 14\n",
      "RightLanesLength 20\n"
     ]
    },
    {
     "name": "stderr",
     "output_type": "stream",
     "text": [
      "\r",
      " 81%|████████  | 552/682 [00:53<00:10, 12.70it/s]"
     ]
    },
    {
     "name": "stdout",
     "output_type": "stream",
     "text": [
      "LeftLanesLength 22\n",
      "RightLanesLength 20\n",
      "LeftLanesLength 22\n",
      "RightLanesLength 12\n",
      "LeftLanesLength 24\n",
      "RightLanesLength 14\n",
      "LeftLanesLength 40\n",
      "RightLanesLength 14\n"
     ]
    },
    {
     "name": "stderr",
     "output_type": "stream",
     "text": [
      " 82%|████████▏ | 556/682 [00:53<00:09, 12.72it/s]"
     ]
    },
    {
     "name": "stdout",
     "output_type": "stream",
     "text": [
      "LeftLanesLength 20\n",
      "RightLanesLength 16\n",
      "LeftLanesLength 22\n",
      "RightLanesLength 12\n",
      "LeftLanesLength 30\n",
      "RightLanesLength 12\n"
     ]
    },
    {
     "name": "stderr",
     "output_type": "stream",
     "text": [
      " 82%|████████▏ | 560/682 [00:54<00:09, 12.70it/s]"
     ]
    },
    {
     "name": "stdout",
     "output_type": "stream",
     "text": [
      "LeftLanesLength 20\n",
      "RightLanesLength 16\n",
      "LeftLanesLength 26\n",
      "RightLanesLength 20\n",
      "LeftLanesLength 28\n",
      "RightLanesLength 22\n"
     ]
    },
    {
     "name": "stderr",
     "output_type": "stream",
     "text": [
      "\r",
      " 82%|████████▏ | 562/682 [00:54<00:09, 12.57it/s]"
     ]
    },
    {
     "name": "stdout",
     "output_type": "stream",
     "text": [
      "LeftLanesLength 52\n",
      "RightLanesLength 20\n",
      "LeftLanesLength 22\n",
      "RightLanesLength 22\n",
      "LeftLanesLength 20\n",
      "RightLanesLength 18\n"
     ]
    },
    {
     "name": "stderr",
     "output_type": "stream",
     "text": [
      " 83%|████████▎ | 566/682 [00:54<00:09, 12.37it/s]"
     ]
    },
    {
     "name": "stdout",
     "output_type": "stream",
     "text": [
      "LeftLanesLength 28\n",
      "RightLanesLength 10\n",
      "LeftLanesLength 16\n",
      "RightLanesLength 14\n",
      "LeftLanesLength 16\n",
      "RightLanesLength 12\n"
     ]
    },
    {
     "name": "stderr",
     "output_type": "stream",
     "text": [
      "\r",
      " 83%|████████▎ | 568/682 [00:54<00:10, 11.32it/s]"
     ]
    },
    {
     "name": "stdout",
     "output_type": "stream",
     "text": [
      "LeftLanesLength 22\n",
      "RightLanesLength 12\n",
      "LeftLanesLength 16\n",
      "RightLanesLength 10\n",
      "LeftLanesLength 16\n",
      "RightLanesLength 12\n",
      "LeftLanesLength 26\n",
      "RightLanesLength 12\n"
     ]
    },
    {
     "name": "stderr",
     "output_type": "stream",
     "text": [
      " 84%|████████▍ | 572/682 [00:55<00:11,  9.32it/s]"
     ]
    },
    {
     "name": "stdout",
     "output_type": "stream",
     "text": [
      "LeftLanesLength 34\n",
      "RightLanesLength 16\n",
      "LeftLanesLength 40\n",
      "RightLanesLength 22\n",
      "LeftLanesLength 40\n",
      "RightLanesLength 20\n"
     ]
    },
    {
     "name": "stderr",
     "output_type": "stream",
     "text": [
      "\r",
      " 84%|████████▍ | 574/682 [00:55<00:10, 10.46it/s]"
     ]
    },
    {
     "name": "stdout",
     "output_type": "stream",
     "text": [
      "LeftLanesLength 20\n",
      "RightLanesLength 16\n",
      "LeftLanesLength 48\n",
      "RightLanesLength 12\n"
     ]
    },
    {
     "name": "stderr",
     "output_type": "stream",
     "text": [
      " 85%|████████▍ | 578/682 [00:55<00:09, 10.44it/s]"
     ]
    },
    {
     "name": "stdout",
     "output_type": "stream",
     "text": [
      "LeftLanesLength 14\n",
      "RightLanesLength 12\n",
      "LeftLanesLength 26\n",
      "RightLanesLength 14\n",
      "LeftLanesLength 24\n",
      "RightLanesLength 14\n"
     ]
    },
    {
     "name": "stderr",
     "output_type": "stream",
     "text": [
      "\r",
      " 85%|████████▌ | 580/682 [00:56<00:09, 10.99it/s]"
     ]
    },
    {
     "name": "stdout",
     "output_type": "stream",
     "text": [
      "LeftLanesLength 26\n",
      "RightLanesLength 12\n",
      "LeftLanesLength 36\n",
      "RightLanesLength 12\n",
      "LeftLanesLength 38\n",
      "RightLanesLength 16\n"
     ]
    },
    {
     "name": "stderr",
     "output_type": "stream",
     "text": [
      "\r",
      " 85%|████████▌ | 582/682 [00:56<00:09, 10.33it/s]"
     ]
    },
    {
     "name": "stdout",
     "output_type": "stream",
     "text": [
      "LeftLanesLength 20\n",
      "RightLanesLength 10\n",
      "LeftLanesLength 22\n",
      "RightLanesLength 22\n",
      "LeftLanesLength 28\n",
      "RightLanesLength 20\n"
     ]
    },
    {
     "name": "stderr",
     "output_type": "stream",
     "text": [
      " 86%|████████▌ | 586/682 [00:56<00:09,  9.99it/s]"
     ]
    },
    {
     "name": "stdout",
     "output_type": "stream",
     "text": [
      "LeftLanesLength 44\n",
      "RightLanesLength 14\n",
      "LeftLanesLength 26\n",
      "RightLanesLength 14\n",
      "LeftLanesLength 28\n",
      "RightLanesLength 10\n"
     ]
    },
    {
     "name": "stderr",
     "output_type": "stream",
     "text": [
      "\r",
      " 86%|████████▌ | 588/682 [00:56<00:09, 10.00it/s]"
     ]
    },
    {
     "name": "stdout",
     "output_type": "stream",
     "text": [
      "LeftLanesLength 26\n",
      "RightLanesLength 16\n",
      "LeftLanesLength 24\n",
      "RightLanesLength 8\n",
      "LeftLanesLength 28\n",
      "RightLanesLength 12\n"
     ]
    },
    {
     "name": "stderr",
     "output_type": "stream",
     "text": [
      " 87%|████████▋ | 592/682 [00:57<00:09,  9.28it/s]"
     ]
    },
    {
     "name": "stdout",
     "output_type": "stream",
     "text": [
      "LeftLanesLength 14\n",
      "RightLanesLength 18\n",
      "LeftLanesLength 18\n",
      "RightLanesLength 18\n"
     ]
    },
    {
     "name": "stderr",
     "output_type": "stream",
     "text": [
      " 87%|████████▋ | 594/682 [00:57<00:10,  8.37it/s]"
     ]
    },
    {
     "name": "stdout",
     "output_type": "stream",
     "text": [
      "LeftLanesLength 20\n",
      "RightLanesLength 14\n",
      "LeftLanesLength 28\n",
      "RightLanesLength 14\n"
     ]
    },
    {
     "name": "stderr",
     "output_type": "stream",
     "text": [
      "\r",
      " 87%|████████▋ | 596/682 [00:57<00:09,  9.55it/s]"
     ]
    },
    {
     "name": "stdout",
     "output_type": "stream",
     "text": [
      "LeftLanesLength 24\n",
      "RightLanesLength 12\n",
      "LeftLanesLength 26\n",
      "RightLanesLength 20\n",
      "LeftLanesLength 26\n",
      "RightLanesLength 14\n"
     ]
    },
    {
     "name": "stderr",
     "output_type": "stream",
     "text": [
      "\r",
      " 88%|████████▊ | 598/682 [00:58<00:08,  9.97it/s]"
     ]
    },
    {
     "name": "stdout",
     "output_type": "stream",
     "text": [
      "LeftLanesLength 22\n",
      "RightLanesLength 24\n",
      "LeftLanesLength 24\n",
      "RightLanesLength 16\n"
     ]
    },
    {
     "name": "stderr",
     "output_type": "stream",
     "text": [
      "\r",
      " 88%|████████▊ | 600/682 [00:58<00:08,  9.60it/s]"
     ]
    },
    {
     "name": "stdout",
     "output_type": "stream",
     "text": [
      "LeftLanesLength 48\n",
      "RightLanesLength 14\n",
      "LeftLanesLength 36\n",
      "RightLanesLength 14\n",
      "LeftLanesLength 24\n",
      "RightLanesLength 12\n"
     ]
    },
    {
     "name": "stderr",
     "output_type": "stream",
     "text": [
      " 89%|████████▊ | 604/682 [00:58<00:07, 11.11it/s]"
     ]
    },
    {
     "name": "stdout",
     "output_type": "stream",
     "text": [
      "LeftLanesLength 20\n",
      "RightLanesLength 12\n",
      "LeftLanesLength 28\n",
      "RightLanesLength 18\n",
      "LeftLanesLength 28\n",
      "RightLanesLength 14\n"
     ]
    },
    {
     "name": "stderr",
     "output_type": "stream",
     "text": [
      "\r",
      " 89%|████████▉ | 606/682 [00:58<00:06, 11.17it/s]"
     ]
    },
    {
     "name": "stdout",
     "output_type": "stream",
     "text": [
      "LeftLanesLength 40\n",
      "RightLanesLength 18\n",
      "LeftLanesLength 30\n",
      "RightLanesLength 14\n"
     ]
    },
    {
     "name": "stderr",
     "output_type": "stream",
     "text": [
      "\r",
      " 89%|████████▉ | 608/682 [00:58<00:07, 10.26it/s]"
     ]
    },
    {
     "name": "stdout",
     "output_type": "stream",
     "text": [
      "LeftLanesLength 20\n",
      "RightLanesLength 16\n",
      "LeftLanesLength 22\n",
      "RightLanesLength 18\n"
     ]
    },
    {
     "name": "stderr",
     "output_type": "stream",
     "text": [
      " 90%|████████▉ | 611/682 [00:59<00:07,  8.89it/s]"
     ]
    },
    {
     "name": "stdout",
     "output_type": "stream",
     "text": [
      "LeftLanesLength 28\n",
      "RightLanesLength 16\n",
      "LeftLanesLength 26\n",
      "RightLanesLength 14\n"
     ]
    },
    {
     "name": "stderr",
     "output_type": "stream",
     "text": [
      "\r",
      " 90%|████████▉ | 612/682 [00:59<00:08,  8.12it/s]"
     ]
    },
    {
     "name": "stdout",
     "output_type": "stream",
     "text": [
      "LeftLanesLength 20\n",
      "RightLanesLength 12\n",
      "LeftLanesLength 12\n",
      "RightLanesLength 10\n"
     ]
    },
    {
     "name": "stderr",
     "output_type": "stream",
     "text": [
      " 90%|█████████ | 615/682 [00:59<00:07,  8.65it/s]"
     ]
    },
    {
     "name": "stdout",
     "output_type": "stream",
     "text": [
      "LeftLanesLength 18\n",
      "RightLanesLength 12\n",
      "LeftLanesLength 22\n",
      "RightLanesLength 14\n",
      "LeftLanesLength 26\n",
      "RightLanesLength 16\n"
     ]
    },
    {
     "name": "stderr",
     "output_type": "stream",
     "text": [
      "\r",
      " 90%|█████████ | 617/682 [01:00<00:07,  8.99it/s]"
     ]
    },
    {
     "name": "stdout",
     "output_type": "stream",
     "text": [
      "LeftLanesLength 16\n",
      "RightLanesLength 10\n",
      "LeftLanesLength 18\n",
      "RightLanesLength 10\n",
      "LeftLanesLength 22\n",
      "RightLanesLength 12\n"
     ]
    },
    {
     "name": "stderr",
     "output_type": "stream",
     "text": [
      " 91%|█████████ | 621/682 [01:00<00:06,  9.49it/s]"
     ]
    },
    {
     "name": "stdout",
     "output_type": "stream",
     "text": [
      "LeftLanesLength 18\n",
      "RightLanesLength 14\n",
      "LeftLanesLength 16\n",
      "RightLanesLength 18\n",
      "LeftLanesLength 24\n",
      "RightLanesLength 16\n"
     ]
    },
    {
     "name": "stderr",
     "output_type": "stream",
     "text": [
      " 92%|█████████▏| 625/682 [01:00<00:05, 10.93it/s]"
     ]
    },
    {
     "name": "stdout",
     "output_type": "stream",
     "text": [
      "LeftLanesLength 34\n",
      "RightLanesLength 12\n",
      "LeftLanesLength 22\n",
      "RightLanesLength 8\n",
      "LeftLanesLength 30\n",
      "RightLanesLength 10\n"
     ]
    },
    {
     "name": "stderr",
     "output_type": "stream",
     "text": [
      "\r",
      " 92%|█████████▏| 627/682 [01:00<00:05, 10.37it/s]"
     ]
    },
    {
     "name": "stdout",
     "output_type": "stream",
     "text": [
      "LeftLanesLength 28\n",
      "RightLanesLength 12\n",
      "LeftLanesLength 18\n",
      "RightLanesLength 10\n"
     ]
    },
    {
     "name": "stderr",
     "output_type": "stream",
     "text": [
      "\r",
      " 92%|█████████▏| 629/682 [01:01<00:05,  9.58it/s]"
     ]
    },
    {
     "name": "stdout",
     "output_type": "stream",
     "text": [
      "LeftLanesLength 42\n",
      "RightLanesLength 14\n",
      "LeftLanesLength 20\n",
      "RightLanesLength 14\n"
     ]
    },
    {
     "name": "stderr",
     "output_type": "stream",
     "text": [
      " 93%|█████████▎| 632/682 [01:01<00:04, 10.34it/s]"
     ]
    },
    {
     "name": "stdout",
     "output_type": "stream",
     "text": [
      "LeftLanesLength 34\n",
      "RightLanesLength 10\n",
      "LeftLanesLength 24\n",
      "RightLanesLength 14\n",
      "LeftLanesLength 16\n",
      "RightLanesLength 18\n"
     ]
    },
    {
     "name": "stderr",
     "output_type": "stream",
     "text": [
      "\r",
      " 93%|█████████▎| 634/682 [01:01<00:04, 10.70it/s]"
     ]
    },
    {
     "name": "stdout",
     "output_type": "stream",
     "text": [
      "LeftLanesLength 18\n",
      "RightLanesLength 14\n",
      "LeftLanesLength 14\n",
      "RightLanesLength 20\n",
      "LeftLanesLength 12\n",
      "RightLanesLength 14\n"
     ]
    },
    {
     "name": "stderr",
     "output_type": "stream",
     "text": [
      "\r",
      " 93%|█████████▎| 636/682 [01:02<00:05,  7.86it/s]"
     ]
    },
    {
     "name": "stdout",
     "output_type": "stream",
     "text": [
      "LeftLanesLength 12\n",
      "RightLanesLength 16\n",
      "LeftLanesLength 14\n",
      "RightLanesLength 14\n"
     ]
    },
    {
     "name": "stderr",
     "output_type": "stream",
     "text": [
      " 94%|█████████▎| 638/682 [01:02<00:07,  6.24it/s]"
     ]
    },
    {
     "name": "stdout",
     "output_type": "stream",
     "text": [
      "LeftLanesLength 38\n",
      "RightLanesLength 10\n",
      "LeftLanesLength 22\n",
      "RightLanesLength 10\n",
      "LeftLanesLength 18\n",
      "RightLanesLength 14\n"
     ]
    },
    {
     "name": "stderr",
     "output_type": "stream",
     "text": [
      " 94%|█████████▍| 642/682 [01:02<00:04,  8.34it/s]"
     ]
    },
    {
     "name": "stdout",
     "output_type": "stream",
     "text": [
      "LeftLanesLength 30\n",
      "RightLanesLength 14\n",
      "LeftLanesLength 12\n",
      "RightLanesLength 16\n",
      "LeftLanesLength 12\n",
      "RightLanesLength 16\n"
     ]
    },
    {
     "name": "stderr",
     "output_type": "stream",
     "text": [
      "\r",
      " 94%|█████████▍| 644/682 [01:02<00:04,  9.16it/s]"
     ]
    },
    {
     "name": "stdout",
     "output_type": "stream",
     "text": [
      "LeftLanesLength 16\n",
      "RightLanesLength 18\n",
      "LeftLanesLength 24\n",
      "RightLanesLength 16\n"
     ]
    },
    {
     "name": "stderr",
     "output_type": "stream",
     "text": [
      "\r",
      " 95%|█████████▍| 646/682 [01:03<00:04,  8.75it/s]"
     ]
    },
    {
     "name": "stdout",
     "output_type": "stream",
     "text": [
      "LeftLanesLength 24\n",
      "RightLanesLength 20\n",
      "LeftLanesLength 14\n",
      "RightLanesLength 18\n",
      "LeftLanesLength 28\n",
      "RightLanesLength 20\n"
     ]
    },
    {
     "name": "stderr",
     "output_type": "stream",
     "text": [
      " 95%|█████████▌| 650/682 [01:03<00:03, 10.14it/s]"
     ]
    },
    {
     "name": "stdout",
     "output_type": "stream",
     "text": [
      "LeftLanesLength 18\n",
      "RightLanesLength 14\n",
      "LeftLanesLength 22\n",
      "RightLanesLength 16\n",
      "LeftLanesLength 26\n",
      "RightLanesLength 12\n"
     ]
    },
    {
     "name": "stderr",
     "output_type": "stream",
     "text": [
      "\r",
      " 96%|█████████▌| 652/682 [01:03<00:03,  9.99it/s]"
     ]
    },
    {
     "name": "stdout",
     "output_type": "stream",
     "text": [
      "LeftLanesLength 18\n",
      "RightLanesLength 12\n",
      "LeftLanesLength 20\n",
      "RightLanesLength 12\n",
      "LeftLanesLength 28\n",
      "RightLanesLength 16\n"
     ]
    },
    {
     "name": "stderr",
     "output_type": "stream",
     "text": [
      " 96%|█████████▌| 656/682 [01:04<00:02,  9.91it/s]"
     ]
    },
    {
     "name": "stdout",
     "output_type": "stream",
     "text": [
      "LeftLanesLength 20\n",
      "RightLanesLength 20\n",
      "LeftLanesLength 24\n",
      "RightLanesLength 12\n",
      "LeftLanesLength 30\n",
      "RightLanesLength 12\n"
     ]
    },
    {
     "name": "stderr",
     "output_type": "stream",
     "text": [
      " 97%|█████████▋| 660/682 [01:04<00:01, 11.06it/s]"
     ]
    },
    {
     "name": "stdout",
     "output_type": "stream",
     "text": [
      "LeftLanesLength 16\n",
      "RightLanesLength 22\n",
      "LeftLanesLength 30\n",
      "RightLanesLength 20\n",
      "LeftLanesLength 16\n",
      "RightLanesLength 22\n"
     ]
    },
    {
     "name": "stderr",
     "output_type": "stream",
     "text": [
      "\r",
      " 97%|█████████▋| 662/682 [01:04<00:01, 11.60it/s]"
     ]
    },
    {
     "name": "stdout",
     "output_type": "stream",
     "text": [
      "LeftLanesLength 34\n",
      "RightLanesLength 20\n",
      "LeftLanesLength 28\n",
      "RightLanesLength 14\n",
      "LeftLanesLength 26\n",
      "RightLanesLength 18\n",
      "LeftLanesLength 22\n",
      "RightLanesLength 14\n"
     ]
    },
    {
     "name": "stderr",
     "output_type": "stream",
     "text": [
      " 98%|█████████▊| 666/682 [01:04<00:01, 12.24it/s]"
     ]
    },
    {
     "name": "stdout",
     "output_type": "stream",
     "text": [
      "LeftLanesLength 18\n",
      "RightLanesLength 14\n",
      "LeftLanesLength 14\n",
      "RightLanesLength 16\n",
      "LeftLanesLength 14\n",
      "RightLanesLength 12\n"
     ]
    },
    {
     "name": "stderr",
     "output_type": "stream",
     "text": [
      " 98%|█████████▊| 670/682 [01:05<00:00, 12.11it/s]"
     ]
    },
    {
     "name": "stdout",
     "output_type": "stream",
     "text": [
      "LeftLanesLength 18\n",
      "RightLanesLength 8\n",
      "LeftLanesLength 18\n",
      "RightLanesLength 18\n",
      "LeftLanesLength 26\n",
      "RightLanesLength 18\n"
     ]
    },
    {
     "name": "stderr",
     "output_type": "stream",
     "text": [
      "\r",
      " 99%|█████████▊| 672/682 [01:05<00:00, 12.52it/s]"
     ]
    },
    {
     "name": "stdout",
     "output_type": "stream",
     "text": [
      "LeftLanesLength 42\n",
      "RightLanesLength 22\n",
      "LeftLanesLength 22\n",
      "RightLanesLength 16\n",
      "LeftLanesLength 36\n",
      "RightLanesLength 14\n"
     ]
    },
    {
     "name": "stderr",
     "output_type": "stream",
     "text": [
      " 99%|█████████▉| 676/682 [01:05<00:00, 12.83it/s]"
     ]
    },
    {
     "name": "stdout",
     "output_type": "stream",
     "text": [
      "LeftLanesLength 32\n",
      "RightLanesLength 10\n",
      "LeftLanesLength 22\n",
      "RightLanesLength 14\n",
      "LeftLanesLength 30\n",
      "RightLanesLength 8\n"
     ]
    },
    {
     "name": "stderr",
     "output_type": "stream",
     "text": [
      "\r",
      " 99%|█████████▉| 678/682 [01:05<00:00, 12.60it/s]"
     ]
    },
    {
     "name": "stdout",
     "output_type": "stream",
     "text": [
      "LeftLanesLength 34\n",
      "RightLanesLength 14\n",
      "LeftLanesLength 20\n",
      "RightLanesLength 12\n",
      "LeftLanesLength 22\n",
      "RightLanesLength 16\n"
     ]
    },
    {
     "name": "stderr",
     "output_type": "stream",
     "text": [
      "100%|█████████▉| 681/682 [01:06<00:00, 10.30it/s]"
     ]
    },
    {
     "name": "stdout",
     "output_type": "stream",
     "text": [
      "LeftLanesLength 22\n",
      "RightLanesLength 14\n",
      "LeftLanesLength 18\n",
      "RightLanesLength 14\n"
     ]
    },
    {
     "name": "stderr",
     "output_type": "stream",
     "text": [
      "\n"
     ]
    },
    {
     "name": "stdout",
     "output_type": "stream",
     "text": [
      "[MoviePy] Done.\n",
      "[MoviePy] >>>> Video ready: yellow.mp4 \n",
      "\n",
      "CPU times: user 4min 29s, sys: 14.6 s, total: 4min 44s\n",
      "Wall time: 1min 6s\n"
     ]
    }
   ],
   "source": [
    "yellow_output = 'yellow.mp4'\n",
    "clip2 = VideoFileClip('solidYellowLeft.mp4')\n",
    "yellow_clip = clip2.fl_image(process_image)\n",
    "%time yellow_clip.write_videofile(yellow_output, audio=False)"
   ]
  },
  {
   "cell_type": "code",
   "execution_count": 12,
   "metadata": {
    "collapsed": false
   },
   "outputs": [
    {
     "data": {
      "text/html": [
       "\n",
       "<video width=\"960\" height=\"540\" controls>\n",
       "  <source src=\"yellow.mp4\">\n",
       "</video>\n"
      ],
      "text/plain": [
       "<IPython.core.display.HTML object>"
      ]
     },
     "execution_count": 12,
     "metadata": {},
     "output_type": "execute_result"
    }
   ],
   "source": [
    "HTML(\"\"\"\n",
    "<video width=\"960\" height=\"540\" controls>\n",
    "  <source src=\"{0}\">\n",
    "</video>\n",
    "\"\"\".format(yellow_output))"
   ]
  },
  {
   "cell_type": "markdown",
   "metadata": {},
   "source": [
    "## Reflections\n",
    "\n",
    "Congratulations on finding the lane lines!  As the final step in this project, we would like you to share your thoughts on your lane finding pipeline... specifically, how could you imagine making your algorithm better / more robust?  Where will your current algorithm be likely to fail?\n",
    "\n",
    "Please add your thoughts below,  and if you're up for making your pipeline more robust, be sure to scroll down and check out the optional challenge video below!\n"
   ]
  },
  {
   "cell_type": "markdown",
   "metadata": {},
   "source": [
    "## Submission\n",
    "\n",
    "If you're satisfied with your video outputs it's time to submit!  Submit this ipython notebook for review.\n"
   ]
  },
  {
   "cell_type": "markdown",
   "metadata": {
    "collapsed": true
   },
   "source": [
    "## Optional Challenge\n",
    "\n",
    "Try your lane finding pipeline on the video below.  Does it still work?  Can you figure out a way to make it more robust?  If you're up for the challenge, modify your pipeline so it works with this video and submit it along with the rest of your project!"
   ]
  },
  {
   "cell_type": "code",
   "execution_count": null,
   "metadata": {
    "collapsed": true
   },
   "outputs": [],
   "source": [
    "challenge_output = 'extra.mp4'\n",
    "clip2 = VideoFileClip('challenge.mp4')\n",
    "challenge_clip = clip2.fl_image(process_image)\n",
    "%time challenge_clip.write_videofile(challenge_output, audio=False)"
   ]
  },
  {
   "cell_type": "code",
   "execution_count": null,
   "metadata": {
    "collapsed": true
   },
   "outputs": [],
   "source": [
    "HTML(\"\"\"\n",
    "<video width=\"960\" height=\"540\" controls>\n",
    "  <source src=\"{0}\">\n",
    "</video>\n",
    "\"\"\".format(challenge_output))"
   ]
  }
 ],
 "metadata": {
  "anaconda-cloud": {},
  "kernelspec": {
   "display_name": "Python [conda env:selfdriving]",
   "language": "python",
   "name": "conda-env-selfdriving-py"
  },
  "language_info": {
   "codemirror_mode": {
    "name": "ipython",
    "version": 3
   },
   "file_extension": ".py",
   "mimetype": "text/x-python",
   "name": "python",
   "nbconvert_exporter": "python",
   "pygments_lexer": "ipython3",
   "version": "3.5.2"
  }
 },
 "nbformat": 4,
 "nbformat_minor": 0
}
