{
 "cells": [
  {
   "cell_type": "markdown",
   "metadata": {},
   "source": [
    "# **Finding Lane Lines on the Road** \n",
    "***\n",
    "In this project, you will use the tools you learned about in the lesson to identify lane lines on the road.  You can develop your pipeline on a series of individual images, and later apply the result to a video stream (really just a series of images). Check out the video clip \"raw-lines-example.mp4\" (also contained in this repository) to see what the output should look like after using the helper functions below. \n",
    "\n",
    "Once you have a result that looks roughly like \"raw-lines-example.mp4\", you'll need to get creative and try to average and/or extrapolate the line segments you've detected to map out the full extent of the lane lines.  You can see an example of the result you're going for in the video \"P1_example.mp4\".  Ultimately, you would like to draw just one line for the left side of the lane, and one for the right.\n",
    "\n",
    "---\n",
    "Let's have a look at our first image called 'test_images/solidWhiteRight.jpg'.  Run the 2 cells below (hit Shift-Enter or the \"play\" button above) to display the image.\n",
    "\n",
    "**Note** If, at any point, you encounter frozen display windows or other confounding issues, you can always start again with a clean slate by going to the \"Kernel\" menu above and selecting \"Restart & Clear Output\".\n",
    "\n",
    "---"
   ]
  },
  {
   "cell_type": "markdown",
   "metadata": {},
   "source": [
    "**The tools you have are color selection, region of interest selection, grayscaling, Gaussian smoothing, Canny Edge Detection and Hough Tranform line detection.  You  are also free to explore and try other techniques that were not presented in the lesson.  Your goal is piece together a pipeline to detect the line segments in the image, then average/extrapolate them and draw them onto the image for display (as below).  Once you have a working pipeline, try it out on the video stream below.**\n",
    "\n",
    "---\n",
    "\n",
    "<figure>\n",
    " <img src=\"line-segments-example.jpg\" width=\"380\" alt=\"Combined Image\" />\n",
    " <figcaption>\n",
    " <p></p> \n",
    " <p style=\"text-align: center;\"> Your output should look something like this (above) after detecting line segments using the helper functions below </p> \n",
    " </figcaption>\n",
    "</figure>\n",
    " <p></p> \n",
    "<figure>\n",
    " <img src=\"laneLines_thirdPass.jpg\" width=\"380\" alt=\"Combined Image\" />\n",
    " <figcaption>\n",
    " <p></p> \n",
    " <p style=\"text-align: center;\"> Your goal is to connect/average/extrapolate line segments to get output like this</p> \n",
    " </figcaption>\n",
    "</figure>"
   ]
  },
  {
   "cell_type": "code",
   "execution_count": 53,
   "metadata": {
    "collapsed": false
   },
   "outputs": [],
   "source": [
    "#importing some useful packages\n",
    "import matplotlib.pyplot as plt\n",
    "import matplotlib.image as mpimg\n",
    "import numpy as np\n",
    "import cv2\n",
    "%matplotlib inline"
   ]
  },
  {
   "cell_type": "code",
   "execution_count": null,
   "metadata": {
    "collapsed": false
   },
   "outputs": [],
   "source": [
    "\n"
   ]
  },
  {
   "cell_type": "markdown",
   "metadata": {},
   "source": [
    "**Some OpenCV functions (beyond those introduced in the lesson) that might be useful for this project are:**\n",
    "\n",
    "`cv2.inRange()` for color selection  \n",
    "`cv2.fillPoly()` for regions selection  \n",
    "`cv2.line()` to draw lines on an image given endpoints  \n",
    "`cv2.addWeighted()` to coadd / overlay two images\n",
    "`cv2.cvtColor()` to grayscale or change color\n",
    "`cv2.imwrite()` to output images to file  \n",
    "`cv2.bitwise_and()` to apply a mask to an image\n",
    "\n",
    "**Check out the OpenCV documentation to learn about these and discover even more awesome functionality!**"
   ]
  },
  {
   "cell_type": "markdown",
   "metadata": {},
   "source": [
    "If cvFitLine() returns normalized vector (vx,vy) and point (x0,y0), then the equation of the line is\n",
    "\n",
    "(x,y) = (x0,y0) + t*(vx,vy)\n",
    "\n",
    "where t runs from −∞ to +∞.\n",
    "\n",
    "Just draw a big line instead of solving for the boundaries. eg:\n",
    "\n",
    "cv.Line(img, (x0-m*vx[0], y0-m*vy[0]), (x0+m*vx[0], y0+m*vy[0]), (0,0,0))"
   ]
  },
  {
   "cell_type": "markdown",
   "metadata": {},
   "source": [
    "Below are some helper functions to help get you started. They should look familiar from the lesson!"
   ]
  },
  {
   "cell_type": "code",
   "execution_count": 54,
   "metadata": {
    "collapsed": false
   },
   "outputs": [],
   "source": [
    "import math\n",
    "\n",
    "def grayscale(img):\n",
    "    \"\"\"Applies the Grayscale transform\n",
    "    This will return an image with only one color channel\n",
    "    but NOTE: to see the returned image as grayscale\n",
    "    you should call plt.imshow(gray, cmap='gray')\"\"\"\n",
    "    #return cv2.cvtColor(img, cv2.COLOR_RGB2GRAY)\n",
    "    # Or use BGR2GRAY if you read an image with cv2.imread()\n",
    "    return cv2.cvtColor(img, cv2.COLOR_BGR2GRAY)\n",
    "    \n",
    "def canny(img, low_threshold, high_threshold):\n",
    "    \"\"\"Applies the Canny transform\"\"\"\n",
    "    return cv2.Canny(img, low_threshold, high_threshold)\n",
    "\n",
    "def gaussian_blur(img, kernel_size):\n",
    "    \"\"\"Applies a Gaussian Noise kernel\"\"\"\n",
    "    return cv2.GaussianBlur(img, (kernel_size, kernel_size), 0)\n",
    "\n",
    "def region_of_interest(img, vertices):\n",
    "    \"\"\"\n",
    "    Applies an image mask.\n",
    "    \n",
    "    Only keeps the region of the image defined by the polygon\n",
    "    formed from `vertices`. The rest of the image is set to black.\n",
    "    \"\"\"\n",
    "    #defining a blank mask to start with\n",
    "    mask = np.zeros_like(img)   \n",
    "    \n",
    "    #defining a 3 channel or 1 channel color to fill the mask with depending on the input image\n",
    "    if len(img.shape) > 2:\n",
    "        channel_count = img.shape[2]  # i.e. 3 or 4 depending on your image\n",
    "        ignore_mask_color = (255,) * channel_count\n",
    "    else:\n",
    "        ignore_mask_color = 255\n",
    "        \n",
    "    #filling pixels inside the polygon defined by \"vertices\" with the fill color    \n",
    "    cv2.fillPoly(mask, vertices, ignore_mask_color)\n",
    "    \n",
    "    #returning the image only where mask pixels are nonzero\n",
    "    masked_image = cv2.bitwise_and(img, mask)\n",
    "    return masked_image\n",
    "\n",
    "\n",
    "def draw_lines(img, lines, color=[0, 0, 255], thickness=2):\n",
    "    \"\"\"\n",
    "    NOTE: this is the function you might want to use as a starting point once you want to \n",
    "    average/extrapolate the line segments you detect to map out the full\n",
    "    extent of the lane (going from the result shown in raw-lines-example.mp4\n",
    "    to that shown in P1_example.mp4).  \n",
    "    \n",
    "    Think about things like separating line segments by their \n",
    "    slope ((y2-y1)/(x2-x1)) to decide which segments are part of the left\n",
    "    line vs. the right line.  Then, you can average the position of each of \n",
    "    the lines and extrapolate to the top and bottom of the lane.\n",
    "    \n",
    "    This function draws `lines` with `color` and `thickness`.    \n",
    "    Lines are drawn on the image inplace (mutates the image).\n",
    "    If you want to make the lines semi-transparent, think about combining\n",
    "    this function with the weighted_img() function below\n",
    "    \"\"\"\n",
    "    initial_hough = np.zeros((img.shape[0], img.shape[1], 3), dtype=np.uint8)\n",
    "    # Filter lines that have slope near horizontal or near vertical\n",
    "    for line in lines:\n",
    "        for x1,y1,x2,y2 in line:\n",
    "            cv2.line(initial_hough, (x1, y1), (x2, y2), color, thickness)\n",
    "    cv2.imwrite(os.path.join(\"VideoOutput\",\"Initial_hough.jpg\"),initial_hough)\n",
    "    \n",
    "    filtered_lines = []\n",
    "    Min_angle = math.tan(math.pi/9) # 20 degrees\n",
    "    Max_angle = math.tan(math.pi*7/18)  # 70 degrees\n",
    "    #print (\"Min_angle\",Min_angle)\n",
    "    #print (\"Max_angle\",Max_angle)\n",
    "    # Filter lines that have slope near horizontal or near vertical\n",
    "    for line in lines:\n",
    "        for x1,y1,x2,y2 in line:\n",
    "            if x1 !=x2:\n",
    "                slope= ((y2-y1)/(x2-x1))\n",
    "                if abs(slope) > Min_angle and abs(slope) < Max_angle:\n",
    "                    filtered_lines.append([x1,y1,x2,y2,slope])\n",
    "                    \n",
    "                \n",
    "                \n",
    "    \n",
    "    \n",
    "    # Sort the lines by their slopes.\n",
    "    lines = sorted(filtered_lines,key=lambda coordinates: coordinates[4])\n",
    "    \n",
    "    #print (\"lines \",lines)\n",
    "\n",
    "    \n",
    "#     for line in lines:\n",
    "#         print ((line[3]-line[1])/(line[2]-line[0]))\n",
    "#         print (\"\\n\")\n",
    "    Left_Lines=[]\n",
    "    Right_Lines=[]\n",
    "    for line in lines:\n",
    "        #print (line)\n",
    "        x1,y1,x2,y2,slope = line\n",
    "        if slope <0:\n",
    "            # Left Line\n",
    "            color=[0, 0, 255]\n",
    "            Left_Lines.append((x1,y1))\n",
    "            Left_Lines.append((x2,y2))\n",
    "            \n",
    "        else:\n",
    "            # Right Line\n",
    "            color=[255, 0, 0]\n",
    "            Right_Lines.append((x1,y1))\n",
    "            Right_Lines.append((x2,y2))\n",
    "#             print (\"\\n\")\n",
    "#         cv2.line(img, (x1, y1), (x2, y2), color, thickness)\n",
    "    print (\"LeftLanesLength\",len(Left_Lines))\n",
    "    print (\"RightLanesLength\",len(Right_Lines))\n",
    "    \n",
    "    \n",
    "    param = 0\n",
    "    reps = 0.01 \n",
    "    aeps = 0.01\n",
    "    vx_left, vy_left, cx_left, cy_left  = cv2.fitLine(np.array(Left_Lines), cv2.DIST_L2, param, reps, aeps) \n",
    "    vx_right, vy_right, cx_right, cy_right  = cv2.fitLine(np.array(Right_Lines), cv2.DIST_L2, param, reps, aeps)\n",
    "    #print (\"vx_left, vy_left, cx_left, cy_left \", vx_left, vy_left, cx_left, cy_left)\n",
    "    #print (\"vx_right , vy_right , cx_right , cy_right  \", vx_right , vy_right , cx_right , cy_right )\n",
    "    m_left = 100\n",
    "    m_right= 100\n",
    "    y_max = int(imshape[0])\n",
    "    #print (\"y_max \",y_max)\n",
    "    y_min = int((imshape[0]/2)+(imshape[0]/8))\n",
    "    m_left_bottom = float(y_max - cy_left)/float(vy_left)  \n",
    "    #print (\"m_left_bottom \",m_left_bottom)\n",
    "    m_left_up = float(y_min - cy_left)/float(vy_left)\n",
    "    \n",
    "    m_right_bottom = float(y_max - cy_right)/float(vy_right)  \n",
    "    #print (\"m_right_bottom \",m_right_bottom)\n",
    "    m_right_up = float(y_min - cy_right)/float(vy_right)\n",
    "    \n",
    "    point_x1_left = int(cx_left+m_left_bottom*vx_left)\n",
    "    point_y1_left = int(cy_left+m_left_bottom*vy_left)\n",
    "    point_x2_left = int(cx_left+m_left_up*vx_left)\n",
    "    point_y2_left = int(cy_left+m_left_up*vy_left)\n",
    "    \n",
    "    point_x1_right = int(cx_right+m_right_bottom*vx_right)\n",
    "    point_y1_right = int(cy_right+m_right_bottom*vy_right)\n",
    "    point_x2_right = int(cx_right+m_right_up*vx_right)\n",
    "    point_y2_right = int(cy_right+m_right_up*vy_right)\n",
    "    #print (\"point_x1_left, point_y1_left, point_x2_left, point_y2_left \", point_x1_left, point_y1_left, point_x2_left, point_y2_left)\n",
    "    #print (\"point_x1_right, point_y1_right, point_x2_right, point_y2_right \", point_x1_right, point_y1_right, point_x2_right, point_y2_right)\n",
    "    cv2.line(img, (point_x1_left, point_y1_left), (point_x2_left, point_y2_left), (255,0,0),3)\n",
    "    cv2.line(img, (point_x1_right, point_y1_right), (point_x2_right, point_y2_right), (0,0,255),3)\n",
    "            \n",
    "#     print (\"Left Lines: \")\n",
    "#     print (Left_Lines)\n",
    "#     print (\"Right Lines: \")\n",
    "#     print (Right_Lines)\n",
    "\n",
    "def hough_lines(img, rho, theta, threshold, min_line_len, max_line_gap):\n",
    "    \"\"\"\n",
    "    `img` should be the output of a Canny transform.\n",
    "        \n",
    "    Returns an image with hough lines drawn.\n",
    "    \"\"\"\n",
    "    lines = cv2.HoughLinesP(img, rho, theta, threshold, np.array([]), minLineLength=min_line_len, maxLineGap=max_line_gap)\n",
    "    line_img = np.zeros((img.shape[0], img.shape[1], 3), dtype=np.uint8)\n",
    "    draw_lines(line_img, lines)\n",
    "    return line_img\n",
    "\n",
    "# Python 3 has support for cool math symbols.\n",
    "\n",
    "def weighted_img(img, initial_img, α=0.8, β=1., λ=0.):\n",
    "    \"\"\"\n",
    "    `img` is the output of the hough_lines(), An image with lines drawn on it.\n",
    "    Should be a blank image (all black) with lines drawn on it.\n",
    "    \n",
    "    `initial_img` should be the image before any processing.\n",
    "    \n",
    "    The result image is computed as follows:\n",
    "    \n",
    "    initial_img * α + img * β + λ\n",
    "    NOTE: initial_img and img must be the same shape!\n",
    "    \"\"\"\n",
    "    return cv2.addWeighted(initial_img, α, img, β, λ)"
   ]
  },
  {
   "cell_type": "markdown",
   "metadata": {},
   "source": [
    "## Test on Images\n",
    "\n",
    "Now you should build your pipeline to work on the images in the directory \"test_images\"  \n",
    "**You should make sure your pipeline works well on these images before you try the videos.**"
   ]
  },
  {
   "cell_type": "code",
   "execution_count": 55,
   "metadata": {
    "collapsed": false
   },
   "outputs": [
    {
     "data": {
      "text/plain": [
       "['solidWhiteRight.jpg',\n",
       " 'solidWhiteCurve.jpg',\n",
       " 'solidYellowCurve.jpg',\n",
       " 'solidYellowLeft.jpg',\n",
       " 'whiteCarLaneSwitch.jpg',\n",
       " 'solidYellowCurve2.jpg']"
      ]
     },
     "execution_count": 55,
     "metadata": {},
     "output_type": "execute_result"
    }
   ],
   "source": [
    "import os\n",
    "os.listdir(\"test_images/\")"
   ]
  },
  {
   "cell_type": "markdown",
   "metadata": {},
   "source": [
    "run your solution on all test_images and make copies into the test_images directory)."
   ]
  },
  {
   "cell_type": "code",
   "execution_count": 57,
   "metadata": {
    "collapsed": false
   },
   "outputs": [
    {
     "name": "stdout",
     "output_type": "stream",
     "text": [
      "This image is: test_images/solidWhiteRight.jpg with dimesions: (540, 960, 3)\n",
      "LeftLanesLength 14\n",
      "RightLanesLength 14\n",
      "This image is: test_images/solidWhiteCurve.jpg with dimesions: (540, 960, 3)\n",
      "LeftLanesLength 12\n",
      "RightLanesLength 12\n",
      "This image is: test_images/solidYellowCurve.jpg with dimesions: (540, 960, 3)\n",
      "LeftLanesLength 18\n",
      "RightLanesLength 12\n",
      "This image is: test_images/solidYellowLeft.jpg with dimesions: (540, 960, 3)\n",
      "LeftLanesLength 10\n",
      "RightLanesLength 14\n",
      "This image is: test_images/whiteCarLaneSwitch.jpg with dimesions: (540, 960, 3)\n",
      "LeftLanesLength 16\n",
      "RightLanesLength 20\n",
      "This image is: test_images/solidYellowCurve2.jpg with dimesions: (540, 960, 3)\n",
      "LeftLanesLength 22\n",
      "RightLanesLength 16\n"
     ]
    }
   ],
   "source": [
    "# TODO: Build your pipeline that will draw lane lines on the test_images\n",
    "# then save them to the test_images directory.\n",
    "\n",
    "for imageFile in os.listdir(\"test_images/\"):\n",
    "    #reading in an image\n",
    "    imageName = os.path.join(\"test_images\",imageFile)\n",
    "    image = cv2.imread(imageName)\n",
    "    #printing out some stats and plotting\n",
    "    print('This image is:', imageName, 'with dimesions:', image.shape)\n",
    "    # Convert image to grayscale\n",
    "    gray = grayscale(image)\n",
    "\n",
    "\n",
    "    # Define a kernel size and apply Gaussian smoothing\n",
    "    kernel_size = 5\n",
    "    blur_gray = gaussian_blur(gray,5)\n",
    "\n",
    "    # Define our parameters for Canny and apply\n",
    "    low_threshold = 50\n",
    "    high_threshold = 150\n",
    "    edges = canny(blur_gray, low_threshold, high_threshold)\n",
    "\n",
    "    # Define Region of Interest\n",
    "    imshape = edges.shape\n",
    "    offset_x = imshape[1]/10\n",
    "    offset_y = imshape[0]/8\n",
    "    vertices = np.array([[(0,imshape[0]),(imshape[1]/2-offset_x, imshape[0]/2+offset_y), (imshape[1]/2+offset_x, imshape[0]/2+offset_y), (imshape[1],imshape[0])]], dtype=np.int32)\n",
    "    ROI = region_of_interest(edges,vertices)\n",
    "    # cv2.imwrite(\"output_ROI.jpg\",ROI) \n",
    "\n",
    "    # Define the Hough transform parameters\n",
    "    # Make a blank the same size as our image to draw on\n",
    "    rho = 2 # distance resolution in pixels of the Hough grid\n",
    "    theta = np.pi/180 # angular resolution in radians of the Hough grid\n",
    "    threshold = 15     # minimum number of votes (intersections in Hough grid cell)\n",
    "    min_line_len = 40 #minimum number of pixels making up a line\n",
    "    max_line_gap = 20    # maximum gap in pixels between connectable line segments\n",
    "\n",
    "    # Run Hough on edge detected image\n",
    "    # Output \"lines\" is an array containing endpoints of detected line segments\n",
    "    line_image = hough_lines(ROI, rho, theta, threshold, min_line_len, max_line_gap)\n",
    "\n",
    "    final_image =  weighted_img(line_image,image,α=0.4,β=6.0)\n",
    "\n",
    "    #lanesFilename = os.path.join('output',imageFile.split('.')[0]+'_outputLanes.jpg')\n",
    "    finalFilename = os.path.join('output',imageFile.split('.')[0]+'_outputFinal.jpg')\n",
    "    #cv2.imwrite(lanesFilename,line_image)\n",
    "    cv2.imwrite(finalFilename,final_image)"
   ]
  },
  {
   "cell_type": "markdown",
   "metadata": {},
   "source": [
    "## Test on Videos\n",
    "\n",
    "You know what's cooler than drawing lanes over images? Drawing lanes over video!\n",
    "\n",
    "We can test our solution on two provided videos:\n",
    "\n",
    "`solidWhiteRight.mp4`\n",
    "\n",
    "`solidYellowLeft.mp4`"
   ]
  },
  {
   "cell_type": "code",
   "execution_count": 58,
   "metadata": {
    "collapsed": false
   },
   "outputs": [],
   "source": [
    "# Import everything needed to edit/save/watch video clips\n",
    "from moviepy.editor import VideoFileClip\n",
    "from IPython.display import HTML"
   ]
  },
  {
   "cell_type": "code",
   "execution_count": 62,
   "metadata": {
    "collapsed": true
   },
   "outputs": [],
   "source": [
    "def process_image(image):\n",
    "    # NOTE: The output you return should be a color image (3 channel) for processing video below\n",
    "    # TODO: put your pipeline here,\n",
    "    # you should return the final output (image with lines are drawn on lanes)\n",
    "    # Convert image to grayscale\n",
    "    cv2.imwrite(os.path.join(\"VideoOutput\",\"Image.jpg\"),image) \n",
    "    gray = grayscale(image)\n",
    "\n",
    "\n",
    "    # Define a kernel size and apply Gaussian smoothing\n",
    "    kernel_size = 5\n",
    "    blur_gray = gaussian_blur(gray,5)\n",
    "\n",
    "    # Define our parameters for Canny and apply\n",
    "    low_threshold = 50\n",
    "    high_threshold = 150\n",
    "    edges = canny(blur_gray, low_threshold, high_threshold)\n",
    "    cv2.imwrite(os.path.join(\"VideoOutput\",\"Edges.jpg\"),edges) \n",
    "\n",
    "    # Define Region of Interest\n",
    "    imshape = edges.shape\n",
    "    offset_x = imshape[1]/10\n",
    "    offset_y = imshape[0]/8\n",
    "    vertices = np.array([[(0,imshape[0]),(imshape[1]/2-offset_x, imshape[0]/2+offset_y), (imshape[1]/2+offset_x, imshape[0]/2+offset_y), (imshape[1],imshape[0])]], dtype=np.int32)\n",
    "    ROI = region_of_interest(edges,vertices)\n",
    "    # cv2.imwrite(\"output_ROI.jpg\",ROI)\n",
    "    cv2.imwrite(os.path.join(\"VideoOutput\",\"ROI.jpg\"),ROI)\n",
    "\n",
    "    # Define the Hough transform parameters\n",
    "    # Make a blank the same size as our image to draw on\n",
    "    rho = 2 # distance resolution in pixels of the Hough grid\n",
    "    theta = np.pi/180 # angular resolution in radians of the Hough grid\n",
    "    threshold = 10     # minimum number of votes (intersections in Hough grid cell)\n",
    "    min_line_len = 20 #minimum number of pixels making up a line\n",
    "    max_line_gap = 40    # maximum gap in pixels between connectable line segments\n",
    "\n",
    "    # Run Hough on edge detected image\n",
    "    # Output \"lines\" is an array containing endpoints of detected line segments\n",
    "    line_image = hough_lines(ROI, rho, theta, threshold, min_line_len, max_line_gap)\n",
    "\n",
    "    final_image =  weighted_img(line_image,image,α=0.4,β=6.0)\n",
    "\n",
    "    #lanesFilename = os.path.join('output',imageFile.split('.')[0]+'_outputLanes.jpg')\n",
    "    #finalFilename = os.path.join('output',imageFile.split('.')[0]+'_outputFinal.jpg')\n",
    "    #cv2.imwrite(lanesFilename,line_image)\n",
    "    #cv2.imwrite(finalFilename,final_image)\n",
    "\n",
    "    return final_image"
   ]
  },
  {
   "cell_type": "markdown",
   "metadata": {},
   "source": [
    "Let's try the one with the solid white lane on the right first ..."
   ]
  },
  {
   "cell_type": "code",
   "execution_count": 63,
   "metadata": {
    "collapsed": false
   },
   "outputs": [
    {
     "name": "stdout",
     "output_type": "stream",
     "text": [
      "LeftLanesLength 24\n",
      "RightLanesLength 38\n",
      "[MoviePy] >>>> Building video white.mp4\n",
      "[MoviePy] Writing video white.mp4\n"
     ]
    },
    {
     "name": "stderr",
     "output_type": "stream",
     "text": [
      "\n",
      "\n",
      "\n",
      "\n",
      "  0%|          | 0/222 [00:00<?, ?it/s]\u001b[A\u001b[A\u001b[A\u001b[A\n",
      "\n",
      "\n",
      "\n",
      "  1%|          | 2/222 [00:00<00:13, 16.04it/s]"
     ]
    },
    {
     "name": "stdout",
     "output_type": "stream",
     "text": [
      "LeftLanesLength 24\n",
      "RightLanesLength 38\n",
      "LeftLanesLength 26\n",
      "RightLanesLength 28\n",
      "LeftLanesLength 18\n",
      "RightLanesLength 26\n"
     ]
    },
    {
     "name": "stderr",
     "output_type": "stream",
     "text": [
      "\u001b[A\u001b[A\u001b[A\u001b[A\n",
      "\n",
      "\n",
      "\n",
      "  2%|▏         | 4/222 [00:00<00:13, 16.04it/s]"
     ]
    },
    {
     "name": "stdout",
     "output_type": "stream",
     "text": [
      "LeftLanesLength 22\n",
      "RightLanesLength 18\n"
     ]
    },
    {
     "name": "stderr",
     "output_type": "stream",
     "text": [
      "\u001b[A\u001b[A\u001b[A\u001b[A\n",
      "\n",
      "\n",
      "\n",
      "  3%|▎         | 6/222 [00:00<00:13, 15.99it/s]"
     ]
    },
    {
     "name": "stdout",
     "output_type": "stream",
     "text": [
      "LeftLanesLength 22\n",
      "RightLanesLength 16\n",
      "LeftLanesLength 14\n",
      "RightLanesLength 34\n",
      "LeftLanesLength 16\n",
      "RightLanesLength 14\n"
     ]
    },
    {
     "name": "stderr",
     "output_type": "stream",
     "text": [
      "\u001b[A\u001b[A\u001b[A\u001b[A\n",
      "\n",
      "\n",
      "\n",
      "  4%|▎         | 8/222 [00:00<00:13, 16.25it/s]"
     ]
    },
    {
     "name": "stdout",
     "output_type": "stream",
     "text": [
      "LeftLanesLength 20\n",
      "RightLanesLength 18\n"
     ]
    },
    {
     "name": "stderr",
     "output_type": "stream",
     "text": [
      "\u001b[A\u001b[A\u001b[A\u001b[A\n",
      "\n",
      "\n",
      "\n",
      "  5%|▍         | 10/222 [00:00<00:13, 16.15it/s]"
     ]
    },
    {
     "name": "stdout",
     "output_type": "stream",
     "text": [
      "LeftLanesLength 18\n",
      "RightLanesLength 16\n",
      "LeftLanesLength 22\n",
      "RightLanesLength 26\n",
      "LeftLanesLength 18\n",
      "RightLanesLength 28\n"
     ]
    },
    {
     "name": "stderr",
     "output_type": "stream",
     "text": [
      "\u001b[A\u001b[A\u001b[A\u001b[A"
     ]
    },
    {
     "name": "stdout",
     "output_type": "stream",
     "text": [
      "LeftLanesLength 22\n",
      "RightLanesLength 32\n"
     ]
    },
    {
     "name": "stderr",
     "output_type": "stream",
     "text": [
      "\n",
      "\n",
      "\n",
      "\n",
      "  5%|▌         | 12/222 [00:00<00:13, 15.80it/s]\u001b[A\u001b[A\u001b[A\u001b[A\n",
      "\n",
      "\n",
      "\n",
      "  6%|▋         | 14/222 [00:00<00:12, 16.12it/s]"
     ]
    },
    {
     "name": "stdout",
     "output_type": "stream",
     "text": [
      "LeftLanesLength 26\n",
      "RightLanesLength 14\n",
      "LeftLanesLength 24\n",
      "RightLanesLength 26\n",
      "LeftLanesLength 28\n",
      "RightLanesLength 24\n"
     ]
    },
    {
     "name": "stderr",
     "output_type": "stream",
     "text": [
      "\u001b[A\u001b[A\u001b[A\u001b[A\n",
      "\n",
      "\n",
      "\n",
      "  7%|▋         | 16/222 [00:01<00:13, 15.09it/s]\u001b[A\u001b[A\u001b[A\u001b[A"
     ]
    },
    {
     "name": "stdout",
     "output_type": "stream",
     "text": [
      "LeftLanesLength 16\n",
      "RightLanesLength 30\n",
      "LeftLanesLength 14\n",
      "RightLanesLength 26\n",
      "LeftLanesLength 20\n",
      "RightLanesLength 18\n"
     ]
    },
    {
     "name": "stderr",
     "output_type": "stream",
     "text": [
      "\n",
      "\n",
      "\n",
      "\n",
      "\r",
      "  8%|▊         | 18/222 [00:01<00:13, 15.62it/s]"
     ]
    },
    {
     "name": "stdout",
     "output_type": "stream",
     "text": [
      "LeftLanesLength 16\n",
      "RightLanesLength 14\n"
     ]
    },
    {
     "name": "stderr",
     "output_type": "stream",
     "text": [
      "\u001b[A\u001b[A\u001b[A\u001b[A\n",
      "\n",
      "\n",
      "\n",
      "  9%|▉         | 20/222 [00:01<00:13, 14.95it/s]\u001b[A\u001b[A\u001b[A\u001b[A\n",
      "\n",
      "\n",
      "\n",
      " 10%|▉         | 22/222 [00:01<00:12, 15.76it/s]"
     ]
    },
    {
     "name": "stdout",
     "output_type": "stream",
     "text": [
      "LeftLanesLength 18\n",
      "RightLanesLength 12\n",
      "LeftLanesLength 24\n",
      "RightLanesLength 8\n",
      "LeftLanesLength 20\n",
      "RightLanesLength 18\n",
      "LeftLanesLength 20\n",
      "RightLanesLength 32\n"
     ]
    },
    {
     "name": "stderr",
     "output_type": "stream",
     "text": [
      "\u001b[A\u001b[A\u001b[A\u001b[A\n",
      "\n",
      "\n",
      "\n",
      " 11%|█         | 24/222 [00:01<00:12, 15.30it/s]\u001b[A\u001b[A\u001b[A\u001b[A\n",
      "\n",
      "\n",
      "\n",
      " 12%|█▏        | 26/222 [00:01<00:12, 15.75it/s]"
     ]
    },
    {
     "name": "stdout",
     "output_type": "stream",
     "text": [
      "LeftLanesLength 24\n",
      "RightLanesLength 28\n",
      "LeftLanesLength 32\n",
      "RightLanesLength 16\n",
      "LeftLanesLength 28\n",
      "RightLanesLength 26\n",
      "LeftLanesLength 28\n",
      "RightLanesLength 20\n"
     ]
    },
    {
     "name": "stderr",
     "output_type": "stream",
     "text": [
      "\u001b[A\u001b[A\u001b[A\u001b[A\n",
      "\n",
      "\n",
      "\n",
      " 13%|█▎        | 29/222 [00:01<00:11, 16.81it/s]\u001b[A\u001b[A\u001b[A\u001b[A"
     ]
    },
    {
     "name": "stdout",
     "output_type": "stream",
     "text": [
      "LeftLanesLength 20\n",
      "RightLanesLength 18\n",
      "LeftLanesLength 18\n",
      "RightLanesLength 20\n",
      "LeftLanesLength 10\n",
      "RightLanesLength 44\n"
     ]
    },
    {
     "name": "stderr",
     "output_type": "stream",
     "text": [
      "\n",
      "\n",
      "\n",
      "\n",
      "\r",
      " 14%|█▍        | 31/222 [00:01<00:11, 17.02it/s]"
     ]
    },
    {
     "name": "stdout",
     "output_type": "stream",
     "text": [
      "LeftLanesLength 14\n",
      "RightLanesLength 12\n"
     ]
    },
    {
     "name": "stderr",
     "output_type": "stream",
     "text": [
      "\u001b[A\u001b[A\u001b[A\u001b[A\n",
      "\n",
      "\n",
      "\n",
      " 15%|█▍        | 33/222 [00:02<00:10, 17.19it/s]"
     ]
    },
    {
     "name": "stdout",
     "output_type": "stream",
     "text": [
      "LeftLanesLength 14\n",
      "RightLanesLength 34\n",
      "LeftLanesLength 18\n",
      "RightLanesLength 34\n",
      "LeftLanesLength 18\n",
      "RightLanesLength 14\n"
     ]
    },
    {
     "name": "stderr",
     "output_type": "stream",
     "text": [
      "\u001b[A\u001b[A\u001b[A\u001b[A\n",
      "\n",
      "\n",
      "\n",
      " 16%|█▌        | 35/222 [00:02<00:10, 17.07it/s]"
     ]
    },
    {
     "name": "stdout",
     "output_type": "stream",
     "text": [
      "LeftLanesLength 28\n",
      "RightLanesLength 20\n"
     ]
    },
    {
     "name": "stderr",
     "output_type": "stream",
     "text": [
      "\u001b[A\u001b[A\u001b[A\u001b[A\n",
      "\n",
      "\n",
      "\n",
      " 17%|█▋        | 37/222 [00:02<00:11, 16.68it/s]"
     ]
    },
    {
     "name": "stdout",
     "output_type": "stream",
     "text": [
      "LeftLanesLength 22\n",
      "RightLanesLength 16\n",
      "LeftLanesLength 26\n",
      "RightLanesLength 36\n",
      "LeftLanesLength 26\n",
      "RightLanesLength 44\n"
     ]
    },
    {
     "name": "stderr",
     "output_type": "stream",
     "text": [
      "\u001b[A\u001b[A\u001b[A\u001b[A\n",
      "\n",
      "\n",
      "\n",
      " 18%|█▊        | 39/222 [00:02<00:10, 16.66it/s]"
     ]
    },
    {
     "name": "stdout",
     "output_type": "stream",
     "text": [
      "LeftLanesLength 20\n",
      "RightLanesLength 22\n"
     ]
    },
    {
     "name": "stderr",
     "output_type": "stream",
     "text": [
      "\u001b[A\u001b[A\u001b[A\u001b[A\n",
      "\n",
      "\n",
      "\n",
      " 18%|█▊        | 41/222 [00:02<00:10, 17.02it/s]"
     ]
    },
    {
     "name": "stdout",
     "output_type": "stream",
     "text": [
      "LeftLanesLength 22\n",
      "RightLanesLength 26\n",
      "LeftLanesLength 18\n",
      "RightLanesLength 28\n",
      "LeftLanesLength 14\n",
      "RightLanesLength 30\n"
     ]
    },
    {
     "name": "stderr",
     "output_type": "stream",
     "text": [
      "\u001b[A\u001b[A\u001b[A\u001b[A\n",
      "\n",
      "\n",
      "\n",
      " 19%|█▉        | 43/222 [00:02<00:10, 17.00it/s]"
     ]
    },
    {
     "name": "stdout",
     "output_type": "stream",
     "text": [
      "LeftLanesLength 18\n",
      "RightLanesLength 18\n"
     ]
    },
    {
     "name": "stderr",
     "output_type": "stream",
     "text": [
      "\u001b[A\u001b[A\u001b[A\u001b[A\n",
      "\n",
      "\n",
      "\n",
      " 20%|██        | 45/222 [00:02<00:11, 15.85it/s]"
     ]
    },
    {
     "name": "stdout",
     "output_type": "stream",
     "text": [
      "LeftLanesLength 22\n",
      "RightLanesLength 18\n",
      "LeftLanesLength 22\n",
      "RightLanesLength 22\n"
     ]
    },
    {
     "name": "stderr",
     "output_type": "stream",
     "text": [
      "\u001b[A\u001b[A\u001b[A\u001b[A"
     ]
    },
    {
     "name": "stdout",
     "output_type": "stream",
     "text": [
      "LeftLanesLength 18\n",
      "RightLanesLength 26\n"
     ]
    },
    {
     "name": "stderr",
     "output_type": "stream",
     "text": [
      "\n",
      "\n",
      "\n",
      "\n",
      " 21%|██        | 47/222 [00:02<00:11, 15.83it/s]\u001b[A\u001b[A\u001b[A\u001b[A"
     ]
    },
    {
     "name": "stdout",
     "output_type": "stream",
     "text": [
      "LeftLanesLength 22\n",
      "RightLanesLength 20\n",
      "LeftLanesLength 22\n",
      "RightLanesLength 18\n"
     ]
    },
    {
     "name": "stderr",
     "output_type": "stream",
     "text": [
      "\n",
      "\n",
      "\n",
      "\n",
      "\r",
      " 22%|██▏       | 49/222 [00:03<00:11, 15.22it/s]"
     ]
    },
    {
     "name": "stdout",
     "output_type": "stream",
     "text": [
      "LeftLanesLength 24\n",
      "RightLanesLength 32\n"
     ]
    },
    {
     "name": "stderr",
     "output_type": "stream",
     "text": [
      "\u001b[A\u001b[A\u001b[A\u001b[A\n",
      "\n",
      "\n",
      "\n",
      " 23%|██▎       | 51/222 [00:03<00:11, 15.13it/s]"
     ]
    },
    {
     "name": "stdout",
     "output_type": "stream",
     "text": [
      "LeftLanesLength 22\n",
      "RightLanesLength 32\n",
      "LeftLanesLength 26\n",
      "RightLanesLength 26\n",
      "LeftLanesLength 22\n",
      "RightLanesLength 22\n"
     ]
    },
    {
     "name": "stderr",
     "output_type": "stream",
     "text": [
      "\u001b[A\u001b[A\u001b[A\u001b[A\n",
      "\n",
      "\n",
      "\n",
      " 24%|██▍       | 53/222 [00:03<00:11, 14.60it/s]\u001b[A\u001b[A\u001b[A\u001b[A\n",
      "\n",
      "\n",
      "\n",
      " 25%|██▍       | 55/222 [00:03<00:11, 13.93it/s]"
     ]
    },
    {
     "name": "stdout",
     "output_type": "stream",
     "text": [
      "LeftLanesLength 20\n",
      "RightLanesLength 34\n",
      "LeftLanesLength 16\n",
      "RightLanesLength 28\n",
      "LeftLanesLength 16\n",
      "RightLanesLength 30\n"
     ]
    },
    {
     "name": "stderr",
     "output_type": "stream",
     "text": [
      "\u001b[A\u001b[A\u001b[A\u001b[A\n",
      "\n",
      "\n",
      "\n",
      " 26%|██▌       | 57/222 [00:03<00:11, 14.01it/s]\u001b[A\u001b[A\u001b[A\u001b[A\n",
      "\n",
      "\n",
      "\n",
      " 27%|██▋       | 59/222 [00:03<00:10, 14.83it/s]"
     ]
    },
    {
     "name": "stdout",
     "output_type": "stream",
     "text": [
      "LeftLanesLength 16\n",
      "RightLanesLength 36\n",
      "LeftLanesLength 22\n",
      "RightLanesLength 28\n",
      "LeftLanesLength 24\n",
      "RightLanesLength 30\n",
      "LeftLanesLength 22\n",
      "RightLanesLength 38\n"
     ]
    },
    {
     "name": "stderr",
     "output_type": "stream",
     "text": [
      "\u001b[A\u001b[A\u001b[A\u001b[A\n",
      "\n",
      "\n",
      "\n",
      " 27%|██▋       | 61/222 [00:03<00:10, 15.03it/s]\u001b[A\u001b[A\u001b[A\u001b[A"
     ]
    },
    {
     "name": "stdout",
     "output_type": "stream",
     "text": [
      "LeftLanesLength 24\n",
      "RightLanesLength 38\n",
      "LeftLanesLength 22\n",
      "RightLanesLength 18\n",
      "LeftLanesLength 36\n",
      "RightLanesLength 22\n"
     ]
    },
    {
     "name": "stderr",
     "output_type": "stream",
     "text": [
      "\n",
      "\n",
      "\n",
      "\n",
      " 28%|██▊       | 63/222 [00:04<00:11, 14.41it/s]\u001b[A\u001b[A\u001b[A\u001b[A\n",
      "\n",
      "\n",
      "\n",
      " 29%|██▉       | 65/222 [00:04<00:11, 14.17it/s]"
     ]
    },
    {
     "name": "stdout",
     "output_type": "stream",
     "text": [
      "LeftLanesLength 22\n",
      "RightLanesLength 22\n",
      "LeftLanesLength 24\n",
      "RightLanesLength 24\n",
      "LeftLanesLength 18\n",
      "RightLanesLength 30\n"
     ]
    },
    {
     "name": "stderr",
     "output_type": "stream",
     "text": [
      "\u001b[A\u001b[A\u001b[A\u001b[A\n",
      "\n",
      "\n",
      "\n",
      " 30%|███       | 67/222 [00:04<00:10, 14.21it/s]\u001b[A\u001b[A\u001b[A\u001b[A"
     ]
    },
    {
     "name": "stdout",
     "output_type": "stream",
     "text": [
      "LeftLanesLength 14\n",
      "RightLanesLength 30\n",
      "LeftLanesLength 16\n",
      "RightLanesLength 28\n",
      "LeftLanesLength 22\n",
      "RightLanesLength 26\n"
     ]
    },
    {
     "name": "stderr",
     "output_type": "stream",
     "text": [
      "\n",
      "\n",
      "\n",
      "\n",
      " 31%|███       | 69/222 [00:04<00:11, 13.72it/s]\u001b[A\u001b[A\u001b[A\u001b[A\n",
      "\n",
      "\n",
      "\n",
      " 32%|███▏      | 71/222 [00:04<00:10, 13.96it/s]"
     ]
    },
    {
     "name": "stdout",
     "output_type": "stream",
     "text": [
      "LeftLanesLength 18\n",
      "RightLanesLength 40\n",
      "LeftLanesLength 22\n",
      "RightLanesLength 20\n",
      "LeftLanesLength 24\n",
      "RightLanesLength 18\n"
     ]
    },
    {
     "name": "stderr",
     "output_type": "stream",
     "text": [
      "\u001b[A\u001b[A\u001b[A\u001b[A\n",
      "\n",
      "\n",
      "\n",
      " 33%|███▎      | 73/222 [00:04<00:11, 12.91it/s]\u001b[A\u001b[A\u001b[A\u001b[A"
     ]
    },
    {
     "name": "stdout",
     "output_type": "stream",
     "text": [
      "LeftLanesLength 28\n",
      "RightLanesLength 28\n",
      "LeftLanesLength 22\n",
      "RightLanesLength 36\n",
      "LeftLanesLength 24\n",
      "RightLanesLength 22\n"
     ]
    },
    {
     "name": "stderr",
     "output_type": "stream",
     "text": [
      "\n",
      "\n",
      "\n",
      "\n",
      " 34%|███▍      | 75/222 [00:04<00:10, 13.47it/s]\u001b[A\u001b[A\u001b[A\u001b[A\n",
      "\n",
      "\n",
      "\n",
      " 35%|███▍      | 77/222 [00:05<00:11, 12.90it/s]"
     ]
    },
    {
     "name": "stdout",
     "output_type": "stream",
     "text": [
      "LeftLanesLength 26\n",
      "RightLanesLength 32\n",
      "LeftLanesLength 26\n",
      "RightLanesLength 20\n",
      "LeftLanesLength 16\n",
      "RightLanesLength 24\n"
     ]
    },
    {
     "name": "stderr",
     "output_type": "stream",
     "text": [
      "\u001b[A\u001b[A\u001b[A\u001b[A\n",
      "\n",
      "\n",
      "\n",
      " 36%|███▌      | 79/222 [00:05<00:10, 13.37it/s]\u001b[A\u001b[A\u001b[A\u001b[A"
     ]
    },
    {
     "name": "stdout",
     "output_type": "stream",
     "text": [
      "LeftLanesLength 12\n",
      "RightLanesLength 32\n",
      "LeftLanesLength 20\n",
      "RightLanesLength 30\n",
      "LeftLanesLength 16\n",
      "RightLanesLength 22\n"
     ]
    },
    {
     "name": "stderr",
     "output_type": "stream",
     "text": [
      "\n",
      "\n",
      "\n",
      "\n",
      " 36%|███▋      | 81/222 [00:05<00:11, 12.64it/s]\u001b[A\u001b[A\u001b[A\u001b[A\n",
      "\n",
      "\n",
      "\n",
      " 37%|███▋      | 83/222 [00:05<00:11, 12.16it/s]"
     ]
    },
    {
     "name": "stdout",
     "output_type": "stream",
     "text": [
      "LeftLanesLength 20\n",
      "RightLanesLength 24\n",
      "LeftLanesLength 18\n",
      "RightLanesLength 42\n",
      "LeftLanesLength 20\n",
      "RightLanesLength 34\n"
     ]
    },
    {
     "name": "stderr",
     "output_type": "stream",
     "text": [
      "\u001b[A\u001b[A\u001b[A\u001b[A\n",
      "\n",
      "\n",
      "\n",
      " 38%|███▊      | 85/222 [00:05<00:11, 11.83it/s]\u001b[A\u001b[A\u001b[A\u001b[A"
     ]
    },
    {
     "name": "stdout",
     "output_type": "stream",
     "text": [
      "LeftLanesLength 22\n",
      "RightLanesLength 22\n",
      "LeftLanesLength 24\n",
      "RightLanesLength 20\n",
      "LeftLanesLength 26\n",
      "RightLanesLength 26\n"
     ]
    },
    {
     "name": "stderr",
     "output_type": "stream",
     "text": [
      "\n",
      "\n",
      "\n",
      "\n",
      " 39%|███▉      | 87/222 [00:05<00:10, 12.54it/s]\u001b[A\u001b[A\u001b[A\u001b[A\n",
      "\n",
      "\n",
      "\n",
      " 40%|████      | 89/222 [00:06<00:10, 12.92it/s]"
     ]
    },
    {
     "name": "stdout",
     "output_type": "stream",
     "text": [
      "LeftLanesLength 26\n",
      "RightLanesLength 20\n",
      "LeftLanesLength 26\n",
      "RightLanesLength 30\n",
      "LeftLanesLength 24\n",
      "RightLanesLength 20\n"
     ]
    },
    {
     "name": "stderr",
     "output_type": "stream",
     "text": [
      "\u001b[A\u001b[A\u001b[A\u001b[A\n",
      "\n",
      "\n",
      "\n",
      " 41%|████      | 91/222 [00:06<00:10, 12.88it/s]\u001b[A\u001b[A\u001b[A\u001b[A"
     ]
    },
    {
     "name": "stdout",
     "output_type": "stream",
     "text": [
      "LeftLanesLength 10\n",
      "RightLanesLength 24\n",
      "LeftLanesLength 16\n",
      "RightLanesLength 20\n",
      "LeftLanesLength 22\n",
      "RightLanesLength 32\n"
     ]
    },
    {
     "name": "stderr",
     "output_type": "stream",
     "text": [
      "\n",
      "\n",
      "\n",
      "\n",
      " 42%|████▏     | 93/222 [00:06<00:10, 12.86it/s]\u001b[A\u001b[A\u001b[A\u001b[A\n",
      "\n",
      "\n",
      "\n",
      " 43%|████▎     | 95/222 [00:06<00:09, 12.75it/s]"
     ]
    },
    {
     "name": "stdout",
     "output_type": "stream",
     "text": [
      "LeftLanesLength 16\n",
      "RightLanesLength 24\n",
      "LeftLanesLength 22\n",
      "RightLanesLength 32\n",
      "LeftLanesLength 18\n",
      "RightLanesLength 18\n"
     ]
    },
    {
     "name": "stderr",
     "output_type": "stream",
     "text": [
      "\u001b[A\u001b[A\u001b[A\u001b[A\n",
      "\n",
      "\n",
      "\n",
      " 44%|████▎     | 97/222 [00:06<00:09, 13.39it/s]\u001b[A\u001b[A\u001b[A\u001b[A\n",
      "\n",
      "\n",
      "\n",
      " 45%|████▍     | 99/222 [00:06<00:08, 14.50it/s]"
     ]
    },
    {
     "name": "stdout",
     "output_type": "stream",
     "text": [
      "LeftLanesLength 24\n",
      "RightLanesLength 28\n",
      "LeftLanesLength 24\n",
      "RightLanesLength 30\n",
      "LeftLanesLength 22\n",
      "RightLanesLength 30\n",
      "LeftLanesLength 24\n",
      "RightLanesLength 26\n"
     ]
    },
    {
     "name": "stderr",
     "output_type": "stream",
     "text": [
      "\u001b[A\u001b[A\u001b[A\u001b[A\n",
      "\n",
      "\n",
      "\n",
      " 45%|████▌     | 101/222 [00:06<00:07, 15.29it/s]\u001b[A\u001b[A\u001b[A\u001b[A\n",
      "\n",
      "\n",
      "\n",
      " 46%|████▋     | 103/222 [00:06<00:07, 15.89it/s]"
     ]
    },
    {
     "name": "stdout",
     "output_type": "stream",
     "text": [
      "LeftLanesLength 20\n",
      "RightLanesLength 36\n",
      "LeftLanesLength 22\n",
      "RightLanesLength 42\n",
      "LeftLanesLength 14\n",
      "RightLanesLength 26\n",
      "LeftLanesLength 16\n",
      "RightLanesLength 22\n"
     ]
    },
    {
     "name": "stderr",
     "output_type": "stream",
     "text": [
      "\u001b[A\u001b[A\u001b[A\u001b[A\n",
      "\n",
      "\n",
      "\n",
      " 47%|████▋     | 105/222 [00:07<00:07, 15.65it/s]\u001b[A\u001b[A\u001b[A\u001b[A"
     ]
    },
    {
     "name": "stdout",
     "output_type": "stream",
     "text": [
      "LeftLanesLength 16\n",
      "RightLanesLength 20\n",
      "LeftLanesLength 18\n",
      "RightLanesLength 30\n",
      "LeftLanesLength 14\n",
      "RightLanesLength 36\n"
     ]
    },
    {
     "name": "stderr",
     "output_type": "stream",
     "text": [
      "\n",
      "\n",
      "\n",
      "\n",
      " 48%|████▊     | 107/222 [00:07<00:07, 15.22it/s]\u001b[A\u001b[A\u001b[A\u001b[A\n",
      "\n",
      "\n",
      "\n",
      " 49%|████▉     | 109/222 [00:07<00:07, 14.79it/s]"
     ]
    },
    {
     "name": "stdout",
     "output_type": "stream",
     "text": [
      "LeftLanesLength 18\n",
      "RightLanesLength 30\n",
      "LeftLanesLength 20\n",
      "RightLanesLength 16\n",
      "LeftLanesLength 26\n",
      "RightLanesLength 30\n"
     ]
    },
    {
     "name": "stderr",
     "output_type": "stream",
     "text": [
      "\u001b[A\u001b[A\u001b[A\u001b[A\n",
      "\n",
      "\n",
      "\n",
      " 50%|█████     | 111/222 [00:07<00:07, 15.17it/s]\u001b[A\u001b[A\u001b[A\u001b[A"
     ]
    },
    {
     "name": "stdout",
     "output_type": "stream",
     "text": [
      "LeftLanesLength 28\n",
      "RightLanesLength 18\n",
      "LeftLanesLength 24\n",
      "RightLanesLength 18\n",
      "LeftLanesLength 18\n",
      "RightLanesLength 30\n"
     ]
    },
    {
     "name": "stderr",
     "output_type": "stream",
     "text": [
      "\n",
      "\n",
      "\n",
      "\n",
      " 51%|█████     | 113/222 [00:07<00:07, 13.90it/s]\u001b[A\u001b[A\u001b[A\u001b[A\n",
      "\n",
      "\n",
      "\n",
      " 52%|█████▏    | 115/222 [00:07<00:07, 14.01it/s]"
     ]
    },
    {
     "name": "stdout",
     "output_type": "stream",
     "text": [
      "LeftLanesLength 24\n",
      "RightLanesLength 34\n",
      "LeftLanesLength 10\n",
      "RightLanesLength 28\n",
      "LeftLanesLength 22\n",
      "RightLanesLength 20\n"
     ]
    },
    {
     "name": "stderr",
     "output_type": "stream",
     "text": [
      "\u001b[A\u001b[A\u001b[A\u001b[A\n",
      "\n",
      "\n",
      "\n",
      " 53%|█████▎    | 117/222 [00:07<00:07, 13.86it/s]\u001b[A\u001b[A\u001b[A\u001b[A\n",
      "\n",
      "\n",
      "\n",
      " 54%|█████▎    | 119/222 [00:08<00:06, 14.86it/s]"
     ]
    },
    {
     "name": "stdout",
     "output_type": "stream",
     "text": [
      "LeftLanesLength 14\n",
      "RightLanesLength 30\n",
      "LeftLanesLength 14\n",
      "RightLanesLength 24\n",
      "LeftLanesLength 22\n",
      "RightLanesLength 36\n",
      "LeftLanesLength 20\n",
      "RightLanesLength 18\n"
     ]
    },
    {
     "name": "stderr",
     "output_type": "stream",
     "text": [
      "\u001b[A\u001b[A\u001b[A\u001b[A\n",
      "\n",
      "\n",
      "\n",
      " 55%|█████▍    | 121/222 [00:08<00:06, 15.79it/s]\u001b[A\u001b[A\u001b[A\u001b[A\n",
      "\n",
      "\n",
      "\n",
      " 55%|█████▌    | 123/222 [00:08<00:06, 16.21it/s]"
     ]
    },
    {
     "name": "stdout",
     "output_type": "stream",
     "text": [
      "LeftLanesLength 18\n",
      "RightLanesLength 30\n",
      "LeftLanesLength 20\n",
      "RightLanesLength 36\n",
      "LeftLanesLength 26\n",
      "RightLanesLength 22\n",
      "LeftLanesLength 24\n",
      "RightLanesLength 30\n"
     ]
    },
    {
     "name": "stderr",
     "output_type": "stream",
     "text": [
      "\u001b[A\u001b[A\u001b[A\u001b[A\n",
      "\n",
      "\n",
      "\n",
      " 56%|█████▋    | 125/222 [00:08<00:06, 15.72it/s]\u001b[A\u001b[A\u001b[A\u001b[A"
     ]
    },
    {
     "name": "stdout",
     "output_type": "stream",
     "text": [
      "LeftLanesLength 22\n",
      "RightLanesLength 36\n",
      "LeftLanesLength 20\n",
      "RightLanesLength 28\n",
      "LeftLanesLength 14\n",
      "RightLanesLength 14\n",
      "LeftLanesLength 18\n",
      "RightLanesLength 42\n"
     ]
    },
    {
     "name": "stderr",
     "output_type": "stream",
     "text": [
      "\n",
      "\n",
      "\n",
      "\n",
      " 57%|█████▋    | 127/222 [00:08<00:06, 15.65it/s]\u001b[A\u001b[A\u001b[A\u001b[A\n",
      "\n",
      "\n",
      "\n",
      " 58%|█████▊    | 129/222 [00:08<00:05, 15.70it/s]\u001b[A\u001b[A\u001b[A\u001b[A\n",
      "\n",
      "\n",
      "\n",
      " 59%|█████▉    | 131/222 [00:08<00:05, 15.99it/s]"
     ]
    },
    {
     "name": "stdout",
     "output_type": "stream",
     "text": [
      "LeftLanesLength 14\n",
      "RightLanesLength 14\n",
      "LeftLanesLength 16\n",
      "RightLanesLength 34\n",
      "LeftLanesLength 14\n",
      "RightLanesLength 16\n",
      "LeftLanesLength 24\n",
      "RightLanesLength 40\n"
     ]
    },
    {
     "name": "stderr",
     "output_type": "stream",
     "text": [
      "\u001b[A\u001b[A\u001b[A\u001b[A\n",
      "\n",
      "\n",
      "\n",
      " 60%|█████▉    | 133/222 [00:08<00:05, 16.34it/s]\u001b[A\u001b[A\u001b[A\u001b[A\n",
      "\n",
      "\n",
      "\n",
      " 61%|██████    | 135/222 [00:09<00:05, 16.56it/s]"
     ]
    },
    {
     "name": "stdout",
     "output_type": "stream",
     "text": [
      "LeftLanesLength 20\n",
      "RightLanesLength 18\n",
      "LeftLanesLength 30\n",
      "RightLanesLength 34\n",
      "LeftLanesLength 22\n",
      "RightLanesLength 18\n",
      "LeftLanesLength 20\n",
      "RightLanesLength 12\n"
     ]
    },
    {
     "name": "stderr",
     "output_type": "stream",
     "text": [
      "\u001b[A\u001b[A\u001b[A\u001b[A\n",
      "\n",
      "\n",
      "\n",
      " 62%|██████▏   | 137/222 [00:09<00:05, 16.73it/s]\u001b[A\u001b[A\u001b[A\u001b[A"
     ]
    },
    {
     "name": "stdout",
     "output_type": "stream",
     "text": [
      "LeftLanesLength 24\n",
      "RightLanesLength 18\n",
      "LeftLanesLength 24\n",
      "RightLanesLength 18\n",
      "LeftLanesLength 14\n",
      "RightLanesLength 28\n"
     ]
    },
    {
     "name": "stderr",
     "output_type": "stream",
     "text": [
      "\n",
      "\n",
      "\n",
      "\n",
      " 63%|██████▎   | 139/222 [00:09<00:05, 15.37it/s]\u001b[A\u001b[A\u001b[A\u001b[A\n",
      "\n",
      "\n",
      "\n",
      " 64%|██████▎   | 141/222 [00:09<00:05, 15.74it/s]"
     ]
    },
    {
     "name": "stdout",
     "output_type": "stream",
     "text": [
      "LeftLanesLength 18\n",
      "RightLanesLength 20\n",
      "LeftLanesLength 14\n",
      "RightLanesLength 28\n",
      "LeftLanesLength 18\n",
      "RightLanesLength 20\n",
      "LeftLanesLength 16\n",
      "RightLanesLength 28\n"
     ]
    },
    {
     "name": "stderr",
     "output_type": "stream",
     "text": [
      "\u001b[A\u001b[A\u001b[A\u001b[A\n",
      "\n",
      "\n",
      "\n",
      " 64%|██████▍   | 143/222 [00:09<00:05, 15.70it/s]\u001b[A\u001b[A\u001b[A\u001b[A\n",
      "\n",
      "\n",
      "\n",
      " 65%|██████▌   | 145/222 [00:09<00:04, 15.58it/s]"
     ]
    },
    {
     "name": "stdout",
     "output_type": "stream",
     "text": [
      "LeftLanesLength 22\n",
      "RightLanesLength 14\n",
      "LeftLanesLength 20\n",
      "RightLanesLength 12\n",
      "LeftLanesLength 16\n",
      "RightLanesLength 18\n",
      "LeftLanesLength 26\n",
      "RightLanesLength 24\n"
     ]
    },
    {
     "name": "stderr",
     "output_type": "stream",
     "text": [
      "\u001b[A\u001b[A\u001b[A\u001b[A\n",
      "\n",
      "\n",
      "\n",
      " 66%|██████▌   | 147/222 [00:09<00:04, 15.40it/s]\u001b[A\u001b[A\u001b[A\u001b[A\n",
      "\n",
      "\n",
      "\n",
      " 67%|██████▋   | 149/222 [00:09<00:04, 15.05it/s]"
     ]
    },
    {
     "name": "stdout",
     "output_type": "stream",
     "text": [
      "LeftLanesLength 22\n",
      "RightLanesLength 14\n",
      "LeftLanesLength 18\n",
      "RightLanesLength 30\n",
      "LeftLanesLength 24\n",
      "RightLanesLength 32\n",
      "LeftLanesLength 14\n",
      "RightLanesLength 30\n"
     ]
    },
    {
     "name": "stderr",
     "output_type": "stream",
     "text": [
      "\u001b[A\u001b[A\u001b[A\u001b[A\n",
      "\n",
      "\n",
      "\n",
      " 68%|██████▊   | 151/222 [00:10<00:04, 15.36it/s]\u001b[A\u001b[A\u001b[A\u001b[A\n",
      "\n",
      "\n",
      "\n",
      " 69%|██████▉   | 153/222 [00:10<00:04, 16.14it/s]"
     ]
    },
    {
     "name": "stdout",
     "output_type": "stream",
     "text": [
      "LeftLanesLength 18\n",
      "RightLanesLength 34\n",
      "LeftLanesLength 22\n",
      "RightLanesLength 38\n",
      "LeftLanesLength 20\n",
      "RightLanesLength 30\n",
      "LeftLanesLength 14\n",
      "RightLanesLength 30\n"
     ]
    },
    {
     "name": "stderr",
     "output_type": "stream",
     "text": [
      "\u001b[A\u001b[A\u001b[A\u001b[A\n",
      "\n",
      "\n",
      "\n",
      " 70%|██████▉   | 155/222 [00:10<00:04, 15.94it/s]\u001b[A\u001b[A\u001b[A\u001b[A\n",
      "\n",
      "\n",
      "\n",
      " 71%|███████   | 157/222 [00:10<00:04, 15.95it/s]"
     ]
    },
    {
     "name": "stdout",
     "output_type": "stream",
     "text": [
      "LeftLanesLength 24\n",
      "RightLanesLength 30\n",
      "LeftLanesLength 26\n",
      "RightLanesLength 30\n",
      "LeftLanesLength 20\n",
      "RightLanesLength 32\n",
      "LeftLanesLength 26\n",
      "RightLanesLength 32\n"
     ]
    },
    {
     "name": "stderr",
     "output_type": "stream",
     "text": [
      "\u001b[A\u001b[A\u001b[A\u001b[A\n",
      "\n",
      "\n",
      "\n",
      " 72%|███████▏  | 159/222 [00:10<00:04, 15.29it/s]\u001b[A\u001b[A\u001b[A\u001b[A\n",
      "\n",
      "\n",
      "\n",
      " 73%|███████▎  | 161/222 [00:10<00:03, 15.52it/s]"
     ]
    },
    {
     "name": "stdout",
     "output_type": "stream",
     "text": [
      "LeftLanesLength 24\n",
      "RightLanesLength 38\n",
      "LeftLanesLength 18\n",
      "RightLanesLength 24\n",
      "LeftLanesLength 22\n",
      "RightLanesLength 22\n",
      "LeftLanesLength 12\n",
      "RightLanesLength 30\n"
     ]
    },
    {
     "name": "stderr",
     "output_type": "stream",
     "text": [
      "\u001b[A\u001b[A\u001b[A\u001b[A\n",
      "\n",
      "\n",
      "\n",
      " 73%|███████▎  | 163/222 [00:10<00:03, 15.82it/s]\u001b[A\u001b[A\u001b[A\u001b[A\n",
      "\n",
      "\n",
      "\n",
      " 74%|███████▍  | 165/222 [00:10<00:03, 15.91it/s]"
     ]
    },
    {
     "name": "stdout",
     "output_type": "stream",
     "text": [
      "LeftLanesLength 10\n",
      "RightLanesLength 42\n",
      "LeftLanesLength 20\n",
      "RightLanesLength 22\n",
      "LeftLanesLength 18\n",
      "RightLanesLength 18\n",
      "LeftLanesLength 18\n",
      "RightLanesLength 12\n"
     ]
    },
    {
     "name": "stderr",
     "output_type": "stream",
     "text": [
      "\u001b[A\u001b[A\u001b[A\u001b[A\n",
      "\n",
      "\n",
      "\n",
      " 75%|███████▌  | 167/222 [00:11<00:03, 15.68it/s]\u001b[A\u001b[A\u001b[A\u001b[A\n",
      "\n",
      "\n",
      "\n",
      " 76%|███████▌  | 169/222 [00:11<00:03, 15.37it/s]"
     ]
    },
    {
     "name": "stdout",
     "output_type": "stream",
     "text": [
      "LeftLanesLength 16\n",
      "RightLanesLength 14\n",
      "LeftLanesLength 22\n",
      "RightLanesLength 12\n",
      "LeftLanesLength 22\n",
      "RightLanesLength 24\n"
     ]
    },
    {
     "name": "stderr",
     "output_type": "stream",
     "text": [
      "\u001b[A\u001b[A\u001b[A\u001b[A\n",
      "\n",
      "\n",
      "\n",
      " 77%|███████▋  | 171/222 [00:11<00:03, 15.03it/s]\u001b[A\u001b[A\u001b[A\u001b[A"
     ]
    },
    {
     "name": "stdout",
     "output_type": "stream",
     "text": [
      "LeftLanesLength 30\n",
      "RightLanesLength 28\n",
      "LeftLanesLength 28\n",
      "RightLanesLength 16\n",
      "LeftLanesLength 28\n",
      "RightLanesLength 8\n",
      "LeftLanesLength 28\n",
      "RightLanesLength 12\n"
     ]
    },
    {
     "name": "stderr",
     "output_type": "stream",
     "text": [
      "\n",
      "\n",
      "\n",
      "\n",
      " 78%|███████▊  | 173/222 [00:11<00:03, 15.31it/s]\u001b[A\u001b[A\u001b[A\u001b[A\n",
      "\n",
      "\n",
      "\n",
      " 79%|███████▉  | 175/222 [00:11<00:03, 15.62it/s]\u001b[A\u001b[A\u001b[A\u001b[A"
     ]
    },
    {
     "name": "stdout",
     "output_type": "stream",
     "text": [
      "LeftLanesLength 10\n",
      "RightLanesLength 24\n",
      "LeftLanesLength 14\n",
      "RightLanesLength 30\n",
      "LeftLanesLength 16\n",
      "RightLanesLength 28\n",
      "LeftLanesLength 16\n",
      "RightLanesLength 30\n"
     ]
    },
    {
     "name": "stderr",
     "output_type": "stream",
     "text": [
      "\n",
      "\n",
      "\n",
      "\n",
      " 80%|███████▉  | 177/222 [00:11<00:03, 14.89it/s]\u001b[A\u001b[A\u001b[A\u001b[A\n",
      "\n",
      "\n",
      "\n",
      " 81%|████████  | 179/222 [00:11<00:02, 15.38it/s]\u001b[A\u001b[A\u001b[A\u001b[A\n",
      "\n",
      "\n",
      "\n",
      " 82%|████████▏ | 181/222 [00:12<00:02, 15.86it/s]"
     ]
    },
    {
     "name": "stdout",
     "output_type": "stream",
     "text": [
      "LeftLanesLength 20\n",
      "RightLanesLength 30\n",
      "LeftLanesLength 26\n",
      "RightLanesLength 26\n",
      "LeftLanesLength 20\n",
      "RightLanesLength 26\n",
      "LeftLanesLength 22\n",
      "RightLanesLength 34\n"
     ]
    },
    {
     "name": "stderr",
     "output_type": "stream",
     "text": [
      "\u001b[A\u001b[A\u001b[A\u001b[A\n",
      "\n",
      "\n",
      "\n",
      " 82%|████████▏ | 183/222 [00:12<00:02, 16.13it/s]\u001b[A\u001b[A\u001b[A\u001b[A\n",
      "\n",
      "\n",
      "\n",
      " 83%|████████▎ | 185/222 [00:12<00:02, 16.29it/s]"
     ]
    },
    {
     "name": "stdout",
     "output_type": "stream",
     "text": [
      "LeftLanesLength 26\n",
      "RightLanesLength 26\n",
      "LeftLanesLength 32\n",
      "RightLanesLength 34\n",
      "LeftLanesLength 26\n",
      "RightLanesLength 38\n",
      "LeftLanesLength 16\n",
      "RightLanesLength 24\n"
     ]
    },
    {
     "name": "stderr",
     "output_type": "stream",
     "text": [
      "\u001b[A\u001b[A\u001b[A\u001b[A\n",
      "\n",
      "\n",
      "\n",
      " 84%|████████▍ | 187/222 [00:12<00:02, 15.49it/s]\u001b[A\u001b[A\u001b[A\u001b[A"
     ]
    },
    {
     "name": "stdout",
     "output_type": "stream",
     "text": [
      "LeftLanesLength 14\n",
      "RightLanesLength 30\n",
      "LeftLanesLength 14\n",
      "RightLanesLength 28\n",
      "LeftLanesLength 22\n",
      "RightLanesLength 14\n",
      "LeftLanesLength 20\n",
      "RightLanesLength 14\n"
     ]
    },
    {
     "name": "stderr",
     "output_type": "stream",
     "text": [
      "\n",
      "\n",
      "\n",
      "\n",
      " 85%|████████▌ | 189/222 [00:12<00:02, 15.97it/s]\u001b[A\u001b[A\u001b[A\u001b[A\n",
      "\n",
      "\n",
      "\n",
      " 86%|████████▌ | 191/222 [00:12<00:02, 15.46it/s]\u001b[A\u001b[A\u001b[A\u001b[A"
     ]
    },
    {
     "name": "stdout",
     "output_type": "stream",
     "text": [
      "LeftLanesLength 22\n",
      "RightLanesLength 34\n",
      "LeftLanesLength 20\n",
      "RightLanesLength 24\n",
      "LeftLanesLength 18\n",
      "RightLanesLength 32\n"
     ]
    },
    {
     "name": "stderr",
     "output_type": "stream",
     "text": [
      "\n",
      "\n",
      "\n",
      "\n",
      " 87%|████████▋ | 193/222 [00:12<00:01, 15.79it/s]\u001b[A\u001b[A\u001b[A\u001b[A\n",
      "\n",
      "\n",
      "\n",
      " 88%|████████▊ | 195/222 [00:12<00:01, 15.74it/s]"
     ]
    },
    {
     "name": "stdout",
     "output_type": "stream",
     "text": [
      "LeftLanesLength 24\n",
      "RightLanesLength 34\n",
      "LeftLanesLength 26\n",
      "RightLanesLength 18\n",
      "LeftLanesLength 22\n",
      "RightLanesLength 22\n",
      "LeftLanesLength 28\n",
      "RightLanesLength 32\n"
     ]
    },
    {
     "name": "stderr",
     "output_type": "stream",
     "text": [
      "\u001b[A\u001b[A\u001b[A\u001b[A\n",
      "\n",
      "\n",
      "\n",
      " 89%|████████▊ | 197/222 [00:13<00:01, 15.54it/s]\u001b[A\u001b[A\u001b[A\u001b[A\n",
      "\n",
      "\n",
      "\n",
      " 90%|████████▉ | 199/222 [00:13<00:01, 15.42it/s]"
     ]
    },
    {
     "name": "stdout",
     "output_type": "stream",
     "text": [
      "LeftLanesLength 16\n",
      "RightLanesLength 30\n",
      "LeftLanesLength 16\n",
      "RightLanesLength 16\n",
      "LeftLanesLength 12\n",
      "RightLanesLength 40\n",
      "LeftLanesLength 20\n",
      "RightLanesLength 24\n"
     ]
    },
    {
     "name": "stderr",
     "output_type": "stream",
     "text": [
      "\u001b[A\u001b[A\u001b[A\u001b[A\n",
      "\n",
      "\n",
      "\n",
      " 91%|█████████ | 201/222 [00:13<00:01, 15.43it/s]\u001b[A\u001b[A\u001b[A\u001b[A\n",
      "\n",
      "\n",
      "\n",
      " 91%|█████████▏| 203/222 [00:13<00:01, 15.45it/s]"
     ]
    },
    {
     "name": "stdout",
     "output_type": "stream",
     "text": [
      "LeftLanesLength 18\n",
      "RightLanesLength 32\n",
      "LeftLanesLength 18\n",
      "RightLanesLength 28\n",
      "LeftLanesLength 18\n",
      "RightLanesLength 28\n",
      "LeftLanesLength 20\n",
      "RightLanesLength 28\n"
     ]
    },
    {
     "name": "stderr",
     "output_type": "stream",
     "text": [
      "\u001b[A\u001b[A\u001b[A\u001b[A\n",
      "\n",
      "\n",
      "\n",
      " 92%|█████████▏| 205/222 [00:13<00:01, 15.48it/s]\u001b[A\u001b[A\u001b[A\u001b[A\n",
      "\n",
      "\n",
      "\n",
      " 93%|█████████▎| 207/222 [00:13<00:00, 15.94it/s]"
     ]
    },
    {
     "name": "stdout",
     "output_type": "stream",
     "text": [
      "LeftLanesLength 26\n",
      "RightLanesLength 34\n",
      "LeftLanesLength 26\n",
      "RightLanesLength 18\n",
      "LeftLanesLength 24\n",
      "RightLanesLength 30\n",
      "LeftLanesLength 22\n",
      "RightLanesLength 24\n"
     ]
    },
    {
     "name": "stderr",
     "output_type": "stream",
     "text": [
      "\u001b[A\u001b[A\u001b[A\u001b[A\n",
      "\n",
      "\n",
      "\n",
      " 94%|█████████▍| 209/222 [00:13<00:00, 15.69it/s]\u001b[A\u001b[A\u001b[A\u001b[A\n",
      "\n",
      "\n",
      "\n",
      " 95%|█████████▌| 211/222 [00:13<00:00, 15.57it/s]"
     ]
    },
    {
     "name": "stdout",
     "output_type": "stream",
     "text": [
      "LeftLanesLength 18\n",
      "RightLanesLength 28\n",
      "LeftLanesLength 12\n",
      "RightLanesLength 34\n",
      "LeftLanesLength 14\n",
      "RightLanesLength 12\n",
      "LeftLanesLength 16\n",
      "RightLanesLength 24\n"
     ]
    },
    {
     "name": "stderr",
     "output_type": "stream",
     "text": [
      "\u001b[A\u001b[A\u001b[A\u001b[A\n",
      "\n",
      "\n",
      "\n",
      " 96%|█████████▌| 213/222 [00:14<00:00, 15.84it/s]\u001b[A\u001b[A\u001b[A\u001b[A\n",
      "\n",
      "\n",
      "\n",
      " 97%|█████████▋| 215/222 [00:14<00:00, 15.77it/s]"
     ]
    },
    {
     "name": "stdout",
     "output_type": "stream",
     "text": [
      "LeftLanesLength 14\n",
      "RightLanesLength 24\n",
      "LeftLanesLength 22\n",
      "RightLanesLength 12\n",
      "LeftLanesLength 18\n",
      "RightLanesLength 28\n",
      "LeftLanesLength 22\n",
      "RightLanesLength 12\n"
     ]
    },
    {
     "name": "stderr",
     "output_type": "stream",
     "text": [
      "\u001b[A\u001b[A\u001b[A\u001b[A\n",
      "\n",
      "\n",
      "\n",
      " 98%|█████████▊| 217/222 [00:14<00:00, 15.88it/s]\u001b[A\u001b[A\u001b[A\u001b[A\n",
      "\n",
      "\n",
      "\n",
      " 99%|█████████▊| 219/222 [00:14<00:00, 15.09it/s]"
     ]
    },
    {
     "name": "stdout",
     "output_type": "stream",
     "text": [
      "LeftLanesLength 30\n",
      "RightLanesLength 10\n",
      "LeftLanesLength 24\n",
      "RightLanesLength 18\n",
      "LeftLanesLength 30\n",
      "RightLanesLength 20\n"
     ]
    },
    {
     "name": "stderr",
     "output_type": "stream",
     "text": [
      "\u001b[A\u001b[A\u001b[A\u001b[A\n",
      "\n",
      "\n",
      "\n",
      "100%|█████████▉| 221/222 [00:14<00:00, 15.31it/s]\u001b[A\u001b[A\u001b[A\u001b[A\n",
      "\n",
      "\n",
      "\n",
      "\u001b[A\u001b[A\u001b[A\u001b[A"
     ]
    },
    {
     "name": "stdout",
     "output_type": "stream",
     "text": [
      "LeftLanesLength 16\n",
      "RightLanesLength 16\n",
      "LeftLanesLength 20\n",
      "RightLanesLength 16\n",
      "[MoviePy] Done.\n",
      "[MoviePy] >>>> Video ready: white.mp4 \n",
      "\n",
      "CPU times: user 1min 37s, sys: 3.22 s, total: 1min 40s\n",
      "Wall time: 15.1 s\n"
     ]
    }
   ],
   "source": [
    "white_output = 'white.mp4'\n",
    "clip1 = VideoFileClip(\"solidWhiteRight.mp4\")\n",
    "white_clip = clip1.fl_image(process_image) #NOTE: this function expects color images!!\n",
    "%time white_clip.write_videofile(white_output, audio=False)"
   ]
  },
  {
   "cell_type": "markdown",
   "metadata": {},
   "source": [
    "Play the video inline, or if you prefer find the video in your filesystem (should be in the same directory) and play it in your video player of choice."
   ]
  },
  {
   "cell_type": "code",
   "execution_count": 64,
   "metadata": {
    "collapsed": false
   },
   "outputs": [
    {
     "data": {
      "text/html": [
       "\n",
       "<video width=\"960\" height=\"540\" controls>\n",
       "  <source src=\"white.mp4\">\n",
       "</video>\n"
      ],
      "text/plain": [
       "<IPython.core.display.HTML object>"
      ]
     },
     "execution_count": 64,
     "metadata": {},
     "output_type": "execute_result"
    }
   ],
   "source": [
    "HTML(\"\"\"\n",
    "<video width=\"960\" height=\"540\" controls>\n",
    "  <source src=\"{0}\">\n",
    "</video>\n",
    "\"\"\".format(white_output))"
   ]
  },
  {
   "cell_type": "markdown",
   "metadata": {},
   "source": [
    "**At this point, if you were successful you probably have the Hough line segments drawn onto the road, but what about identifying the full extent of the lane and marking it clearly as in the example video (P1_example.mp4)?  Think about defining a line to run the full length of the visible lane based on the line segments you identified with the Hough Transform.  Modify your draw_lines function accordingly and try re-running your pipeline.**"
   ]
  },
  {
   "cell_type": "markdown",
   "metadata": {},
   "source": [
    "Now for the one with the solid yellow lane on the left. This one's more tricky!"
   ]
  },
  {
   "cell_type": "code",
   "execution_count": null,
   "metadata": {
    "collapsed": false
   },
   "outputs": [],
   "source": [
    "yellow_output = 'yellow.mp4'\n",
    "clip2 = VideoFileClip('solidYellowLeft.mp4')\n",
    "yellow_clip = clip2.fl_image(process_image)\n",
    "%time yellow_clip.write_videofile(yellow_output, audio=False)"
   ]
  },
  {
   "cell_type": "code",
   "execution_count": null,
   "metadata": {
    "collapsed": false
   },
   "outputs": [],
   "source": [
    "HTML(\"\"\"\n",
    "<video width=\"960\" height=\"540\" controls>\n",
    "  <source src=\"{0}\">\n",
    "</video>\n",
    "\"\"\".format(yellow_output))"
   ]
  },
  {
   "cell_type": "markdown",
   "metadata": {},
   "source": [
    "## Reflections\n",
    "\n",
    "Congratulations on finding the lane lines!  As the final step in this project, we would like you to share your thoughts on your lane finding pipeline... specifically, how could you imagine making your algorithm better / more robust?  Where will your current algorithm be likely to fail?\n",
    "\n",
    "Please add your thoughts below,  and if you're up for making your pipeline more robust, be sure to scroll down and check out the optional challenge video below!\n"
   ]
  },
  {
   "cell_type": "markdown",
   "metadata": {},
   "source": [
    "## Submission\n",
    "\n",
    "If you're satisfied with your video outputs it's time to submit!  Submit this ipython notebook for review.\n"
   ]
  },
  {
   "cell_type": "markdown",
   "metadata": {
    "collapsed": true
   },
   "source": [
    "## Optional Challenge\n",
    "\n",
    "Try your lane finding pipeline on the video below.  Does it still work?  Can you figure out a way to make it more robust?  If you're up for the challenge, modify your pipeline so it works with this video and submit it along with the rest of your project!"
   ]
  },
  {
   "cell_type": "code",
   "execution_count": null,
   "metadata": {
    "collapsed": true
   },
   "outputs": [],
   "source": [
    "challenge_output = 'extra.mp4'\n",
    "clip2 = VideoFileClip('challenge.mp4')\n",
    "challenge_clip = clip2.fl_image(process_image)\n",
    "%time challenge_clip.write_videofile(challenge_output, audio=False)"
   ]
  },
  {
   "cell_type": "code",
   "execution_count": null,
   "metadata": {
    "collapsed": true
   },
   "outputs": [],
   "source": [
    "HTML(\"\"\"\n",
    "<video width=\"960\" height=\"540\" controls>\n",
    "  <source src=\"{0}\">\n",
    "</video>\n",
    "\"\"\".format(challenge_output))"
   ]
  }
 ],
 "metadata": {
  "anaconda-cloud": {},
  "kernelspec": {
   "display_name": "Python [conda env:selfdriving]",
   "language": "python",
   "name": "conda-env-selfdriving-py"
  },
  "language_info": {
   "codemirror_mode": {
    "name": "ipython",
    "version": 3
   },
   "file_extension": ".py",
   "mimetype": "text/x-python",
   "name": "python",
   "nbconvert_exporter": "python",
   "pygments_lexer": "ipython3",
   "version": "3.5.2"
  }
 },
 "nbformat": 4,
 "nbformat_minor": 0
}
