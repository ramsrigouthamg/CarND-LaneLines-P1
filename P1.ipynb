{
 "cells": [
  {
   "cell_type": "markdown",
   "metadata": {},
   "source": [
    "# **Finding Lane Lines on the Road** \n",
    "***\n",
    "In this project, you will use the tools you learned about in the lesson to identify lane lines on the road.  You can develop your pipeline on a series of individual images, and later apply the result to a video stream (really just a series of images). Check out the video clip \"raw-lines-example.mp4\" (also contained in this repository) to see what the output should look like after using the helper functions below. \n",
    "\n",
    "Once you have a result that looks roughly like \"raw-lines-example.mp4\", you'll need to get creative and try to average and/or extrapolate the line segments you've detected to map out the full extent of the lane lines.  You can see an example of the result you're going for in the video \"P1_example.mp4\".  Ultimately, you would like to draw just one line for the left side of the lane, and one for the right.\n",
    "\n",
    "---\n",
    "Let's have a look at our first image called 'test_images/solidWhiteRight.jpg'.  Run the 2 cells below (hit Shift-Enter or the \"play\" button above) to display the image.\n",
    "\n",
    "**Note** If, at any point, you encounter frozen display windows or other confounding issues, you can always start again with a clean slate by going to the \"Kernel\" menu above and selecting \"Restart & Clear Output\".\n",
    "\n",
    "---"
   ]
  },
  {
   "cell_type": "markdown",
   "metadata": {},
   "source": [
    "**The tools you have are color selection, region of interest selection, grayscaling, Gaussian smoothing, Canny Edge Detection and Hough Tranform line detection.  You  are also free to explore and try other techniques that were not presented in the lesson.  Your goal is piece together a pipeline to detect the line segments in the image, then average/extrapolate them and draw them onto the image for display (as below).  Once you have a working pipeline, try it out on the video stream below.**\n",
    "\n",
    "---\n",
    "\n",
    "<figure>\n",
    " <img src=\"line-segments-example.jpg\" width=\"380\" alt=\"Combined Image\" />\n",
    " <figcaption>\n",
    " <p></p> \n",
    " <p style=\"text-align: center;\"> Your output should look something like this (above) after detecting line segments using the helper functions below </p> \n",
    " </figcaption>\n",
    "</figure>\n",
    " <p></p> \n",
    "<figure>\n",
    " <img src=\"laneLines_thirdPass.jpg\" width=\"380\" alt=\"Combined Image\" />\n",
    " <figcaption>\n",
    " <p></p> \n",
    " <p style=\"text-align: center;\"> Your goal is to connect/average/extrapolate line segments to get output like this</p> \n",
    " </figcaption>\n",
    "</figure>"
   ]
  },
  {
   "cell_type": "code",
   "execution_count": 24,
   "metadata": {
    "collapsed": false
   },
   "outputs": [],
   "source": [
    "#importing some useful packages\n",
    "import matplotlib.pyplot as plt\n",
    "import matplotlib.image as mpimg\n",
    "import numpy as np\n",
    "import cv2\n",
    "%matplotlib inline"
   ]
  },
  {
   "cell_type": "code",
   "execution_count": null,
   "metadata": {
    "collapsed": false
   },
   "outputs": [],
   "source": [
    "\n"
   ]
  },
  {
   "cell_type": "markdown",
   "metadata": {},
   "source": [
    "**Some OpenCV functions (beyond those introduced in the lesson) that might be useful for this project are:**\n",
    "\n",
    "`cv2.inRange()` for color selection  \n",
    "`cv2.fillPoly()` for regions selection  \n",
    "`cv2.line()` to draw lines on an image given endpoints  \n",
    "`cv2.addWeighted()` to coadd / overlay two images\n",
    "`cv2.cvtColor()` to grayscale or change color\n",
    "`cv2.imwrite()` to output images to file  \n",
    "`cv2.bitwise_and()` to apply a mask to an image\n",
    "\n",
    "**Check out the OpenCV documentation to learn about these and discover even more awesome functionality!**"
   ]
  },
  {
   "cell_type": "markdown",
   "metadata": {},
   "source": [
    "If cvFitLine() returns normalized vector (vx,vy) and point (x0,y0), then the equation of the line is\n",
    "\n",
    "(x,y) = (x0,y0) + t*(vx,vy)\n",
    "\n",
    "where t runs from −∞ to +∞.\n",
    "\n",
    "Just draw a big line instead of solving for the boundaries. eg:\n",
    "\n",
    "cv.Line(img, (x0-m*vx[0], y0-m*vy[0]), (x0+m*vx[0], y0+m*vy[0]), (0,0,0))"
   ]
  },
  {
   "cell_type": "markdown",
   "metadata": {},
   "source": [
    "Below are some helper functions to help get you started. They should look familiar from the lesson!"
   ]
  },
  {
   "cell_type": "code",
   "execution_count": 25,
   "metadata": {
    "collapsed": false
   },
   "outputs": [],
   "source": [
    "import math\n",
    "\n",
    "def grayscale(img):\n",
    "    \"\"\"Applies the Grayscale transform\n",
    "    This will return an image with only one color channel\n",
    "    but NOTE: to see the returned image as grayscale\n",
    "    you should call plt.imshow(gray, cmap='gray')\"\"\"\n",
    "    #return cv2.cvtColor(img, cv2.COLOR_RGB2GRAY)\n",
    "    # Or use BGR2GRAY if you read an image with cv2.imread()\n",
    "    return cv2.cvtColor(img, cv2.COLOR_BGR2GRAY)\n",
    "    \n",
    "def canny(img, low_threshold, high_threshold):\n",
    "    \"\"\"Applies the Canny transform\"\"\"\n",
    "    return cv2.Canny(img, low_threshold, high_threshold)\n",
    "\n",
    "def gaussian_blur(img, kernel_size):\n",
    "    \"\"\"Applies a Gaussian Noise kernel\"\"\"\n",
    "    return cv2.GaussianBlur(img, (kernel_size, kernel_size), 0)\n",
    "\n",
    "def region_of_interest(img, vertices):\n",
    "    \"\"\"\n",
    "    Applies an image mask.\n",
    "    \n",
    "    Only keeps the region of the image defined by the polygon\n",
    "    formed from `vertices`. The rest of the image is set to black.\n",
    "    \"\"\"\n",
    "    #defining a blank mask to start with\n",
    "    mask = np.zeros_like(img)   \n",
    "    \n",
    "    #defining a 3 channel or 1 channel color to fill the mask with depending on the input image\n",
    "    if len(img.shape) > 2:\n",
    "        channel_count = img.shape[2]  # i.e. 3 or 4 depending on your image\n",
    "        ignore_mask_color = (255,) * channel_count\n",
    "    else:\n",
    "        ignore_mask_color = 255\n",
    "        \n",
    "    #filling pixels inside the polygon defined by \"vertices\" with the fill color    \n",
    "    cv2.fillPoly(mask, vertices, ignore_mask_color)\n",
    "    \n",
    "    #returning the image only where mask pixels are nonzero\n",
    "    masked_image = cv2.bitwise_and(img, mask)\n",
    "    return masked_image\n",
    "\n",
    "\n",
    "def draw_lines(img, lines, color=[0, 0, 255], thickness=2):\n",
    "    \"\"\"\n",
    "    NOTE: this is the function you might want to use as a starting point once you want to \n",
    "    average/extrapolate the line segments you detect to map out the full\n",
    "    extent of the lane (going from the result shown in raw-lines-example.mp4\n",
    "    to that shown in P1_example.mp4).  \n",
    "    \n",
    "    Think about things like separating line segments by their \n",
    "    slope ((y2-y1)/(x2-x1)) to decide which segments are part of the left\n",
    "    line vs. the right line.  Then, you can average the position of each of \n",
    "    the lines and extrapolate to the top and bottom of the lane.\n",
    "    \n",
    "    This function draws `lines` with `color` and `thickness`.    \n",
    "    Lines are drawn on the image inplace (mutates the image).\n",
    "    If you want to make the lines semi-transparent, think about combining\n",
    "    this function with the weighted_img() function below\n",
    "    \"\"\"\n",
    "    filtered_lines = []\n",
    "    Min_angle = math.tan(math.pi/9) # 20 degrees\n",
    "    Max_angle = math.tan(math.pi*7/18)  # 70 degrees\n",
    "    print (\"Min_angle\",Min_angle)\n",
    "    print (\"Max_angle\",Max_angle)\n",
    "    # Filter lines that have slope near horizontal or near vertical\n",
    "    for line in lines:\n",
    "        for x1,y1,x2,y2 in line:\n",
    "            if x1 !=x2:\n",
    "                slope= ((y2-y1)/(x2-x1))\n",
    "                if abs(slope) > Min_angle and abs(slope) < Max_angle:\n",
    "                    filtered_lines.append([x1,y1,x2,y2,slope])\n",
    "                    \n",
    "                \n",
    "                \n",
    "    \n",
    "    \n",
    "    # Sort the lines by their slopes.\n",
    "    lines = sorted(filtered_lines,key=lambda coordinates: coordinates[4])\n",
    "    \n",
    "    #print (\"lines \",lines)\n",
    "\n",
    "    \n",
    "#     for line in lines:\n",
    "#         print ((line[3]-line[1])/(line[2]-line[0]))\n",
    "#         print (\"\\n\")\n",
    "    Left_Lines=[]\n",
    "    Right_Lines=[]\n",
    "    for line in lines:\n",
    "        print (line)\n",
    "        x1,y1,x2,y2,slope = line\n",
    "        if slope <0:\n",
    "            # Left Line\n",
    "            color=[0, 0, 255]\n",
    "            Left_Lines.append((x1,y1))\n",
    "            Left_Lines.append((x2,y2))\n",
    "            \n",
    "        else:\n",
    "            # Right Line\n",
    "            color=[255, 0, 0]\n",
    "            Right_Lines.append((x1,y1))\n",
    "            Right_Lines.append((x2,y2))\n",
    "#             print (\"\\n\")\n",
    "#         cv2.line(img, (x1, y1), (x2, y2), color, thickness)\n",
    "    \n",
    "    param = 0\n",
    "    reps = 0.01 \n",
    "    aeps = 0.01\n",
    "    vx_left, vy_left, cx_left, cy_left  = cv2.fitLine(np.array(Left_Lines), cv2.DIST_L2, param, reps, aeps) \n",
    "    vx_right, vy_right, cx_right, cy_right  = cv2.fitLine(np.array(Right_Lines), cv2.DIST_L2, param, reps, aeps)\n",
    "    print (\"vx_left, vy_left, cx_left, cy_left \", vx_left, vy_left, cx_left, cy_left)\n",
    "    print (\"vx_right , vy_right , cx_right , cy_right  \", vx_right , vy_right , cx_right , cy_right )\n",
    "    m_left = 100\n",
    "    m_right= 100\n",
    "    y_max = int(imshape[0])\n",
    "    print (\"y_max \",y_max)\n",
    "    y_min = int((imshape[0]/2)+(imshape[0]/8))\n",
    "    m_left_bottom = float(y_max - cy_left)/float(vy_left)  \n",
    "    print (\"m_left_bottom \",m_left_bottom)\n",
    "    m_left_up = float(y_min - cy_left)/float(vy_left)\n",
    "    \n",
    "    m_right_bottom = float(y_max - cy_right)/float(vy_right)  \n",
    "    print (\"m_right_bottom \",m_right_bottom)\n",
    "    m_right_up = float(y_min - cy_right)/float(vy_right)\n",
    "    \n",
    "    point_x1_left = int(cx_left+m_left_bottom*vx_left)\n",
    "    point_y1_left = int(cy_left+m_left_bottom*vy_left)\n",
    "    point_x2_left = int(cx_left+m_left_up*vx_left)\n",
    "    point_y2_left = int(cy_left+m_left_up*vy_left)\n",
    "    \n",
    "    point_x1_right = int(cx_right+m_right_bottom*vx_right)\n",
    "    point_y1_right = int(cy_right+m_right_bottom*vy_right)\n",
    "    point_x2_right = int(cx_right+m_right_up*vx_right)\n",
    "    point_y2_right = int(cy_right+m_right_up*vy_right)\n",
    "    print (\"point_x1_left, point_y1_left, point_x2_left, point_y2_left \", point_x1_left, point_y1_left, point_x2_left, point_y2_left)\n",
    "    print (\"point_x1_right, point_y1_right, point_x2_right, point_y2_right \", point_x1_right, point_y1_right, point_x2_right, point_y2_right)\n",
    "    cv2.line(img, (point_x1_left, point_y1_left), (point_x2_left, point_y2_left), (255,0,0),3)\n",
    "    cv2.line(img, (point_x1_right, point_y1_right), (point_x2_right, point_y2_right), (0,0,255),3)\n",
    "            \n",
    "#     print (\"Left Lines: \")\n",
    "#     print (Left_Lines)\n",
    "#     print (\"Right Lines: \")\n",
    "#     print (Right_Lines)\n",
    "\n",
    "def hough_lines(img, rho, theta, threshold, min_line_len, max_line_gap):\n",
    "    \"\"\"\n",
    "    `img` should be the output of a Canny transform.\n",
    "        \n",
    "    Returns an image with hough lines drawn.\n",
    "    \"\"\"\n",
    "    lines = cv2.HoughLinesP(img, rho, theta, threshold, np.array([]), minLineLength=min_line_len, maxLineGap=max_line_gap)\n",
    "    line_img = np.zeros((img.shape[0], img.shape[1], 3), dtype=np.uint8)\n",
    "    draw_lines(line_img, lines)\n",
    "    return line_img\n",
    "\n",
    "# Python 3 has support for cool math symbols.\n",
    "\n",
    "def weighted_img(img, initial_img, α=0.8, β=1., λ=0.):\n",
    "    \"\"\"\n",
    "    `img` is the output of the hough_lines(), An image with lines drawn on it.\n",
    "    Should be a blank image (all black) with lines drawn on it.\n",
    "    \n",
    "    `initial_img` should be the image before any processing.\n",
    "    \n",
    "    The result image is computed as follows:\n",
    "    \n",
    "    initial_img * α + img * β + λ\n",
    "    NOTE: initial_img and img must be the same shape!\n",
    "    \"\"\"\n",
    "    return cv2.addWeighted(initial_img, α, img, β, λ)"
   ]
  },
  {
   "cell_type": "markdown",
   "metadata": {},
   "source": [
    "## Test on Images\n",
    "\n",
    "Now you should build your pipeline to work on the images in the directory \"test_images\"  \n",
    "**You should make sure your pipeline works well on these images before you try the videos.**"
   ]
  },
  {
   "cell_type": "code",
   "execution_count": 26,
   "metadata": {
    "collapsed": false
   },
   "outputs": [
    {
     "data": {
      "text/plain": [
       "['solidWhiteRight.jpg',\n",
       " 'solidWhiteCurve.jpg',\n",
       " 'solidYellowCurve.jpg',\n",
       " 'solidYellowLeft.jpg',\n",
       " 'whiteCarLaneSwitch.jpg',\n",
       " 'solidYellowCurve2.jpg']"
      ]
     },
     "execution_count": 26,
     "metadata": {},
     "output_type": "execute_result"
    }
   ],
   "source": [
    "import os\n",
    "os.listdir(\"test_images/\")"
   ]
  },
  {
   "cell_type": "markdown",
   "metadata": {},
   "source": [
    "run your solution on all test_images and make copies into the test_images directory)."
   ]
  },
  {
   "cell_type": "code",
   "execution_count": 27,
   "metadata": {
    "collapsed": false
   },
   "outputs": [
    {
     "name": "stdout",
     "output_type": "stream",
     "text": [
      "This image is: test_images/solidWhiteRight.jpg with dimesions: (540, 960, 3)\n",
      "Min_angle 0.36397023426620234\n",
      "Max_angle 2.7474774194546216\n",
      "[393, 372, 439, 339, -0.71739130434782605]\n",
      "[387, 371, 435, 337, -0.70833333333333337]\n",
      "[390, 369, 436, 337, -0.69565217391304346]\n",
      "[318, 425, 362, 395, -0.68181818181818177]\n",
      "[389, 372, 439, 338, -0.68000000000000005]\n",
      "[310, 423, 356, 392, -0.67391304347826086]\n",
      "[316, 425, 357, 398, -0.65853658536585369]\n",
      "[547, 347, 609, 385, 0.61290322580645162]\n",
      "[530, 337, 853, 539, 0.62538699690402477]\n",
      "[660, 426, 718, 463, 0.63793103448275867]\n",
      "[772, 499, 822, 531, 0.64000000000000001]\n",
      "[787, 496, 840, 530, 0.64150943396226412]\n",
      "[525, 337, 772, 498, 0.65182186234817818]\n",
      "[721, 466, 832, 539, 0.65765765765765771]\n",
      "vx_left, vy_left, cx_left, cy_left  [ 0.81567657] [-0.57850814] [ 380.5] [ 378.07144165]\n",
      "vx_right , vy_right , cx_right , cy_right   [ 0.84107566] [ 0.54091752] [ 713.42858887] [ 456.64285278]\n",
      "y_max  540\n",
      "m_left_bottom  -279.9071396396118\n",
      "m_right_bottom  154.1032501055086\n",
      "point_x1_left, point_y1_left, point_x2_left, point_y2_left  152 540 438 337\n",
      "point_x1_right, point_y1_right, point_x2_right, point_y2_right  843 540 527 337\n",
      "This image is: test_images/solidWhiteCurve.jpg with dimesions: (540, 960, 3)\n",
      "Min_angle 0.36397023426620234\n",
      "Max_angle 2.7474774194546216\n",
      "[293, 462, 352, 412, -0.84745762711864403]\n",
      "[387, 382, 440, 339, -0.81132075471698117]\n",
      "[389, 382, 442, 340, -0.79245283018867929]\n",
      "[383, 382, 437, 340, -0.77777777777777779]\n",
      "[294, 449, 346, 410, -0.75]\n",
      "[389, 380, 442, 341, -0.73584905660377353]\n",
      "[664, 408, 841, 506, 0.5536723163841808]\n",
      "[535, 337, 898, 538, 0.55371900826446285]\n",
      "[590, 368, 654, 404, 0.5625]\n",
      "[823, 508, 876, 538, 0.56603773584905659]\n",
      "[532, 339, 877, 538, 0.57681159420289851]\n",
      "[589, 372, 637, 400, 0.58333333333333337]\n",
      "vx_left, vy_left, cx_left, cy_left  [ 0.7861923] [-0.61798191] [ 382.83334351] [ 384.91665649]\n",
      "vx_right , vy_right , cx_right , cy_right   [ 0.8690328] [ 0.49475446] [ 709.66668701] [ 438.]\n",
      "y_max  540\n",
      "m_left_bottom  -250.95126705051382\n",
      "m_right_bottom  206.1628697434915\n",
      "point_x1_left, point_y1_left, point_x2_left, point_y2_left  185 540 443 337\n",
      "point_x1_right, point_y1_right, point_x2_right, point_y2_right  888 540 532 337\n",
      "This image is: test_images/solidYellowCurve.jpg with dimesions: (540, 960, 3)\n",
      "Min_angle 0.36397023426620234\n",
      "Max_angle 2.7474774194546216\n",
      "[376, 384, 437, 337, -0.77049180327868849]\n",
      "[250, 483, 441, 339, -0.75392670157068065]\n",
      "[322, 430, 427, 351, -0.75238095238095237]\n",
      "[194, 523, 240, 490, -0.71739130434782605]\n",
      "[218, 505, 260, 475, -0.7142857142857143]\n",
      "[203, 504, 248, 472, -0.71111111111111114]\n",
      "[155, 538, 396, 369, -0.70124481327800825]\n",
      "[155, 537, 302, 434, -0.70068027210884354]\n",
      "[390, 372, 442, 337, -0.67307692307692313]\n",
      "[525, 340, 584, 372, 0.5423728813559322]\n",
      "[611, 391, 658, 417, 0.55319148936170215]\n",
      "[613, 391, 658, 416, 0.55555555555555558]\n",
      "[525, 342, 581, 374, 0.5714285714285714]\n",
      "[606, 393, 648, 419, 0.61904761904761907]\n",
      "[605, 391, 650, 419, 0.62222222222222223]\n",
      "vx_left, vy_left, cx_left, cy_left  [ 0.81078982] [-0.5853374] [ 303.1111145] [ 437.777771]\n",
      "vx_right , vy_right , cx_right , cy_right   [ 0.8576867] [ 0.51417261] [ 605.33331299] [ 388.75]\n",
      "y_max  540\n",
      "m_left_bottom  -174.63812995324395\n",
      "m_right_bottom  294.1619137100883\n",
      "point_x1_left, point_y1_left, point_x2_left, point_y2_left  161 540 442 337\n",
      "point_x1_right, point_y1_right, point_x2_right, point_y2_right  857 540 519 337\n",
      "This image is: test_images/solidYellowLeft.jpg with dimesions: (540, 960, 3)\n",
      "Min_angle 0.36397023426620234\n",
      "Max_angle 2.7474774194546216\n",
      "[214, 499, 264, 462, -0.73999999999999999]\n",
      "[199, 510, 437, 337, -0.72689075630252098]\n",
      "[158, 538, 207, 503, -0.7142857142857143]\n",
      "[138, 538, 372, 380, -0.67521367521367526]\n",
      "[341, 400, 383, 372, -0.66666666666666663]\n",
      "[738, 465, 780, 490, 0.59523809523809523]\n",
      "[671, 424, 783, 491, 0.5982142857142857]\n",
      "[538, 341, 579, 366, 0.6097560975609756]\n",
      "[662, 424, 769, 493, 0.64485981308411211]\n",
      "[661, 424, 767, 493, 0.65094339622641506]\n",
      "[534, 337, 578, 366, 0.65909090909090906]\n",
      "[531, 338, 575, 368, 0.68181818181818177]\n",
      "vx_left, vy_left, cx_left, cy_left  [ 0.81276739] [-0.58258837] [ 271.29998779] [ 453.8999939]\n",
      "vx_right , vy_right , cx_right , cy_right   [ 0.844944] [ 0.53485477] [ 654.71429443] [ 415.71429443]\n",
      "y_max  540\n",
      "m_left_bottom  -147.7887473474841\n",
      "m_right_bottom  232.372809603166\n",
      "point_x1_left, point_y1_left, point_x2_left, point_y2_left  151 540 434 337\n",
      "point_x1_right, point_y1_right, point_x2_right, point_y2_right  851 540 530 337\n",
      "This image is: test_images/whiteCarLaneSwitch.jpg with dimesions: (540, 960, 3)\n",
      "Min_angle 0.36397023426620234\n",
      "Max_angle 2.7474774194546216\n",
      "[197, 537, 251, 494, -0.79629629629629628]\n",
      "[346, 419, 411, 368, -0.7846153846153846]\n",
      "[195, 539, 311, 448, -0.78448275862068961]\n",
      "[314, 444, 390, 386, -0.76315789473684215]\n",
      "[300, 455, 354, 414, -0.7592592592592593]\n",
      "[342, 422, 454, 337, -0.7589285714285714]\n",
      "[176, 539, 374, 390, -0.75252525252525249]\n",
      "[322, 430, 417, 359, -0.74736842105263157]\n",
      "[527, 339, 607, 381, 0.52500000000000002]\n",
      "[531, 340, 607, 380, 0.52631578947368418]\n",
      "[751, 465, 884, 538, 0.54887218045112784]\n",
      "[754, 465, 817, 500, 0.55555555555555558]\n",
      "[531, 337, 588, 369, 0.56140350877192979]\n",
      "[823, 505, 883, 539, 0.56666666666666665]\n",
      "[527, 338, 605, 383, 0.57692307692307687]\n",
      "[743, 467, 863, 539, 0.59999999999999998]\n",
      "[743, 466, 863, 538, 0.59999999999999998]\n",
      "[530, 337, 600, 382, 0.6428571428571429]\n",
      "vx_left, vy_left, cx_left, cy_left  [ 0.79112679] [-0.61165214] [ 322.125] [ 436.3125]\n",
      "vx_right , vy_right , cx_right , cy_right   [ 0.86515832] [ 0.50149882] [ 688.84997559] [ 430.3999939]\n",
      "y_max  540\n",
      "m_left_bottom  -169.5203759177222\n",
      "m_right_bottom  218.54489399143355\n",
      "point_x1_left, point_y1_left, point_x2_left, point_y2_left  188 540 450 337\n",
      "point_x1_right, point_y1_right, point_x2_right, point_y2_right  877 540 527 337\n",
      "This image is: test_images/solidYellowCurve2.jpg with dimesions: (540, 960, 3)\n",
      "Min_angle 0.36397023426620234\n",
      "Max_angle 2.7474774194546216\n",
      "[332, 422, 397, 372, -0.76923076923076927]\n",
      "[175, 528, 222, 492, -0.76595744680851063]\n",
      "[209, 503, 251, 471, -0.76190476190476186]\n",
      "[284, 457, 410, 362, -0.75396825396825395]\n",
      "[179, 538, 260, 477, -0.75308641975308643]\n",
      "[249, 474, 319, 422, -0.74285714285714288]\n",
      "[296, 440, 362, 391, -0.74242424242424243]\n",
      "[228, 500, 282, 460, -0.7407407407407407]\n",
      "[317, 425, 439, 337, -0.72131147540983609]\n",
      "[190, 516, 250, 473, -0.71666666666666667]\n",
      "[396, 367, 436, 344, -0.57499999999999996]\n",
      "[711, 445, 874, 539, 0.57668711656441718]\n",
      "[718, 448, 874, 538, 0.57692307692307687]\n",
      "[537, 342, 591, 374, 0.59259259259259256]\n",
      "[537, 344, 591, 376, 0.59259259259259256]\n",
      "[700, 447, 852, 538, 0.59868421052631582]\n",
      "[536, 342, 591, 375, 0.59999999999999998]\n",
      "[714, 456, 851, 539, 0.6058394160583942]\n",
      "[536, 343, 588, 376, 0.63461538461538458]\n",
      "vx_left, vy_left, cx_left, cy_left  [ 0.80774266] [-0.58953524] [ 294.68182373] [ 444.13635254]\n",
      "vx_right , vy_right , cx_right , cy_right   [ 0.85763526] [ 0.51425844] [ 675.0625] [ 426.375]\n",
      "y_max  540\n",
      "m_left_bottom  -162.60885108929952\n",
      "m_right_bottom  220.94921582206408\n",
      "point_x1_left, point_y1_left, point_x2_left, point_y2_left  163 540 441 337\n",
      "point_x1_right, point_y1_right, point_x2_right, point_y2_right  864 540 526 337\n"
     ]
    }
   ],
   "source": [
    "# TODO: Build your pipeline that will draw lane lines on the test_images\n",
    "# then save them to the test_images directory.\n",
    "\n",
    "for imageFile in os.listdir(\"test_images/\"):\n",
    "    #reading in an image\n",
    "    imageName = os.path.join(\"test_images\",imageFile)\n",
    "    image = cv2.imread(imageName)\n",
    "    #printing out some stats and plotting\n",
    "    print('This image is:', imageName, 'with dimesions:', image.shape)\n",
    "    # Convert image to grayscale\n",
    "    gray = grayscale(image)\n",
    "\n",
    "\n",
    "    # Define a kernel size and apply Gaussian smoothing\n",
    "    kernel_size = 5\n",
    "    blur_gray = gaussian_blur(gray,5)\n",
    "\n",
    "    # Define our parameters for Canny and apply\n",
    "    low_threshold = 50\n",
    "    high_threshold = 150\n",
    "    edges = canny(blur_gray, low_threshold, high_threshold)\n",
    "\n",
    "    # Define Region of Interest\n",
    "    imshape = edges.shape\n",
    "    offset_x = imshape[1]/10\n",
    "    offset_y = imshape[0]/8\n",
    "    vertices = np.array([[(0,imshape[0]),(imshape[1]/2-offset_x, imshape[0]/2+offset_y), (imshape[1]/2+offset_x, imshape[0]/2+offset_y), (imshape[1],imshape[0])]], dtype=np.int32)\n",
    "    ROI = region_of_interest(edges,vertices)\n",
    "    # cv2.imwrite(\"output_ROI.jpg\",ROI) \n",
    "\n",
    "    # Define the Hough transform parameters\n",
    "    # Make a blank the same size as our image to draw on\n",
    "    rho = 2 # distance resolution in pixels of the Hough grid\n",
    "    theta = np.pi/180 # angular resolution in radians of the Hough grid\n",
    "    threshold = 15     # minimum number of votes (intersections in Hough grid cell)\n",
    "    min_line_len = 40 #minimum number of pixels making up a line\n",
    "    max_line_gap = 20    # maximum gap in pixels between connectable line segments\n",
    "\n",
    "    # Run Hough on edge detected image\n",
    "    # Output \"lines\" is an array containing endpoints of detected line segments\n",
    "    line_image = hough_lines(ROI, rho, theta, threshold, min_line_len, max_line_gap)\n",
    "\n",
    "    final_image =  weighted_img(line_image,image,α=0.4,β=6.0)\n",
    "\n",
    "    #lanesFilename = os.path.join('output',imageFile.split('.')[0]+'_outputLanes.jpg')\n",
    "    finalFilename = os.path.join('test_images',imageFile.split('.')[0]+'_outputFinal.jpg')\n",
    "    #cv2.imwrite(lanesFilename,line_image)\n",
    "    cv2.imwrite(finalFilename,final_image)"
   ]
  },
  {
   "cell_type": "markdown",
   "metadata": {},
   "source": [
    "## Test on Videos\n",
    "\n",
    "You know what's cooler than drawing lanes over images? Drawing lanes over video!\n",
    "\n",
    "We can test our solution on two provided videos:\n",
    "\n",
    "`solidWhiteRight.mp4`\n",
    "\n",
    "`solidYellowLeft.mp4`"
   ]
  },
  {
   "cell_type": "code",
   "execution_count": null,
   "metadata": {
    "collapsed": true
   },
   "outputs": [],
   "source": [
    "# Import everything needed to edit/save/watch video clips\n",
    "from moviepy.editor import VideoFileClip\n",
    "from IPython.display import HTML"
   ]
  },
  {
   "cell_type": "code",
   "execution_count": null,
   "metadata": {
    "collapsed": true
   },
   "outputs": [],
   "source": [
    "def process_image(image):\n",
    "    # NOTE: The output you return should be a color image (3 channel) for processing video below\n",
    "    # TODO: put your pipeline here,\n",
    "    # you should return the final output (image with lines are drawn on lanes)\n",
    "\n",
    "    return result"
   ]
  },
  {
   "cell_type": "markdown",
   "metadata": {},
   "source": [
    "Let's try the one with the solid white lane on the right first ..."
   ]
  },
  {
   "cell_type": "code",
   "execution_count": null,
   "metadata": {
    "collapsed": false
   },
   "outputs": [],
   "source": [
    "white_output = 'white.mp4'\n",
    "clip1 = VideoFileClip(\"solidWhiteRight.mp4\")\n",
    "white_clip = clip1.fl_image(process_image) #NOTE: this function expects color images!!\n",
    "%time white_clip.write_videofile(white_output, audio=False)"
   ]
  },
  {
   "cell_type": "markdown",
   "metadata": {},
   "source": [
    "Play the video inline, or if you prefer find the video in your filesystem (should be in the same directory) and play it in your video player of choice."
   ]
  },
  {
   "cell_type": "code",
   "execution_count": null,
   "metadata": {
    "collapsed": false
   },
   "outputs": [],
   "source": [
    "HTML(\"\"\"\n",
    "<video width=\"960\" height=\"540\" controls>\n",
    "  <source src=\"{0}\">\n",
    "</video>\n",
    "\"\"\".format(white_output))"
   ]
  },
  {
   "cell_type": "markdown",
   "metadata": {},
   "source": [
    "**At this point, if you were successful you probably have the Hough line segments drawn onto the road, but what about identifying the full extent of the lane and marking it clearly as in the example video (P1_example.mp4)?  Think about defining a line to run the full length of the visible lane based on the line segments you identified with the Hough Transform.  Modify your draw_lines function accordingly and try re-running your pipeline.**"
   ]
  },
  {
   "cell_type": "markdown",
   "metadata": {},
   "source": [
    "Now for the one with the solid yellow lane on the left. This one's more tricky!"
   ]
  },
  {
   "cell_type": "code",
   "execution_count": null,
   "metadata": {
    "collapsed": false
   },
   "outputs": [],
   "source": [
    "yellow_output = 'yellow.mp4'\n",
    "clip2 = VideoFileClip('solidYellowLeft.mp4')\n",
    "yellow_clip = clip2.fl_image(process_image)\n",
    "%time yellow_clip.write_videofile(yellow_output, audio=False)"
   ]
  },
  {
   "cell_type": "code",
   "execution_count": null,
   "metadata": {
    "collapsed": false
   },
   "outputs": [],
   "source": [
    "HTML(\"\"\"\n",
    "<video width=\"960\" height=\"540\" controls>\n",
    "  <source src=\"{0}\">\n",
    "</video>\n",
    "\"\"\".format(yellow_output))"
   ]
  },
  {
   "cell_type": "markdown",
   "metadata": {},
   "source": [
    "## Reflections\n",
    "\n",
    "Congratulations on finding the lane lines!  As the final step in this project, we would like you to share your thoughts on your lane finding pipeline... specifically, how could you imagine making your algorithm better / more robust?  Where will your current algorithm be likely to fail?\n",
    "\n",
    "Please add your thoughts below,  and if you're up for making your pipeline more robust, be sure to scroll down and check out the optional challenge video below!\n"
   ]
  },
  {
   "cell_type": "markdown",
   "metadata": {},
   "source": [
    "## Submission\n",
    "\n",
    "If you're satisfied with your video outputs it's time to submit!  Submit this ipython notebook for review.\n"
   ]
  },
  {
   "cell_type": "markdown",
   "metadata": {
    "collapsed": true
   },
   "source": [
    "## Optional Challenge\n",
    "\n",
    "Try your lane finding pipeline on the video below.  Does it still work?  Can you figure out a way to make it more robust?  If you're up for the challenge, modify your pipeline so it works with this video and submit it along with the rest of your project!"
   ]
  },
  {
   "cell_type": "code",
   "execution_count": null,
   "metadata": {
    "collapsed": true
   },
   "outputs": [],
   "source": [
    "challenge_output = 'extra.mp4'\n",
    "clip2 = VideoFileClip('challenge.mp4')\n",
    "challenge_clip = clip2.fl_image(process_image)\n",
    "%time challenge_clip.write_videofile(challenge_output, audio=False)"
   ]
  },
  {
   "cell_type": "code",
   "execution_count": null,
   "metadata": {
    "collapsed": true
   },
   "outputs": [],
   "source": [
    "HTML(\"\"\"\n",
    "<video width=\"960\" height=\"540\" controls>\n",
    "  <source src=\"{0}\">\n",
    "</video>\n",
    "\"\"\".format(challenge_output))"
   ]
  }
 ],
 "metadata": {
  "anaconda-cloud": {},
  "kernelspec": {
   "display_name": "Python [conda env:selfdriving]",
   "language": "python",
   "name": "conda-env-selfdriving-py"
  },
  "language_info": {
   "codemirror_mode": {
    "name": "ipython",
    "version": 3
   },
   "file_extension": ".py",
   "mimetype": "text/x-python",
   "name": "python",
   "nbconvert_exporter": "python",
   "pygments_lexer": "ipython3",
   "version": "3.5.2"
  }
 },
 "nbformat": 4,
 "nbformat_minor": 0
}
